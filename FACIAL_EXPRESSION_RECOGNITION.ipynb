{
  "cells": [
    {
      "cell_type": "markdown",
      "metadata": {
        "id": "view-in-github",
        "colab_type": "text"
      },
      "source": [
        "<a href=\"https://colab.research.google.com/github/SuseemVikram/Machine-Learning-Projects/blob/main/FACIAL_EXPRESSION_RECOGNITION.ipynb\" target=\"_parent\"><img src=\"https://colab.research.google.com/assets/colab-badge.svg\" alt=\"Open In Colab\"/></a>"
      ]
    },
    {
      "cell_type": "markdown",
      "metadata": {
        "id": "65Qe0TOUt4NS"
      },
      "source": [
        "# ***FACIAL EXPRESSION RECOGNITION***"
      ]
    },
    {
      "cell_type": "markdown",
      "metadata": {
        "id": "K0jo9UY3EpBz"
      },
      "source": [
        "**Mounting Google drive**\n"
      ]
    },
    {
      "cell_type": "code",
      "execution_count": 1,
      "metadata": {
        "colab": {
          "base_uri": "https://localhost:8080/"
        },
        "id": "u8PvDJsfuqeQ",
        "outputId": "111e8d20-b533-4b3e-f696-0f6fdfefe9a7"
      },
      "outputs": [
        {
          "output_type": "stream",
          "name": "stdout",
          "text": [
            "Drive already mounted at /content/drive; to attempt to forcibly remount, call drive.mount(\"/content/drive\", force_remount=True).\n"
          ]
        }
      ],
      "source": [
        "from google.colab import drive\n",
        "drive.mount('/content/drive')"
      ]
    },
    {
      "cell_type": "markdown",
      "metadata": {
        "id": "I3VtvYZnEvRW"
      },
      "source": [
        "**Loading the raw data**"
      ]
    },
    {
      "cell_type": "code",
      "execution_count": 2,
      "metadata": {
        "id": "uvEecNhIt485"
      },
      "outputs": [],
      "source": [
        "import os\n",
        "import cv2\n",
        "import os.path\n",
        "import numpy as np\n",
        "import seaborn as sns\n",
        "import matplotlib.pyplot as plt\n",
        "import pandas as pd\n",
        "import sklearn\n",
        "\n",
        "from pathlib import Path\n",
        "from pandas import read_csv\n",
        "from sklearn import datasets\n",
        "from skimage.io import imread\n",
        "from skimage.transform import resize\n",
        "from sklearn.model_selection import train_test_split\n",
        "from sklearn.feature_extraction.text import CountVectorizer\n",
        "\n",
        "from sklearn import metrics\n",
        "from sklearn.metrics import confusion_matrix  \n",
        "from sklearn.metrics import mean_squared_error, r2_score\n",
        "from sklearn.metrics import confusion_matrix, accuracy_score\n",
        "from sklearn.metrics import accuracy_score,classification_report,confusion_matrix\n",
        "\n",
        "from sklearn.svm import SVC\n",
        "from sklearn.linear_model import Lasso\n",
        "from sklearn.linear_model import Ridge\n",
        "from sklearn.naive_bayes import GaussianNB\n",
        "from sklearn.naive_bayes import MultinomialNB\n",
        "from sklearn.tree import DecisionTreeClassifier\n",
        "from sklearn.linear_model import LinearRegression\n",
        "from sklearn.linear_model import LogisticRegression\n",
        "from sklearn.ensemble import RandomForestClassifier"
      ]
    },
    {
      "cell_type": "code",
      "execution_count": 3,
      "metadata": {
        "id": "Mv1UiiLkvTLf"
      },
      "outputs": [],
      "source": [
        "#train folder consists Training Images and test folder consists Testing Images\n",
        "DATADIR=r\"/content/drive/MyDrive/Machine Learning 4th sem/train\"\n",
        "DATADIRtest=r\"/content/drive/MyDrive/Machine Learning 4th sem/test\"\n",
        "Cate = ['angry','disgust','fear','happy','neutral','sad','surprise']"
      ]
    },
    {
      "cell_type": "code",
      "execution_count": 4,
      "metadata": {
        "colab": {
          "base_uri": "https://localhost:8080/"
        },
        "id": "MsRgFqqohG6O",
        "outputId": "11ac78da-91f4-4d26-f233-58df8f879358"
      },
      "outputs": [
        {
          "output_type": "stream",
          "name": "stdout",
          "text": [
            "[[0.58235294 0.70294118 0.68431373 ... 0.47941176 0.28039216 0.20784314]\n",
            " [0.11372549 0.2127451  0.25686275 ... 0.38137255 0.24901961 0.14901961]\n",
            " [0.71470588 0.69607843 0.65980392 ... 0.38431373 0.20686275 0.03235294]\n",
            " ...\n",
            " [0.20980392 0.24901961 0.25784314 ... 0.48921569 0.60196078 0.46862745]\n",
            " [0.8872549  0.50882353 0.6372549  ... 0.58627451 0.53627451 0.47352941]\n",
            " [0.83921569 0.8372549  0.87254902 ... 0.59607843 0.68529412 0.90196078]]\n"
          ]
        }
      ],
      "source": [
        "label = []\n",
        "flat_data = []\n",
        "\n",
        "def create_training_data():\n",
        "    i=1\n",
        "    for category in Cate:\n",
        "        class_num=Cate.index(category)\n",
        "        path=os.path.join(DATADIR,category)\n",
        "        for img in os.listdir(path):\n",
        "            img_array=imread(os.path.join(path,img))\n",
        "            img_resized=resize(img_array,(8,8,3))\n",
        "            img_black = np.mean(img_resized,axis=2)\n",
        "            flat_data.append(img_black.flatten())\n",
        "            label.append(class_num)\n",
        "            \n",
        "create_training_data()\n",
        "\n",
        "flat_data=np.array(flat_data)\n",
        "label=np.array(label)\n",
        "\n",
        "print(flat_data)\n",
        "label=pd.DataFrame(label)\n"
      ]
    },
    {
      "cell_type": "code",
      "execution_count": 5,
      "metadata": {
        "colab": {
          "base_uri": "https://localhost:8080/",
          "height": 362
        },
        "id": "3pHqgduahQq0",
        "outputId": "d4d030b9-ea43-4db5-ba34-20179f0dfca9"
      },
      "outputs": [
        {
          "output_type": "execute_result",
          "data": {
            "text/plain": [
              "         0         1         2         3         4         5         6   \\\n",
              "0  0.582353  0.702941  0.684314  0.604902  0.648039  0.583333  0.538235   \n",
              "1  0.113725  0.212745  0.256863  0.555882  0.624510  0.538235  0.368627   \n",
              "2  0.714706  0.696078  0.659804  0.645098  0.643137  0.614706  0.522549   \n",
              "3  0.148039  0.336275  0.501961  0.585294  0.697059  0.694118  0.348039   \n",
              "4  0.023529  0.031373  0.081373  0.135294  0.236275  0.360784  0.504902   \n",
              "5  0.225490  0.188235  0.191176  0.270588  0.281373  0.259804  0.287255   \n",
              "6  0.422549  0.428431  0.492157  0.518627  0.468627  0.411765  0.338235   \n",
              "\n",
              "         7         8         9   ...        54        55        56        57  \\\n",
              "0  0.587255  0.283333  0.378431  ...  0.461765  0.273529  0.755882  0.868627   \n",
              "1  0.229412  0.117647  0.223529  ...  0.329412  0.215686  0.123529  0.200000   \n",
              "2  0.443137  0.654902  0.588235  ...  0.401961  0.254902  0.244118  0.399020   \n",
              "3  0.563725  0.222549  0.495098  ...  0.558824  0.121569  0.036275  0.057843   \n",
              "4  0.173529  0.028431  0.097059  ...  0.160784  0.350980  0.197059  0.176471   \n",
              "5  0.345098  0.181373  0.186275  ...  0.350980  0.228431  0.167647  0.224510   \n",
              "6  0.231373  0.600000  0.549020  ...  0.399020  0.396078  0.661765  0.668627   \n",
              "\n",
              "         58        59        60        61        62        63  \n",
              "0  0.765686  0.508824  0.492157  0.479412  0.280392  0.207843  \n",
              "1  0.138235  0.370588  0.454902  0.381373  0.249020  0.149020  \n",
              "2  0.451961  0.454902  0.438235  0.384314  0.206863  0.032353  \n",
              "3  0.174510  0.364706  0.430392  0.456863  0.431373  0.117647  \n",
              "4  0.178431  0.193137  0.085294  0.022549  0.133333  0.371569  \n",
              "5  0.233333  0.319608  0.333333  0.274510  0.306863  0.221569  \n",
              "6  0.572549  0.254902  0.255882  0.197059  0.406863  0.386275  \n",
              "\n",
              "[7 rows x 64 columns]"
            ],
            "text/html": [
              "\n",
              "  <div id=\"df-fa502cdd-795e-40a7-9b58-044b6b9aa057\">\n",
              "    <div class=\"colab-df-container\">\n",
              "      <div>\n",
              "<style scoped>\n",
              "    .dataframe tbody tr th:only-of-type {\n",
              "        vertical-align: middle;\n",
              "    }\n",
              "\n",
              "    .dataframe tbody tr th {\n",
              "        vertical-align: top;\n",
              "    }\n",
              "\n",
              "    .dataframe thead th {\n",
              "        text-align: right;\n",
              "    }\n",
              "</style>\n",
              "<table border=\"1\" class=\"dataframe\">\n",
              "  <thead>\n",
              "    <tr style=\"text-align: right;\">\n",
              "      <th></th>\n",
              "      <th>0</th>\n",
              "      <th>1</th>\n",
              "      <th>2</th>\n",
              "      <th>3</th>\n",
              "      <th>4</th>\n",
              "      <th>5</th>\n",
              "      <th>6</th>\n",
              "      <th>7</th>\n",
              "      <th>8</th>\n",
              "      <th>9</th>\n",
              "      <th>...</th>\n",
              "      <th>54</th>\n",
              "      <th>55</th>\n",
              "      <th>56</th>\n",
              "      <th>57</th>\n",
              "      <th>58</th>\n",
              "      <th>59</th>\n",
              "      <th>60</th>\n",
              "      <th>61</th>\n",
              "      <th>62</th>\n",
              "      <th>63</th>\n",
              "    </tr>\n",
              "  </thead>\n",
              "  <tbody>\n",
              "    <tr>\n",
              "      <th>0</th>\n",
              "      <td>0.582353</td>\n",
              "      <td>0.702941</td>\n",
              "      <td>0.684314</td>\n",
              "      <td>0.604902</td>\n",
              "      <td>0.648039</td>\n",
              "      <td>0.583333</td>\n",
              "      <td>0.538235</td>\n",
              "      <td>0.587255</td>\n",
              "      <td>0.283333</td>\n",
              "      <td>0.378431</td>\n",
              "      <td>...</td>\n",
              "      <td>0.461765</td>\n",
              "      <td>0.273529</td>\n",
              "      <td>0.755882</td>\n",
              "      <td>0.868627</td>\n",
              "      <td>0.765686</td>\n",
              "      <td>0.508824</td>\n",
              "      <td>0.492157</td>\n",
              "      <td>0.479412</td>\n",
              "      <td>0.280392</td>\n",
              "      <td>0.207843</td>\n",
              "    </tr>\n",
              "    <tr>\n",
              "      <th>1</th>\n",
              "      <td>0.113725</td>\n",
              "      <td>0.212745</td>\n",
              "      <td>0.256863</td>\n",
              "      <td>0.555882</td>\n",
              "      <td>0.624510</td>\n",
              "      <td>0.538235</td>\n",
              "      <td>0.368627</td>\n",
              "      <td>0.229412</td>\n",
              "      <td>0.117647</td>\n",
              "      <td>0.223529</td>\n",
              "      <td>...</td>\n",
              "      <td>0.329412</td>\n",
              "      <td>0.215686</td>\n",
              "      <td>0.123529</td>\n",
              "      <td>0.200000</td>\n",
              "      <td>0.138235</td>\n",
              "      <td>0.370588</td>\n",
              "      <td>0.454902</td>\n",
              "      <td>0.381373</td>\n",
              "      <td>0.249020</td>\n",
              "      <td>0.149020</td>\n",
              "    </tr>\n",
              "    <tr>\n",
              "      <th>2</th>\n",
              "      <td>0.714706</td>\n",
              "      <td>0.696078</td>\n",
              "      <td>0.659804</td>\n",
              "      <td>0.645098</td>\n",
              "      <td>0.643137</td>\n",
              "      <td>0.614706</td>\n",
              "      <td>0.522549</td>\n",
              "      <td>0.443137</td>\n",
              "      <td>0.654902</td>\n",
              "      <td>0.588235</td>\n",
              "      <td>...</td>\n",
              "      <td>0.401961</td>\n",
              "      <td>0.254902</td>\n",
              "      <td>0.244118</td>\n",
              "      <td>0.399020</td>\n",
              "      <td>0.451961</td>\n",
              "      <td>0.454902</td>\n",
              "      <td>0.438235</td>\n",
              "      <td>0.384314</td>\n",
              "      <td>0.206863</td>\n",
              "      <td>0.032353</td>\n",
              "    </tr>\n",
              "    <tr>\n",
              "      <th>3</th>\n",
              "      <td>0.148039</td>\n",
              "      <td>0.336275</td>\n",
              "      <td>0.501961</td>\n",
              "      <td>0.585294</td>\n",
              "      <td>0.697059</td>\n",
              "      <td>0.694118</td>\n",
              "      <td>0.348039</td>\n",
              "      <td>0.563725</td>\n",
              "      <td>0.222549</td>\n",
              "      <td>0.495098</td>\n",
              "      <td>...</td>\n",
              "      <td>0.558824</td>\n",
              "      <td>0.121569</td>\n",
              "      <td>0.036275</td>\n",
              "      <td>0.057843</td>\n",
              "      <td>0.174510</td>\n",
              "      <td>0.364706</td>\n",
              "      <td>0.430392</td>\n",
              "      <td>0.456863</td>\n",
              "      <td>0.431373</td>\n",
              "      <td>0.117647</td>\n",
              "    </tr>\n",
              "    <tr>\n",
              "      <th>4</th>\n",
              "      <td>0.023529</td>\n",
              "      <td>0.031373</td>\n",
              "      <td>0.081373</td>\n",
              "      <td>0.135294</td>\n",
              "      <td>0.236275</td>\n",
              "      <td>0.360784</td>\n",
              "      <td>0.504902</td>\n",
              "      <td>0.173529</td>\n",
              "      <td>0.028431</td>\n",
              "      <td>0.097059</td>\n",
              "      <td>...</td>\n",
              "      <td>0.160784</td>\n",
              "      <td>0.350980</td>\n",
              "      <td>0.197059</td>\n",
              "      <td>0.176471</td>\n",
              "      <td>0.178431</td>\n",
              "      <td>0.193137</td>\n",
              "      <td>0.085294</td>\n",
              "      <td>0.022549</td>\n",
              "      <td>0.133333</td>\n",
              "      <td>0.371569</td>\n",
              "    </tr>\n",
              "    <tr>\n",
              "      <th>5</th>\n",
              "      <td>0.225490</td>\n",
              "      <td>0.188235</td>\n",
              "      <td>0.191176</td>\n",
              "      <td>0.270588</td>\n",
              "      <td>0.281373</td>\n",
              "      <td>0.259804</td>\n",
              "      <td>0.287255</td>\n",
              "      <td>0.345098</td>\n",
              "      <td>0.181373</td>\n",
              "      <td>0.186275</td>\n",
              "      <td>...</td>\n",
              "      <td>0.350980</td>\n",
              "      <td>0.228431</td>\n",
              "      <td>0.167647</td>\n",
              "      <td>0.224510</td>\n",
              "      <td>0.233333</td>\n",
              "      <td>0.319608</td>\n",
              "      <td>0.333333</td>\n",
              "      <td>0.274510</td>\n",
              "      <td>0.306863</td>\n",
              "      <td>0.221569</td>\n",
              "    </tr>\n",
              "    <tr>\n",
              "      <th>6</th>\n",
              "      <td>0.422549</td>\n",
              "      <td>0.428431</td>\n",
              "      <td>0.492157</td>\n",
              "      <td>0.518627</td>\n",
              "      <td>0.468627</td>\n",
              "      <td>0.411765</td>\n",
              "      <td>0.338235</td>\n",
              "      <td>0.231373</td>\n",
              "      <td>0.600000</td>\n",
              "      <td>0.549020</td>\n",
              "      <td>...</td>\n",
              "      <td>0.399020</td>\n",
              "      <td>0.396078</td>\n",
              "      <td>0.661765</td>\n",
              "      <td>0.668627</td>\n",
              "      <td>0.572549</td>\n",
              "      <td>0.254902</td>\n",
              "      <td>0.255882</td>\n",
              "      <td>0.197059</td>\n",
              "      <td>0.406863</td>\n",
              "      <td>0.386275</td>\n",
              "    </tr>\n",
              "  </tbody>\n",
              "</table>\n",
              "<p>7 rows × 64 columns</p>\n",
              "</div>\n",
              "      <button class=\"colab-df-convert\" onclick=\"convertToInteractive('df-fa502cdd-795e-40a7-9b58-044b6b9aa057')\"\n",
              "              title=\"Convert this dataframe to an interactive table.\"\n",
              "              style=\"display:none;\">\n",
              "        \n",
              "  <svg xmlns=\"http://www.w3.org/2000/svg\" height=\"24px\"viewBox=\"0 0 24 24\"\n",
              "       width=\"24px\">\n",
              "    <path d=\"M0 0h24v24H0V0z\" fill=\"none\"/>\n",
              "    <path d=\"M18.56 5.44l.94 2.06.94-2.06 2.06-.94-2.06-.94-.94-2.06-.94 2.06-2.06.94zm-11 1L8.5 8.5l.94-2.06 2.06-.94-2.06-.94L8.5 2.5l-.94 2.06-2.06.94zm10 10l.94 2.06.94-2.06 2.06-.94-2.06-.94-.94-2.06-.94 2.06-2.06.94z\"/><path d=\"M17.41 7.96l-1.37-1.37c-.4-.4-.92-.59-1.43-.59-.52 0-1.04.2-1.43.59L10.3 9.45l-7.72 7.72c-.78.78-.78 2.05 0 2.83L4 21.41c.39.39.9.59 1.41.59.51 0 1.02-.2 1.41-.59l7.78-7.78 2.81-2.81c.8-.78.8-2.07 0-2.86zM5.41 20L4 18.59l7.72-7.72 1.47 1.35L5.41 20z\"/>\n",
              "  </svg>\n",
              "      </button>\n",
              "      \n",
              "  <style>\n",
              "    .colab-df-container {\n",
              "      display:flex;\n",
              "      flex-wrap:wrap;\n",
              "      gap: 12px;\n",
              "    }\n",
              "\n",
              "    .colab-df-convert {\n",
              "      background-color: #E8F0FE;\n",
              "      border: none;\n",
              "      border-radius: 50%;\n",
              "      cursor: pointer;\n",
              "      display: none;\n",
              "      fill: #1967D2;\n",
              "      height: 32px;\n",
              "      padding: 0 0 0 0;\n",
              "      width: 32px;\n",
              "    }\n",
              "\n",
              "    .colab-df-convert:hover {\n",
              "      background-color: #E2EBFA;\n",
              "      box-shadow: 0px 1px 2px rgba(60, 64, 67, 0.3), 0px 1px 3px 1px rgba(60, 64, 67, 0.15);\n",
              "      fill: #174EA6;\n",
              "    }\n",
              "\n",
              "    [theme=dark] .colab-df-convert {\n",
              "      background-color: #3B4455;\n",
              "      fill: #D2E3FC;\n",
              "    }\n",
              "\n",
              "    [theme=dark] .colab-df-convert:hover {\n",
              "      background-color: #434B5C;\n",
              "      box-shadow: 0px 1px 3px 1px rgba(0, 0, 0, 0.15);\n",
              "      filter: drop-shadow(0px 1px 2px rgba(0, 0, 0, 0.3));\n",
              "      fill: #FFFFFF;\n",
              "    }\n",
              "  </style>\n",
              "\n",
              "      <script>\n",
              "        const buttonEl =\n",
              "          document.querySelector('#df-fa502cdd-795e-40a7-9b58-044b6b9aa057 button.colab-df-convert');\n",
              "        buttonEl.style.display =\n",
              "          google.colab.kernel.accessAllowed ? 'block' : 'none';\n",
              "\n",
              "        async function convertToInteractive(key) {\n",
              "          const element = document.querySelector('#df-fa502cdd-795e-40a7-9b58-044b6b9aa057');\n",
              "          const dataTable =\n",
              "            await google.colab.kernel.invokeFunction('convertToInteractive',\n",
              "                                                     [key], {});\n",
              "          if (!dataTable) return;\n",
              "\n",
              "          const docLinkHtml = 'Like what you see? Visit the ' +\n",
              "            '<a target=\"_blank\" href=https://colab.research.google.com/notebooks/data_table.ipynb>data table notebook</a>'\n",
              "            + ' to learn more about interactive tables.';\n",
              "          element.innerHTML = '';\n",
              "          dataTable['output_type'] = 'display_data';\n",
              "          await google.colab.output.renderOutput(dataTable, element);\n",
              "          const docLink = document.createElement('div');\n",
              "          docLink.innerHTML = docLinkHtml;\n",
              "          element.appendChild(docLink);\n",
              "        }\n",
              "      </script>\n",
              "    </div>\n",
              "  </div>\n",
              "  "
            ]
          },
          "metadata": {},
          "execution_count": 5
        }
      ],
      "source": [
        "flat_data = pd.DataFrame(flat_data)\n",
        "\n",
        "flat_data.head(7)"
      ]
    },
    {
      "cell_type": "code",
      "execution_count": 6,
      "metadata": {
        "colab": {
          "base_uri": "https://localhost:8080/"
        },
        "id": "SGpPU77dqO6O",
        "outputId": "c36c13b6-48c0-43fe-b434-0b957609e59e"
      },
      "outputs": [
        {
          "output_type": "execute_result",
          "data": {
            "text/plain": [
              "(28719, 64)"
            ]
          },
          "metadata": {},
          "execution_count": 6
        }
      ],
      "source": [
        "flat_data.shape"
      ]
    },
    {
      "cell_type": "code",
      "execution_count": 7,
      "metadata": {
        "id": "ywDNnePcqXDK"
      },
      "outputs": [],
      "source": [
        "flat_data['label'] = label\n",
        "\n",
        "X = flat_data.iloc[:,0:-1]\n",
        "y = flat_data.iloc[:, 1]"
      ]
    },
    {
      "cell_type": "markdown",
      "metadata": {
        "id": "B7D4jXucFACz"
      },
      "source": [
        "**Exploratory Data Analysing**"
      ]
    },
    {
      "cell_type": "code",
      "execution_count": 8,
      "metadata": {
        "colab": {
          "base_uri": "https://localhost:8080/"
        },
        "id": "eaNUprl-qdox",
        "outputId": "3d2fd974-2f8f-487a-988d-5593a41b1f11"
      },
      "outputs": [
        {
          "output_type": "stream",
          "name": "stdout",
          "text": [
            "['surprise', 'sad', 'happy', 'disgust', 'fear', 'angry', 'neutral']\n"
          ]
        }
      ],
      "source": [
        "classes=os.listdir(DATADIR)\n",
        "print(classes)"
      ]
    },
    {
      "cell_type": "code",
      "execution_count": 9,
      "metadata": {
        "colab": {
          "base_uri": "https://localhost:8080/",
          "height": 327
        },
        "id": "zgZSD25VqgkK",
        "outputId": "be560de0-f8a8-468b-ddb0-dccfca59aeef"
      },
      "outputs": [
        {
          "output_type": "display_data",
          "data": {
            "text/plain": [
              "<Figure size 360x504 with 1 Axes>"
            ],
            "image/png": "[encoded data removed]"
          },
          "metadata": {}
        }
      ],
      "source": [
        "data_num=[0,0]\n",
        "for cl in classes:\n",
        "    data_num[0]+=len(os.listdir(os.path.join(DATADIR,cl)))\n",
        "    data_num[1]+=len(os.listdir(os.path.join(DATADIRtest,cl)))\n",
        "\n",
        "\n",
        "plt.figure(figsize=(5, 7))\n",
        "plt.pie(x=np.array([x for x in data_num]), autopct=\"%.1f%%\", explode=[0.1, 0.1], labels=[\"Training Data\", \"Test Data\"], pctdistance=0.5)\n",
        "plt.title(\"Share of train and test images\", fontsize=14);    "
      ]
    },
    {
      "cell_type": "code",
      "execution_count": 10,
      "metadata": {
        "colab": {
          "base_uri": "https://localhost:8080/",
          "height": 255
        },
        "id": "BFJF0HPDqm3C",
        "outputId": "c4a8bb54-5e3e-4ff2-dbd6-6d45dcbc523a"
      },
      "outputs": [
        {
          "output_type": "display_data",
          "data": {
            "text/plain": [
              "<Figure size 360x216 with 1 Axes>"
            ],
            "image/png": "[encoded data removed]"
          },
          "metadata": {
            "needs_background": "light"
          }
        }
      ],
      "source": [
        "count={}\n",
        "for x in classes:\n",
        "    num=len(os.listdir(os.path.join(DATADIR,x)))\n",
        "    count[x]=num\n",
        "\n",
        "\n",
        "plt.figure(figsize=(5,3))\n",
        "plt.bar(list(count.keys()), list(count.values()), width=0.4,align=\"center\" )\n",
        "plt.xticks(rotation=90)\n",
        "\n",
        "plt.xlabel(\"Emotions\")\n",
        "plt.ylabel(\"Number of Images\")\n",
        "plt.show()"
      ]
    },
    {
      "cell_type": "code",
      "execution_count": 11,
      "metadata": {
        "colab": {
          "base_uri": "https://localhost:8080/"
        },
        "id": "jmahhhmOt3wh",
        "outputId": "2da8c803-a5fb-4d96-e406-ed02fb8461c9"
      },
      "outputs": [
        {
          "output_type": "stream",
          "name": "stdout",
          "text": [
            "             0         1         2         3         4         5         6   \\\n",
            "0      0.582353  0.702941  0.684314  0.604902  0.648039  0.583333  0.538235   \n",
            "1      0.113725  0.212745  0.256863  0.555882  0.624510  0.538235  0.368627   \n",
            "2      0.714706  0.696078  0.659804  0.645098  0.643137  0.614706  0.522549   \n",
            "3      0.148039  0.336275  0.501961  0.585294  0.697059  0.694118  0.348039   \n",
            "4      0.023529  0.031373  0.081373  0.135294  0.236275  0.360784  0.504902   \n",
            "...         ...       ...       ...       ...       ...       ...       ...   \n",
            "28714  0.707843  0.556863  0.453922  0.393137  0.511765  0.602941  0.633333   \n",
            "28715  0.807843  0.612745  0.727451  0.726471  0.615686  0.525490  0.667647   \n",
            "28716  0.209804  0.249020  0.257843  0.233333  0.218627  0.221569  0.048039   \n",
            "28717  0.887255  0.508824  0.637255  0.733333  0.672549  0.501961  0.363725   \n",
            "28718  0.839216  0.837255  0.872549  0.862745  0.835294  0.798039  0.755882   \n",
            "\n",
            "             7         8         9   ...        54        55        56  \\\n",
            "0      0.587255  0.283333  0.378431  ...  0.461765  0.273529  0.755882   \n",
            "1      0.229412  0.117647  0.223529  ...  0.329412  0.215686  0.123529   \n",
            "2      0.443137  0.654902  0.588235  ...  0.401961  0.254902  0.244118   \n",
            "3      0.563725  0.222549  0.495098  ...  0.558824  0.121569  0.036275   \n",
            "4      0.173529  0.028431  0.097059  ...  0.160784  0.350980  0.197059   \n",
            "...         ...       ...       ...  ...       ...       ...       ...   \n",
            "28714  0.376471  0.644118  0.492157  ...  0.621569  0.535294  0.649020   \n",
            "28715  0.944118  0.718627  0.698039  ...  0.471569  0.716667  0.543137   \n",
            "28716  0.000000  0.247059  0.348039  ...  0.537255  0.450000  0.871569   \n",
            "28717  0.768627  0.775490  0.612745  ...  0.560784  0.639216  0.978431   \n",
            "28718  0.758824  0.788235  0.796078  ...  0.636275  0.767647  0.917647   \n",
            "\n",
            "             57        58        59        60        61        62        63  \n",
            "0      0.868627  0.765686  0.508824  0.492157  0.479412  0.280392  0.207843  \n",
            "1      0.200000  0.138235  0.370588  0.454902  0.381373  0.249020  0.149020  \n",
            "2      0.399020  0.451961  0.454902  0.438235  0.384314  0.206863  0.032353  \n",
            "3      0.057843  0.174510  0.364706  0.430392  0.456863  0.431373  0.117647  \n",
            "4      0.176471  0.178431  0.193137  0.085294  0.022549  0.133333  0.371569  \n",
            "...         ...       ...       ...       ...       ...       ...       ...  \n",
            "28714  0.579412  0.411765  0.268627  0.242157  0.386275  0.581373  0.498039  \n",
            "28715  0.253922  0.577451  0.571569  0.593137  0.497059  0.217647  0.442157  \n",
            "28716  0.903922  0.908824  0.795098  0.525490  0.489216  0.601961  0.468627  \n",
            "28717  0.959804  0.757843  0.550000  0.408824  0.586275  0.536275  0.473529  \n",
            "28718  0.821569  0.615686  0.524510  0.511765  0.596078  0.685294  0.901961  \n",
            "\n",
            "[28719 rows x 64 columns]\n",
            "0        0.702941\n",
            "1        0.212745\n",
            "2        0.696078\n",
            "3        0.336275\n",
            "4        0.031373\n",
            "           ...   \n",
            "28714    0.556863\n",
            "28715    0.612745\n",
            "28716    0.249020\n",
            "28717    0.508824\n",
            "28718    0.837255\n",
            "Name: 1, Length: 28719, dtype: float64\n"
          ]
        }
      ],
      "source": [
        "print(X)\n",
        "print(y)"
      ]
    },
    {
      "cell_type": "markdown",
      "metadata": {
        "id": "Bww7ShpnwJTX"
      },
      "source": [
        "# **LINEAR** **REGRESSION**"
      ]
    },
    {
      "cell_type": "code",
      "execution_count": 12,
      "metadata": {
        "id": "Qwc2gE0Bt_5F"
      },
      "outputs": [],
      "source": [
        "import pandas as pd\n",
        "import numpy as np\n",
        "import matplotlib.pyplot as plt\n",
        "from sklearn.linear_model import LinearRegression"
      ]
    },
    {
      "cell_type": "code",
      "execution_count": 13,
      "metadata": {
        "colab": {
          "base_uri": "https://localhost:8080/",
          "height": 174
        },
        "id": "o1ddvtSLxgXm",
        "outputId": "a3ae39c5-2e3d-4336-aa4e-ad3fef3d3bb8"
      },
      "outputs": [
        {
          "output_type": "execute_result",
          "data": {
            "text/plain": [
              "          0         1         2         3         4         5         6  \\\n",
              "0  0.582353  0.702941  0.684314  0.604902  0.648039  0.583333  0.538235   \n",
              "\n",
              "          7         8         9  ...        55        56        57        58  \\\n",
              "0  0.587255  0.283333  0.378431  ...  0.273529  0.755882  0.868627  0.765686   \n",
              "\n",
              "         59        60        61        62        63  label  \n",
              "0  0.508824  0.492157  0.479412  0.280392  0.207843      0  \n",
              "\n",
              "[1 rows x 65 columns]"
            ],
            "text/html": [
              "\n",
              "  <div id=\"df-052e04b6-c58e-4e2a-bef9-34fe8a778806\">\n",
              "    <div class=\"colab-df-container\">\n",
              "      <div>\n",
              "<style scoped>\n",
              "    .dataframe tbody tr th:only-of-type {\n",
              "        vertical-align: middle;\n",
              "    }\n",
              "\n",
              "    .dataframe tbody tr th {\n",
              "        vertical-align: top;\n",
              "    }\n",
              "\n",
              "    .dataframe thead th {\n",
              "        text-align: right;\n",
              "    }\n",
              "</style>\n",
              "<table border=\"1\" class=\"dataframe\">\n",
              "  <thead>\n",
              "    <tr style=\"text-align: right;\">\n",
              "      <th></th>\n",
              "      <th>0</th>\n",
              "      <th>1</th>\n",
              "      <th>2</th>\n",
              "      <th>3</th>\n",
              "      <th>4</th>\n",
              "      <th>5</th>\n",
              "      <th>6</th>\n",
              "      <th>7</th>\n",
              "      <th>8</th>\n",
              "      <th>9</th>\n",
              "      <th>...</th>\n",
              "      <th>55</th>\n",
              "      <th>56</th>\n",
              "      <th>57</th>\n",
              "      <th>58</th>\n",
              "      <th>59</th>\n",
              "      <th>60</th>\n",
              "      <th>61</th>\n",
              "      <th>62</th>\n",
              "      <th>63</th>\n",
              "      <th>label</th>\n",
              "    </tr>\n",
              "  </thead>\n",
              "  <tbody>\n",
              "    <tr>\n",
              "      <th>0</th>\n",
              "      <td>0.582353</td>\n",
              "      <td>0.702941</td>\n",
              "      <td>0.684314</td>\n",
              "      <td>0.604902</td>\n",
              "      <td>0.648039</td>\n",
              "      <td>0.583333</td>\n",
              "      <td>0.538235</td>\n",
              "      <td>0.587255</td>\n",
              "      <td>0.283333</td>\n",
              "      <td>0.378431</td>\n",
              "      <td>...</td>\n",
              "      <td>0.273529</td>\n",
              "      <td>0.755882</td>\n",
              "      <td>0.868627</td>\n",
              "      <td>0.765686</td>\n",
              "      <td>0.508824</td>\n",
              "      <td>0.492157</td>\n",
              "      <td>0.479412</td>\n",
              "      <td>0.280392</td>\n",
              "      <td>0.207843</td>\n",
              "      <td>0</td>\n",
              "    </tr>\n",
              "  </tbody>\n",
              "</table>\n",
              "<p>1 rows × 65 columns</p>\n",
              "</div>\n",
              "      <button class=\"colab-df-convert\" onclick=\"convertToInteractive('df-052e04b6-c58e-4e2a-bef9-34fe8a778806')\"\n",
              "              title=\"Convert this dataframe to an interactive table.\"\n",
              "              style=\"display:none;\">\n",
              "        \n",
              "  <svg xmlns=\"http://www.w3.org/2000/svg\" height=\"24px\"viewBox=\"0 0 24 24\"\n",
              "       width=\"24px\">\n",
              "    <path d=\"M0 0h24v24H0V0z\" fill=\"none\"/>\n",
              "    <path d=\"M18.56 5.44l.94 2.06.94-2.06 2.06-.94-2.06-.94-.94-2.06-.94 2.06-2.06.94zm-11 1L8.5 8.5l.94-2.06 2.06-.94-2.06-.94L8.5 2.5l-.94 2.06-2.06.94zm10 10l.94 2.06.94-2.06 2.06-.94-2.06-.94-.94-2.06-.94 2.06-2.06.94z\"/><path d=\"M17.41 7.96l-1.37-1.37c-.4-.4-.92-.59-1.43-.59-.52 0-1.04.2-1.43.59L10.3 9.45l-7.72 7.72c-.78.78-.78 2.05 0 2.83L4 21.41c.39.39.9.59 1.41.59.51 0 1.02-.2 1.41-.59l7.78-7.78 2.81-2.81c.8-.78.8-2.07 0-2.86zM5.41 20L4 18.59l7.72-7.72 1.47 1.35L5.41 20z\"/>\n",
              "  </svg>\n",
              "      </button>\n",
              "      \n",
              "  <style>\n",
              "    .colab-df-container {\n",
              "      display:flex;\n",
              "      flex-wrap:wrap;\n",
              "      gap: 12px;\n",
              "    }\n",
              "\n",
              "    .colab-df-convert {\n",
              "      background-color: #E8F0FE;\n",
              "      border: none;\n",
              "      border-radius: 50%;\n",
              "      cursor: pointer;\n",
              "      display: none;\n",
              "      fill: #1967D2;\n",
              "      height: 32px;\n",
              "      padding: 0 0 0 0;\n",
              "      width: 32px;\n",
              "    }\n",
              "\n",
              "    .colab-df-convert:hover {\n",
              "      background-color: #E2EBFA;\n",
              "      box-shadow: 0px 1px 2px rgba(60, 64, 67, 0.3), 0px 1px 3px 1px rgba(60, 64, 67, 0.15);\n",
              "      fill: #174EA6;\n",
              "    }\n",
              "\n",
              "    [theme=dark] .colab-df-convert {\n",
              "      background-color: #3B4455;\n",
              "      fill: #D2E3FC;\n",
              "    }\n",
              "\n",
              "    [theme=dark] .colab-df-convert:hover {\n",
              "      background-color: #434B5C;\n",
              "      box-shadow: 0px 1px 3px 1px rgba(0, 0, 0, 0.15);\n",
              "      filter: drop-shadow(0px 1px 2px rgba(0, 0, 0, 0.3));\n",
              "      fill: #FFFFFF;\n",
              "    }\n",
              "  </style>\n",
              "\n",
              "      <script>\n",
              "        const buttonEl =\n",
              "          document.querySelector('#df-052e04b6-c58e-4e2a-bef9-34fe8a778806 button.colab-df-convert');\n",
              "        buttonEl.style.display =\n",
              "          google.colab.kernel.accessAllowed ? 'block' : 'none';\n",
              "\n",
              "        async function convertToInteractive(key) {\n",
              "          const element = document.querySelector('#df-052e04b6-c58e-4e2a-bef9-34fe8a778806');\n",
              "          const dataTable =\n",
              "            await google.colab.kernel.invokeFunction('convertToInteractive',\n",
              "                                                     [key], {});\n",
              "          if (!dataTable) return;\n",
              "\n",
              "          const docLinkHtml = 'Like what you see? Visit the ' +\n",
              "            '<a target=\"_blank\" href=https://colab.research.google.com/notebooks/data_table.ipynb>data table notebook</a>'\n",
              "            + ' to learn more about interactive tables.';\n",
              "          element.innerHTML = '';\n",
              "          dataTable['output_type'] = 'display_data';\n",
              "          await google.colab.output.renderOutput(dataTable, element);\n",
              "          const docLink = document.createElement('div');\n",
              "          docLink.innerHTML = docLinkHtml;\n",
              "          element.appendChild(docLink);\n",
              "        }\n",
              "      </script>\n",
              "    </div>\n",
              "  </div>\n",
              "  "
            ]
          },
          "metadata": {},
          "execution_count": 13
        }
      ],
      "source": [
        "flat_data.head(1)"
      ]
    },
    {
      "cell_type": "code",
      "execution_count": 14,
      "metadata": {
        "colab": {
          "base_uri": "https://localhost:8080/"
        },
        "id": "xoivApG0x7Dr",
        "outputId": "ed7f111c-6145-496f-ed3f-a59e547c3f29"
      },
      "outputs": [
        {
          "output_type": "execute_result",
          "data": {
            "text/plain": [
              "(28719, 65)"
            ]
          },
          "metadata": {},
          "execution_count": 14
        }
      ],
      "source": [
        "flat_data.shape"
      ]
    },
    {
      "cell_type": "code",
      "execution_count": 15,
      "metadata": {
        "id": "HmmDIsudywTR"
      },
      "outputs": [],
      "source": [
        "X = flat_data.iloc[:,0:-1]\n",
        "y = flat_data.iloc[:, 1]"
      ]
    },
    {
      "cell_type": "code",
      "execution_count": 16,
      "metadata": {
        "colab": {
          "base_uri": "https://localhost:8080/"
        },
        "id": "kZ7axTrkzLE-",
        "outputId": "04a66b3e-1b91-4fc2-ad9d-e7bb0ddaafbe"
      },
      "outputs": [
        {
          "output_type": "stream",
          "name": "stdout",
          "text": [
            "neutral\n",
            "0        0.702941\n",
            "1        0.212745\n",
            "2        0.696078\n",
            "3        0.336275\n",
            "4        0.031373\n",
            "           ...   \n",
            "28714    0.556863\n",
            "28715    0.612745\n",
            "28716    0.249020\n",
            "28717    0.508824\n",
            "28718    0.837255\n",
            "Name: 1, Length: 28719, dtype: float64\n"
          ]
        }
      ],
      "source": [
        "print(x)\n",
        "print(y)"
      ]
    },
    {
      "cell_type": "code",
      "execution_count": 17,
      "metadata": {
        "id": "nCQ85FO3zagB"
      },
      "outputs": [],
      "source": [
        "from sklearn.model_selection import train_test_split\n",
        "x_train,x_test,y_train,y_test = train_test_split(X,label,test_size=0.25,random_state=45)"
      ]
    },
    {
      "cell_type": "code",
      "execution_count": 18,
      "metadata": {
        "colab": {
          "base_uri": "https://localhost:8080/"
        },
        "id": "usVLKXT1worU",
        "outputId": "1ee48edd-5118-48e2-8560-f32a17566045"
      },
      "outputs": [
        {
          "output_type": "stream",
          "name": "stdout",
          "text": [
            "             0         1         2         3         4         5         6   \\\n",
            "27365  0.412745  0.599020  0.796078  0.860784  0.811765  0.643137  0.350000   \n",
            "12951  0.586275  0.598039  0.584314  0.685294  0.801961  0.935294  0.901961   \n",
            "2804   0.599020  0.760784  0.811765  0.745098  0.554902  0.454902  0.427451   \n",
            "9998   0.407843  0.500980  0.581373  0.665686  0.706863  0.656863  0.664706   \n",
            "14314  0.207843  0.188235  0.193137  0.187255  0.165686  0.136275  0.117647   \n",
            "...         ...       ...       ...       ...       ...       ...       ...   \n",
            "12895  0.109804  0.161765  0.107843  0.166667  0.399020  0.747059  0.672549   \n",
            "28192  0.669608  0.646078  0.589216  0.565686  0.672549  0.767647  0.811765   \n",
            "6012   0.090196  0.164706  0.597059  0.757843  0.700000  0.777451  0.555882   \n",
            "6558   0.824510  0.485294  0.673529  0.795098  0.748039  0.634314  0.534314   \n",
            "23499  0.325490  0.447059  0.574510  0.690196  0.716667  0.544118  0.443137   \n",
            "\n",
            "             7         8         9   ...        54        55        56  \\\n",
            "27365  0.011765  0.437255  0.691176  ...  0.613725  0.510784  0.488235   \n",
            "12951  0.573529  0.611765  0.597059  ...  0.621569  0.805882  0.240196   \n",
            "2804   0.387255  0.714706  0.849020  ...  0.789216  0.860784  0.449020   \n",
            "9998   0.568627  0.330392  0.446078  ...  0.628431  0.543137  0.072549   \n",
            "14314  0.191176  0.205882  0.245098  ...  0.275490  0.243137  0.197059   \n",
            "...         ...       ...       ...  ...       ...       ...       ...   \n",
            "12895  0.687255  0.083333  0.058824  ...  0.733333  0.797059  0.748039   \n",
            "28192  0.818627  0.844118  0.731373  ...  0.729412  0.537255  0.633333   \n",
            "6012   0.294118  0.094118  0.262745  ...  0.764706  0.727451  0.290196   \n",
            "6558   0.647059  0.687255  0.528431  ...  0.750000  0.694118  0.679412   \n",
            "23499  0.751961  0.252941  0.413725  ...  0.469608  0.561765  0.139216   \n",
            "\n",
            "             57        58        59        60        61        62        63  \n",
            "27365  0.450000  0.701961  0.818627  0.855882  0.803922  0.598039  0.566667  \n",
            "12951  0.439216  0.538235  0.615686  0.540196  0.227451  0.333333  0.531373  \n",
            "2804   0.150980  0.303922  0.551961  0.562745  0.658824  0.773529  0.800000  \n",
            "9998   0.255882  0.450980  0.477451  0.593137  0.647059  0.569608  0.401961  \n",
            "14314  0.247059  0.309804  0.301961  0.215686  0.306863  0.235294  0.229412  \n",
            "...         ...       ...       ...       ...       ...       ...       ...  \n",
            "12895  0.784314  0.611765  0.652941  0.679412  0.717647  0.788235  0.825490  \n",
            "28192  0.307843  0.398039  0.402941  0.516667  0.635294  0.417647  0.305882  \n",
            "6012   0.561765  0.688235  0.743137  0.780392  0.774510  0.742157  0.740196  \n",
            "6558   0.763725  0.416667  0.426471  0.505882  0.640196  0.764706  0.739216  \n",
            "23499  0.242157  0.368627  0.362745  0.511765  0.602941  0.424510  0.463725  \n",
            "\n",
            "[21539 rows x 64 columns]\n",
            "       0\n",
            "27365  6\n",
            "12951  3\n",
            "2804   0\n",
            "9998   3\n",
            "14314  3\n",
            "...   ..\n",
            "12895  3\n",
            "28192  6\n",
            "6012   2\n",
            "6558   2\n",
            "23499  5\n",
            "\n",
            "[21539 rows x 1 columns]\n"
          ]
        }
      ],
      "source": [
        "print(x_train)\n",
        "print(y_train)"
      ]
    },
    {
      "cell_type": "code",
      "execution_count": 19,
      "metadata": {
        "colab": {
          "base_uri": "https://localhost:8080/"
        },
        "id": "N4F6VTiowtOE",
        "outputId": "fef44279-67ad-49cd-8582-3deb3964295a"
      },
      "outputs": [
        {
          "output_type": "stream",
          "name": "stdout",
          "text": [
            "             0         1         2         3         4         5         6   \\\n",
            "26793  0.252941  0.209804  0.388235  0.498039  0.478431  0.382353  0.277451   \n",
            "14923  0.232353  0.505882  0.769608  0.839216  0.872549  0.851961  0.709804   \n",
            "21083  0.724510  0.841176  0.908824  0.898039  0.867647  0.810784  0.693137   \n",
            "26762  0.476471  0.356863  0.537255  0.787255  0.812745  0.686275  0.612745   \n",
            "8694   0.200000  0.498039  0.740196  0.792157  0.739216  0.623529  0.366667   \n",
            "...         ...       ...       ...       ...       ...       ...       ...   \n",
            "3504   0.843137  0.519608  0.378431  0.357843  0.502941  0.785294  0.528431   \n",
            "10261  0.436275  0.443137  0.532353  0.498039  0.554902  0.683333  0.751961   \n",
            "8942   0.771569  0.217647  0.502941  0.690196  0.727451  0.672549  0.335294   \n",
            "26834  0.224510  0.556863  0.700000  0.750980  0.699020  0.590196  0.749020   \n",
            "25093  0.308824  0.298039  0.242157  0.222549  0.201961  0.196078  0.241176   \n",
            "\n",
            "             7         8         9   ...        54        55        56  \\\n",
            "26793  0.211765  0.180392  0.313725  ...  0.317647  0.259804  0.464706   \n",
            "14923  0.674510  0.521569  0.738235  ...  0.116667  0.103922  0.640196   \n",
            "21083  0.456863  0.840196  0.908824  ...  0.408824  0.538235  0.705882   \n",
            "26762  0.663725  0.604902  0.532353  ...  0.715686  0.851961  0.584314   \n",
            "8694   0.258824  0.255882  0.617647  ...  0.369608  0.151961  0.103922   \n",
            "...         ...       ...       ...  ...       ...       ...       ...   \n",
            "3504   0.247059  0.775490  0.411765  ...  0.423529  0.372549  0.911765   \n",
            "10261  0.529412  0.544118  0.592157  ...  0.846078  0.895098  0.134314   \n",
            "8942   0.149020  0.600980  0.205882  ...  0.576471  0.350980  0.196078   \n",
            "26834  0.979412  0.345098  0.637255  ...  0.770588  0.959804  0.666667   \n",
            "25093  0.284314  0.288235  0.276471  ...  0.160784  0.174510  0.264706   \n",
            "\n",
            "             57        58        59        60        61        62        63  \n",
            "26793  0.464706  0.443137  0.174510  0.262745  0.335294  0.299020  0.260784  \n",
            "14923  0.177451  0.139216  0.168627  0.132353  0.109804  0.091176  0.098039  \n",
            "21083  0.663725  0.665686  0.484314  0.330392  0.436275  0.563725  0.587255  \n",
            "26762  0.767647  0.539216  0.600000  0.669608  0.490196  0.736275  0.831373  \n",
            "8694   0.169608  0.370588  0.549020  0.552941  0.510784  0.295098  0.110784  \n",
            "...         ...       ...       ...       ...       ...       ...       ...  \n",
            "3504   0.650980  0.452941  0.449020  0.436275  0.501961  0.400980  0.307843  \n",
            "10261  0.489216  0.672549  0.656863  0.708824  0.769608  0.866667  0.786275  \n",
            "8942   0.182353  0.413725  0.663725  0.704902  0.635294  0.512745  0.350980  \n",
            "26834  0.563725  0.586275  0.582353  0.568627  0.715686  0.851961  0.903922  \n",
            "25093  0.220588  0.590196  0.654902  0.524510  0.288235  0.142157  0.149020  \n",
            "\n",
            "[7180 rows x 64 columns]\n",
            "       0\n",
            "26793  6\n",
            "14923  3\n",
            "21083  5\n",
            "26762  6\n",
            "8694   3\n",
            "...   ..\n",
            "3504   0\n",
            "10261  3\n",
            "8942   3\n",
            "26834  6\n",
            "25093  5\n",
            "\n",
            "[7180 rows x 1 columns]\n"
          ]
        }
      ],
      "source": [
        "print(x_test)\n",
        "print(y_test)"
      ]
    },
    {
      "cell_type": "code",
      "execution_count": 20,
      "metadata": {
        "colab": {
          "base_uri": "https://localhost:8080/"
        },
        "id": "bO4xRliDwzol",
        "outputId": "9fc6ef82-66e8-49ee-9c9e-3718e791ee16"
      },
      "outputs": [
        {
          "output_type": "execute_result",
          "data": {
            "text/plain": [
              "LinearRegression()"
            ]
          },
          "metadata": {},
          "execution_count": 20
        }
      ],
      "source": [
        "model = LinearRegression()\n",
        "model.fit(x_train,y_train)"
      ]
    },
    {
      "cell_type": "code",
      "execution_count": 21,
      "metadata": {
        "colab": {
          "base_uri": "https://localhost:8080/"
        },
        "id": "mBr-T9zjyiKO",
        "outputId": "55cc970d-43a8-40a9-9556-110477387e25"
      },
      "outputs": [
        {
          "output_type": "execute_result",
          "data": {
            "text/plain": [
              "array([[3.80305581],\n",
              "       [2.84222863],\n",
              "       [3.3724817 ],\n",
              "       ...,\n",
              "       [3.52738368],\n",
              "       [3.50837572],\n",
              "       [3.41692416]])"
            ]
          },
          "metadata": {},
          "execution_count": 21
        }
      ],
      "source": [
        "y_pred=model.predict(x_test)\n",
        "y_pred"
      ]
    },
    {
      "cell_type": "code",
      "execution_count": 22,
      "metadata": {
        "colab": {
          "base_uri": "https://localhost:8080/"
        },
        "id": "3gA98JN-ymkf",
        "outputId": "3ff19131-bc53-432b-f012-e058134f2677"
      },
      "outputs": [
        {
          "output_type": "execute_result",
          "data": {
            "text/plain": [
              "array([[3.4459254 ],\n",
              "       [3.07117933],\n",
              "       [3.28213365],\n",
              "       ...,\n",
              "       [3.45841398],\n",
              "       [4.15706802],\n",
              "       [3.44182905]])"
            ]
          },
          "metadata": {},
          "execution_count": 22
        }
      ],
      "source": [
        "x_pred = model.predict(x_train)\n",
        "x_pred"
      ]
    },
    {
      "cell_type": "code",
      "execution_count": 23,
      "metadata": {
        "colab": {
          "base_uri": "https://localhost:8080/",
          "height": 238
        },
        "id": "uilo7jpmzlS0",
        "outputId": "a3e4db1b-f722-4171-8ea2-822fef2ce728"
      },
      "outputs": [
        {
          "output_type": "execute_result",
          "data": {
            "text/plain": [
              "       0\n",
              "26793  6\n",
              "14923  3\n",
              "21083  5\n",
              "26762  6\n",
              "8694   3\n",
              "12912  3"
            ],
            "text/html": [
              "\n",
              "  <div id=\"df-38becf2a-bac3-4360-8765-71c1d405e030\">\n",
              "    <div class=\"colab-df-container\">\n",
              "      <div>\n",
              "<style scoped>\n",
              "    .dataframe tbody tr th:only-of-type {\n",
              "        vertical-align: middle;\n",
              "    }\n",
              "\n",
              "    .dataframe tbody tr th {\n",
              "        vertical-align: top;\n",
              "    }\n",
              "\n",
              "    .dataframe thead th {\n",
              "        text-align: right;\n",
              "    }\n",
              "</style>\n",
              "<table border=\"1\" class=\"dataframe\">\n",
              "  <thead>\n",
              "    <tr style=\"text-align: right;\">\n",
              "      <th></th>\n",
              "      <th>0</th>\n",
              "    </tr>\n",
              "  </thead>\n",
              "  <tbody>\n",
              "    <tr>\n",
              "      <th>26793</th>\n",
              "      <td>6</td>\n",
              "    </tr>\n",
              "    <tr>\n",
              "      <th>14923</th>\n",
              "      <td>3</td>\n",
              "    </tr>\n",
              "    <tr>\n",
              "      <th>21083</th>\n",
              "      <td>5</td>\n",
              "    </tr>\n",
              "    <tr>\n",
              "      <th>26762</th>\n",
              "      <td>6</td>\n",
              "    </tr>\n",
              "    <tr>\n",
              "      <th>8694</th>\n",
              "      <td>3</td>\n",
              "    </tr>\n",
              "    <tr>\n",
              "      <th>12912</th>\n",
              "      <td>3</td>\n",
              "    </tr>\n",
              "  </tbody>\n",
              "</table>\n",
              "</div>\n",
              "      <button class=\"colab-df-convert\" onclick=\"convertToInteractive('df-38becf2a-bac3-4360-8765-71c1d405e030')\"\n",
              "              title=\"Convert this dataframe to an interactive table.\"\n",
              "              style=\"display:none;\">\n",
              "        \n",
              "  <svg xmlns=\"http://www.w3.org/2000/svg\" height=\"24px\"viewBox=\"0 0 24 24\"\n",
              "       width=\"24px\">\n",
              "    <path d=\"M0 0h24v24H0V0z\" fill=\"none\"/>\n",
              "    <path d=\"M18.56 5.44l.94 2.06.94-2.06 2.06-.94-2.06-.94-.94-2.06-.94 2.06-2.06.94zm-11 1L8.5 8.5l.94-2.06 2.06-.94-2.06-.94L8.5 2.5l-.94 2.06-2.06.94zm10 10l.94 2.06.94-2.06 2.06-.94-2.06-.94-.94-2.06-.94 2.06-2.06.94z\"/><path d=\"M17.41 7.96l-1.37-1.37c-.4-.4-.92-.59-1.43-.59-.52 0-1.04.2-1.43.59L10.3 9.45l-7.72 7.72c-.78.78-.78 2.05 0 2.83L4 21.41c.39.39.9.59 1.41.59.51 0 1.02-.2 1.41-.59l7.78-7.78 2.81-2.81c.8-.78.8-2.07 0-2.86zM5.41 20L4 18.59l7.72-7.72 1.47 1.35L5.41 20z\"/>\n",
              "  </svg>\n",
              "      </button>\n",
              "      \n",
              "  <style>\n",
              "    .colab-df-container {\n",
              "      display:flex;\n",
              "      flex-wrap:wrap;\n",
              "      gap: 12px;\n",
              "    }\n",
              "\n",
              "    .colab-df-convert {\n",
              "      background-color: #E8F0FE;\n",
              "      border: none;\n",
              "      border-radius: 50%;\n",
              "      cursor: pointer;\n",
              "      display: none;\n",
              "      fill: #1967D2;\n",
              "      height: 32px;\n",
              "      padding: 0 0 0 0;\n",
              "      width: 32px;\n",
              "    }\n",
              "\n",
              "    .colab-df-convert:hover {\n",
              "      background-color: #E2EBFA;\n",
              "      box-shadow: 0px 1px 2px rgba(60, 64, 67, 0.3), 0px 1px 3px 1px rgba(60, 64, 67, 0.15);\n",
              "      fill: #174EA6;\n",
              "    }\n",
              "\n",
              "    [theme=dark] .colab-df-convert {\n",
              "      background-color: #3B4455;\n",
              "      fill: #D2E3FC;\n",
              "    }\n",
              "\n",
              "    [theme=dark] .colab-df-convert:hover {\n",
              "      background-color: #434B5C;\n",
              "      box-shadow: 0px 1px 3px 1px rgba(0, 0, 0, 0.15);\n",
              "      filter: drop-shadow(0px 1px 2px rgba(0, 0, 0, 0.3));\n",
              "      fill: #FFFFFF;\n",
              "    }\n",
              "  </style>\n",
              "\n",
              "      <script>\n",
              "        const buttonEl =\n",
              "          document.querySelector('#df-38becf2a-bac3-4360-8765-71c1d405e030 button.colab-df-convert');\n",
              "        buttonEl.style.display =\n",
              "          google.colab.kernel.accessAllowed ? 'block' : 'none';\n",
              "\n",
              "        async function convertToInteractive(key) {\n",
              "          const element = document.querySelector('#df-38becf2a-bac3-4360-8765-71c1d405e030');\n",
              "          const dataTable =\n",
              "            await google.colab.kernel.invokeFunction('convertToInteractive',\n",
              "                                                     [key], {});\n",
              "          if (!dataTable) return;\n",
              "\n",
              "          const docLinkHtml = 'Like what you see? Visit the ' +\n",
              "            '<a target=\"_blank\" href=https://colab.research.google.com/notebooks/data_table.ipynb>data table notebook</a>'\n",
              "            + ' to learn more about interactive tables.';\n",
              "          element.innerHTML = '';\n",
              "          dataTable['output_type'] = 'display_data';\n",
              "          await google.colab.output.renderOutput(dataTable, element);\n",
              "          const docLink = document.createElement('div');\n",
              "          docLink.innerHTML = docLinkHtml;\n",
              "          element.appendChild(docLink);\n",
              "        }\n",
              "      </script>\n",
              "    </div>\n",
              "  </div>\n",
              "  "
            ]
          },
          "metadata": {},
          "execution_count": 23
        }
      ],
      "source": [
        "y_test[:6]"
      ]
    },
    {
      "cell_type": "code",
      "execution_count": 24,
      "metadata": {
        "colab": {
          "base_uri": "https://localhost:8080/"
        },
        "id": "L30TusnLznnQ",
        "outputId": "dd80aca8-bc67-4b39-c66c-5a54a1bb0292"
      },
      "outputs": [
        {
          "output_type": "execute_result",
          "data": {
            "text/plain": [
              "array([[3.80305581],\n",
              "       [2.84222863],\n",
              "       [3.3724817 ],\n",
              "       [3.85857243],\n",
              "       [2.61863919]])"
            ]
          },
          "metadata": {},
          "execution_count": 24
        }
      ],
      "source": [
        "model.predict(x_test[:5])"
      ]
    },
    {
      "cell_type": "code",
      "execution_count": 25,
      "metadata": {
        "colab": {
          "base_uri": "https://localhost:8080/",
          "height": 312
        },
        "id": "69hX-Lu7zwsP",
        "outputId": "fc91d8e2-2582-4757-9c06-41d4c0f8a14d"
      },
      "outputs": [
        {
          "output_type": "execute_result",
          "data": {
            "text/plain": [
              "Text(0, 0.5, 'Emotions')"
            ]
          },
          "metadata": {},
          "execution_count": 25
        },
        {
          "output_type": "display_data",
          "data": {
            "text/plain": [
              "<Figure size 432x288 with 1 Axes>"
            ],
            "image/png": "[encoded data removed]"
          },
          "metadata": {
            "needs_background": "light"
          }
        }
      ],
      "source": [
        "plt.scatter(count.values(),classes,color='green')\n",
        "\n",
        "plt.title('Training Data')\n",
        "plt.xlabel('Number of Images')\n",
        "plt.ylabel('Emotions')"
      ]
    },
    {
      "cell_type": "code",
      "execution_count": 26,
      "metadata": {
        "colab": {
          "base_uri": "https://localhost:8080/"
        },
        "id": "2FGIMhUrzp88",
        "outputId": "e289da38-1cd7-4bc3-92cc-18564a5cd02d"
      },
      "outputs": [
        {
          "output_type": "execute_result",
          "data": {
            "text/plain": [
              "0.05019689137485128"
            ]
          },
          "metadata": {},
          "execution_count": 26
        }
      ],
      "source": [
        "model.score(x_test,y_test)"
      ]
    },
    {
      "cell_type": "markdown",
      "metadata": {
        "id": "GN474bBa2vON"
      },
      "source": [
        "# **LOGISTIC** **REGRESSION**"
      ]
    },
    {
      "cell_type": "code",
      "execution_count": 27,
      "metadata": {
        "id": "30DBn7F521dI"
      },
      "outputs": [],
      "source": [
        "import sklearn\n",
        "import pandas as pd\n",
        "import numpy as np\n",
        "import matplotlib.pyplot as plt \n",
        "from sklearn.linear_model import LogisticRegression"
      ]
    },
    {
      "cell_type": "code",
      "execution_count": 28,
      "metadata": {
        "colab": {
          "base_uri": "https://localhost:8080/",
          "height": 299
        },
        "id": "iW-8fPMB3B5j",
        "outputId": "44a451d8-2bf7-40f5-8867-85141c993670"
      },
      "outputs": [
        {
          "output_type": "execute_result",
          "data": {
            "text/plain": [
              "          0         1         2         3         4         5         6  \\\n",
              "0  0.582353  0.702941  0.684314  0.604902  0.648039  0.583333  0.538235   \n",
              "1  0.113725  0.212745  0.256863  0.555882  0.624510  0.538235  0.368627   \n",
              "2  0.714706  0.696078  0.659804  0.645098  0.643137  0.614706  0.522549   \n",
              "3  0.148039  0.336275  0.501961  0.585294  0.697059  0.694118  0.348039   \n",
              "4  0.023529  0.031373  0.081373  0.135294  0.236275  0.360784  0.504902   \n",
              "\n",
              "          7         8         9  ...        55        56        57        58  \\\n",
              "0  0.587255  0.283333  0.378431  ...  0.273529  0.755882  0.868627  0.765686   \n",
              "1  0.229412  0.117647  0.223529  ...  0.215686  0.123529  0.200000  0.138235   \n",
              "2  0.443137  0.654902  0.588235  ...  0.254902  0.244118  0.399020  0.451961   \n",
              "3  0.563725  0.222549  0.495098  ...  0.121569  0.036275  0.057843  0.174510   \n",
              "4  0.173529  0.028431  0.097059  ...  0.350980  0.197059  0.176471  0.178431   \n",
              "\n",
              "         59        60        61        62        63  label  \n",
              "0  0.508824  0.492157  0.479412  0.280392  0.207843      0  \n",
              "1  0.370588  0.454902  0.381373  0.249020  0.149020      0  \n",
              "2  0.454902  0.438235  0.384314  0.206863  0.032353      0  \n",
              "3  0.364706  0.430392  0.456863  0.431373  0.117647      0  \n",
              "4  0.193137  0.085294  0.022549  0.133333  0.371569      0  \n",
              "\n",
              "[5 rows x 65 columns]"
            ],
            "text/html": [
              "\n",
              "  <div id=\"df-d726c176-5dc7-4f7f-bfce-1d59c5a72e84\">\n",
              "    <div class=\"colab-df-container\">\n",
              "      <div>\n",
              "<style scoped>\n",
              "    .dataframe tbody tr th:only-of-type {\n",
              "        vertical-align: middle;\n",
              "    }\n",
              "\n",
              "    .dataframe tbody tr th {\n",
              "        vertical-align: top;\n",
              "    }\n",
              "\n",
              "    .dataframe thead th {\n",
              "        text-align: right;\n",
              "    }\n",
              "</style>\n",
              "<table border=\"1\" class=\"dataframe\">\n",
              "  <thead>\n",
              "    <tr style=\"text-align: right;\">\n",
              "      <th></th>\n",
              "      <th>0</th>\n",
              "      <th>1</th>\n",
              "      <th>2</th>\n",
              "      <th>3</th>\n",
              "      <th>4</th>\n",
              "      <th>5</th>\n",
              "      <th>6</th>\n",
              "      <th>7</th>\n",
              "      <th>8</th>\n",
              "      <th>9</th>\n",
              "      <th>...</th>\n",
              "      <th>55</th>\n",
              "      <th>56</th>\n",
              "      <th>57</th>\n",
              "      <th>58</th>\n",
              "      <th>59</th>\n",
              "      <th>60</th>\n",
              "      <th>61</th>\n",
              "      <th>62</th>\n",
              "      <th>63</th>\n",
              "      <th>label</th>\n",
              "    </tr>\n",
              "  </thead>\n",
              "  <tbody>\n",
              "    <tr>\n",
              "      <th>0</th>\n",
              "      <td>0.582353</td>\n",
              "      <td>0.702941</td>\n",
              "      <td>0.684314</td>\n",
              "      <td>0.604902</td>\n",
              "      <td>0.648039</td>\n",
              "      <td>0.583333</td>\n",
              "      <td>0.538235</td>\n",
              "      <td>0.587255</td>\n",
              "      <td>0.283333</td>\n",
              "      <td>0.378431</td>\n",
              "      <td>...</td>\n",
              "      <td>0.273529</td>\n",
              "      <td>0.755882</td>\n",
              "      <td>0.868627</td>\n",
              "      <td>0.765686</td>\n",
              "      <td>0.508824</td>\n",
              "      <td>0.492157</td>\n",
              "      <td>0.479412</td>\n",
              "      <td>0.280392</td>\n",
              "      <td>0.207843</td>\n",
              "      <td>0</td>\n",
              "    </tr>\n",
              "    <tr>\n",
              "      <th>1</th>\n",
              "      <td>0.113725</td>\n",
              "      <td>0.212745</td>\n",
              "      <td>0.256863</td>\n",
              "      <td>0.555882</td>\n",
              "      <td>0.624510</td>\n",
              "      <td>0.538235</td>\n",
              "      <td>0.368627</td>\n",
              "      <td>0.229412</td>\n",
              "      <td>0.117647</td>\n",
              "      <td>0.223529</td>\n",
              "      <td>...</td>\n",
              "      <td>0.215686</td>\n",
              "      <td>0.123529</td>\n",
              "      <td>0.200000</td>\n",
              "      <td>0.138235</td>\n",
              "      <td>0.370588</td>\n",
              "      <td>0.454902</td>\n",
              "      <td>0.381373</td>\n",
              "      <td>0.249020</td>\n",
              "      <td>0.149020</td>\n",
              "      <td>0</td>\n",
              "    </tr>\n",
              "    <tr>\n",
              "      <th>2</th>\n",
              "      <td>0.714706</td>\n",
              "      <td>0.696078</td>\n",
              "      <td>0.659804</td>\n",
              "      <td>0.645098</td>\n",
              "      <td>0.643137</td>\n",
              "      <td>0.614706</td>\n",
              "      <td>0.522549</td>\n",
              "      <td>0.443137</td>\n",
              "      <td>0.654902</td>\n",
              "      <td>0.588235</td>\n",
              "      <td>...</td>\n",
              "      <td>0.254902</td>\n",
              "      <td>0.244118</td>\n",
              "      <td>0.399020</td>\n",
              "      <td>0.451961</td>\n",
              "      <td>0.454902</td>\n",
              "      <td>0.438235</td>\n",
              "      <td>0.384314</td>\n",
              "      <td>0.206863</td>\n",
              "      <td>0.032353</td>\n",
              "      <td>0</td>\n",
              "    </tr>\n",
              "    <tr>\n",
              "      <th>3</th>\n",
              "      <td>0.148039</td>\n",
              "      <td>0.336275</td>\n",
              "      <td>0.501961</td>\n",
              "      <td>0.585294</td>\n",
              "      <td>0.697059</td>\n",
              "      <td>0.694118</td>\n",
              "      <td>0.348039</td>\n",
              "      <td>0.563725</td>\n",
              "      <td>0.222549</td>\n",
              "      <td>0.495098</td>\n",
              "      <td>...</td>\n",
              "      <td>0.121569</td>\n",
              "      <td>0.036275</td>\n",
              "      <td>0.057843</td>\n",
              "      <td>0.174510</td>\n",
              "      <td>0.364706</td>\n",
              "      <td>0.430392</td>\n",
              "      <td>0.456863</td>\n",
              "      <td>0.431373</td>\n",
              "      <td>0.117647</td>\n",
              "      <td>0</td>\n",
              "    </tr>\n",
              "    <tr>\n",
              "      <th>4</th>\n",
              "      <td>0.023529</td>\n",
              "      <td>0.031373</td>\n",
              "      <td>0.081373</td>\n",
              "      <td>0.135294</td>\n",
              "      <td>0.236275</td>\n",
              "      <td>0.360784</td>\n",
              "      <td>0.504902</td>\n",
              "      <td>0.173529</td>\n",
              "      <td>0.028431</td>\n",
              "      <td>0.097059</td>\n",
              "      <td>...</td>\n",
              "      <td>0.350980</td>\n",
              "      <td>0.197059</td>\n",
              "      <td>0.176471</td>\n",
              "      <td>0.178431</td>\n",
              "      <td>0.193137</td>\n",
              "      <td>0.085294</td>\n",
              "      <td>0.022549</td>\n",
              "      <td>0.133333</td>\n",
              "      <td>0.371569</td>\n",
              "      <td>0</td>\n",
              "    </tr>\n",
              "  </tbody>\n",
              "</table>\n",
              "<p>5 rows × 65 columns</p>\n",
              "</div>\n",
              "      <button class=\"colab-df-convert\" onclick=\"convertToInteractive('df-d726c176-5dc7-4f7f-bfce-1d59c5a72e84')\"\n",
              "              title=\"Convert this dataframe to an interactive table.\"\n",
              "              style=\"display:none;\">\n",
              "        \n",
              "  <svg xmlns=\"http://www.w3.org/2000/svg\" height=\"24px\"viewBox=\"0 0 24 24\"\n",
              "       width=\"24px\">\n",
              "    <path d=\"M0 0h24v24H0V0z\" fill=\"none\"/>\n",
              "    <path d=\"M18.56 5.44l.94 2.06.94-2.06 2.06-.94-2.06-.94-.94-2.06-.94 2.06-2.06.94zm-11 1L8.5 8.5l.94-2.06 2.06-.94-2.06-.94L8.5 2.5l-.94 2.06-2.06.94zm10 10l.94 2.06.94-2.06 2.06-.94-2.06-.94-.94-2.06-.94 2.06-2.06.94z\"/><path d=\"M17.41 7.96l-1.37-1.37c-.4-.4-.92-.59-1.43-.59-.52 0-1.04.2-1.43.59L10.3 9.45l-7.72 7.72c-.78.78-.78 2.05 0 2.83L4 21.41c.39.39.9.59 1.41.59.51 0 1.02-.2 1.41-.59l7.78-7.78 2.81-2.81c.8-.78.8-2.07 0-2.86zM5.41 20L4 18.59l7.72-7.72 1.47 1.35L5.41 20z\"/>\n",
              "  </svg>\n",
              "      </button>\n",
              "      \n",
              "  <style>\n",
              "    .colab-df-container {\n",
              "      display:flex;\n",
              "      flex-wrap:wrap;\n",
              "      gap: 12px;\n",
              "    }\n",
              "\n",
              "    .colab-df-convert {\n",
              "      background-color: #E8F0FE;\n",
              "      border: none;\n",
              "      border-radius: 50%;\n",
              "      cursor: pointer;\n",
              "      display: none;\n",
              "      fill: #1967D2;\n",
              "      height: 32px;\n",
              "      padding: 0 0 0 0;\n",
              "      width: 32px;\n",
              "    }\n",
              "\n",
              "    .colab-df-convert:hover {\n",
              "      background-color: #E2EBFA;\n",
              "      box-shadow: 0px 1px 2px rgba(60, 64, 67, 0.3), 0px 1px 3px 1px rgba(60, 64, 67, 0.15);\n",
              "      fill: #174EA6;\n",
              "    }\n",
              "\n",
              "    [theme=dark] .colab-df-convert {\n",
              "      background-color: #3B4455;\n",
              "      fill: #D2E3FC;\n",
              "    }\n",
              "\n",
              "    [theme=dark] .colab-df-convert:hover {\n",
              "      background-color: #434B5C;\n",
              "      box-shadow: 0px 1px 3px 1px rgba(0, 0, 0, 0.15);\n",
              "      filter: drop-shadow(0px 1px 2px rgba(0, 0, 0, 0.3));\n",
              "      fill: #FFFFFF;\n",
              "    }\n",
              "  </style>\n",
              "\n",
              "      <script>\n",
              "        const buttonEl =\n",
              "          document.querySelector('#df-d726c176-5dc7-4f7f-bfce-1d59c5a72e84 button.colab-df-convert');\n",
              "        buttonEl.style.display =\n",
              "          google.colab.kernel.accessAllowed ? 'block' : 'none';\n",
              "\n",
              "        async function convertToInteractive(key) {\n",
              "          const element = document.querySelector('#df-d726c176-5dc7-4f7f-bfce-1d59c5a72e84');\n",
              "          const dataTable =\n",
              "            await google.colab.kernel.invokeFunction('convertToInteractive',\n",
              "                                                     [key], {});\n",
              "          if (!dataTable) return;\n",
              "\n",
              "          const docLinkHtml = 'Like what you see? Visit the ' +\n",
              "            '<a target=\"_blank\" href=https://colab.research.google.com/notebooks/data_table.ipynb>data table notebook</a>'\n",
              "            + ' to learn more about interactive tables.';\n",
              "          element.innerHTML = '';\n",
              "          dataTable['output_type'] = 'display_data';\n",
              "          await google.colab.output.renderOutput(dataTable, element);\n",
              "          const docLink = document.createElement('div');\n",
              "          docLink.innerHTML = docLinkHtml;\n",
              "          element.appendChild(docLink);\n",
              "        }\n",
              "      </script>\n",
              "    </div>\n",
              "  </div>\n",
              "  "
            ]
          },
          "metadata": {},
          "execution_count": 28
        }
      ],
      "source": [
        "flat_data.head()"
      ]
    },
    {
      "cell_type": "code",
      "execution_count": 29,
      "metadata": {
        "colab": {
          "base_uri": "https://localhost:8080/",
          "height": 282
        },
        "id": "pOnvb4mW3JbK",
        "outputId": "833b4e14-7098-463b-ee9c-d7310186ce45"
      },
      "outputs": [
        {
          "output_type": "execute_result",
          "data": {
            "text/plain": [
              "<matplotlib.collections.PathCollection at 0x7f4e50b32f90>"
            ]
          },
          "metadata": {},
          "execution_count": 29
        },
        {
          "output_type": "display_data",
          "data": {
            "text/plain": [
              "<Figure size 432x288 with 1 Axes>"
            ],
            "image/png": "[encoded data removed]"
          },
          "metadata": {
            "needs_background": "light"
          }
        }
      ],
      "source": [
        "plt.scatter(count.keys(),count.values(), marker = '+', color = 'red')"
      ]
    },
    {
      "cell_type": "code",
      "execution_count": 30,
      "metadata": {
        "id": "v2F8ewKv3p1n"
      },
      "outputs": [],
      "source": [
        "from sklearn.model_selection import train_test_split\n",
        "x_train,x_test,y_train,y_test = train_test_split(X,label,test_size=0.25)"
      ]
    },
    {
      "cell_type": "code",
      "execution_count": 31,
      "metadata": {
        "colab": {
          "base_uri": "https://localhost:8080/"
        },
        "id": "SqWptREm7rB1",
        "outputId": "de091bc9-0869-4ecc-d9db-b77d47d9c395"
      },
      "outputs": [
        {
          "output_type": "stream",
          "name": "stderr",
          "text": [
            "/usr/local/lib/python3.7/dist-packages/sklearn/linear_model/_logistic.py:818: ConvergenceWarning: lbfgs failed to converge (status=1):\n",
            "STOP: TOTAL NO. of ITERATIONS REACHED LIMIT.\n",
            "\n",
            "Increase the number of iterations (max_iter) or scale the data as shown in:\n",
            "    https://scikit-learn.org/stable/modules/preprocessing.html\n",
            "Please also refer to the documentation for alternative solver options:\n",
            "    https://scikit-learn.org/stable/modules/linear_model.html#logistic-regression\n",
            "  extra_warning_msg=_LOGISTIC_SOLVER_CONVERGENCE_MSG,\n"
          ]
        },
        {
          "output_type": "execute_result",
          "data": {
            "text/plain": [
              "LogisticRegression(random_state=4)"
            ]
          },
          "metadata": {},
          "execution_count": 31
        }
      ],
      "source": [
        "classifier = LogisticRegression(random_state = 4)\n",
        "classifier.fit(x_train, y_train.values.ravel())"
      ]
    },
    {
      "cell_type": "code",
      "execution_count": 32,
      "metadata": {
        "colab": {
          "base_uri": "https://localhost:8080/"
        },
        "id": "-2_8YvqC7uJc",
        "outputId": "3fdd3d34-f51e-4a42-ea11-c16f1f4f0b6b"
      },
      "outputs": [
        {
          "output_type": "stream",
          "name": "stderr",
          "text": [
            "/usr/local/lib/python3.7/dist-packages/sklearn/utils/validation.py:993: DataConversionWarning: A column-vector y was passed when a 1d array was expected. Please change the shape of y to (n_samples, ), for example using ravel().\n",
            "  y = column_or_1d(y, warn=True)\n",
            "/usr/local/lib/python3.7/dist-packages/sklearn/linear_model/_logistic.py:818: ConvergenceWarning: lbfgs failed to converge (status=1):\n",
            "STOP: TOTAL NO. of ITERATIONS REACHED LIMIT.\n",
            "\n",
            "Increase the number of iterations (max_iter) or scale the data as shown in:\n",
            "    https://scikit-learn.org/stable/modules/preprocessing.html\n",
            "Please also refer to the documentation for alternative solver options:\n",
            "    https://scikit-learn.org/stable/modules/linear_model.html#logistic-regression\n",
            "  extra_warning_msg=_LOGISTIC_SOLVER_CONVERGENCE_MSG,\n"
          ]
        },
        {
          "output_type": "execute_result",
          "data": {
            "text/plain": [
              "LogisticRegression(random_state=0)"
            ]
          },
          "metadata": {},
          "execution_count": 32
        }
      ],
      "source": [
        "lorg=LogisticRegression(random_state=0)\n",
        "lorg.fit(x_train,y_train)"
      ]
    },
    {
      "cell_type": "code",
      "execution_count": 33,
      "metadata": {
        "colab": {
          "base_uri": "https://localhost:8080/"
        },
        "id": "hyrQeiBP7a-O",
        "outputId": "abd670a2-5925-4976-e581-21340e5cf9c7"
      },
      "outputs": [
        {
          "output_type": "execute_result",
          "data": {
            "text/plain": [
              "LinearRegression()"
            ]
          },
          "metadata": {},
          "execution_count": 33
        }
      ],
      "source": [
        "model.fit(x_train, y_train)"
      ]
    },
    {
      "cell_type": "code",
      "execution_count": 34,
      "metadata": {
        "colab": {
          "base_uri": "https://localhost:8080/",
          "height": 423
        },
        "id": "gEBv4LcJ6xPK",
        "outputId": "9190d5d7-616f-4c8a-ff4f-8c398ab95946"
      },
      "outputs": [
        {
          "output_type": "execute_result",
          "data": {
            "text/plain": [
              "       0\n",
              "7087   2\n",
              "677    0\n",
              "8880   3\n",
              "2765   0\n",
              "14127  3\n",
              "...   ..\n",
              "2036   0\n",
              "9136   3\n",
              "7949   2\n",
              "3740   0\n",
              "8506   2\n",
              "\n",
              "[7180 rows x 1 columns]"
            ],
            "text/html": [
              "\n",
              "  <div id=\"df-81d01f63-b15b-4943-9136-022e491091ad\">\n",
              "    <div class=\"colab-df-container\">\n",
              "      <div>\n",
              "<style scoped>\n",
              "    .dataframe tbody tr th:only-of-type {\n",
              "        vertical-align: middle;\n",
              "    }\n",
              "\n",
              "    .dataframe tbody tr th {\n",
              "        vertical-align: top;\n",
              "    }\n",
              "\n",
              "    .dataframe thead th {\n",
              "        text-align: right;\n",
              "    }\n",
              "</style>\n",
              "<table border=\"1\" class=\"dataframe\">\n",
              "  <thead>\n",
              "    <tr style=\"text-align: right;\">\n",
              "      <th></th>\n",
              "      <th>0</th>\n",
              "    </tr>\n",
              "  </thead>\n",
              "  <tbody>\n",
              "    <tr>\n",
              "      <th>7087</th>\n",
              "      <td>2</td>\n",
              "    </tr>\n",
              "    <tr>\n",
              "      <th>677</th>\n",
              "      <td>0</td>\n",
              "    </tr>\n",
              "    <tr>\n",
              "      <th>8880</th>\n",
              "      <td>3</td>\n",
              "    </tr>\n",
              "    <tr>\n",
              "      <th>2765</th>\n",
              "      <td>0</td>\n",
              "    </tr>\n",
              "    <tr>\n",
              "      <th>14127</th>\n",
              "      <td>3</td>\n",
              "    </tr>\n",
              "    <tr>\n",
              "      <th>...</th>\n",
              "      <td>...</td>\n",
              "    </tr>\n",
              "    <tr>\n",
              "      <th>2036</th>\n",
              "      <td>0</td>\n",
              "    </tr>\n",
              "    <tr>\n",
              "      <th>9136</th>\n",
              "      <td>3</td>\n",
              "    </tr>\n",
              "    <tr>\n",
              "      <th>7949</th>\n",
              "      <td>2</td>\n",
              "    </tr>\n",
              "    <tr>\n",
              "      <th>3740</th>\n",
              "      <td>0</td>\n",
              "    </tr>\n",
              "    <tr>\n",
              "      <th>8506</th>\n",
              "      <td>2</td>\n",
              "    </tr>\n",
              "  </tbody>\n",
              "</table>\n",
              "<p>7180 rows × 1 columns</p>\n",
              "</div>\n",
              "      <button class=\"colab-df-convert\" onclick=\"convertToInteractive('df-81d01f63-b15b-4943-9136-022e491091ad')\"\n",
              "              title=\"Convert this dataframe to an interactive table.\"\n",
              "              style=\"display:none;\">\n",
              "        \n",
              "  <svg xmlns=\"http://www.w3.org/2000/svg\" height=\"24px\"viewBox=\"0 0 24 24\"\n",
              "       width=\"24px\">\n",
              "    <path d=\"M0 0h24v24H0V0z\" fill=\"none\"/>\n",
              "    <path d=\"M18.56 5.44l.94 2.06.94-2.06 2.06-.94-2.06-.94-.94-2.06-.94 2.06-2.06.94zm-11 1L8.5 8.5l.94-2.06 2.06-.94-2.06-.94L8.5 2.5l-.94 2.06-2.06.94zm10 10l.94 2.06.94-2.06 2.06-.94-2.06-.94-.94-2.06-.94 2.06-2.06.94z\"/><path d=\"M17.41 7.96l-1.37-1.37c-.4-.4-.92-.59-1.43-.59-.52 0-1.04.2-1.43.59L10.3 9.45l-7.72 7.72c-.78.78-.78 2.05 0 2.83L4 21.41c.39.39.9.59 1.41.59.51 0 1.02-.2 1.41-.59l7.78-7.78 2.81-2.81c.8-.78.8-2.07 0-2.86zM5.41 20L4 18.59l7.72-7.72 1.47 1.35L5.41 20z\"/>\n",
              "  </svg>\n",
              "      </button>\n",
              "      \n",
              "  <style>\n",
              "    .colab-df-container {\n",
              "      display:flex;\n",
              "      flex-wrap:wrap;\n",
              "      gap: 12px;\n",
              "    }\n",
              "\n",
              "    .colab-df-convert {\n",
              "      background-color: #E8F0FE;\n",
              "      border: none;\n",
              "      border-radius: 50%;\n",
              "      cursor: pointer;\n",
              "      display: none;\n",
              "      fill: #1967D2;\n",
              "      height: 32px;\n",
              "      padding: 0 0 0 0;\n",
              "      width: 32px;\n",
              "    }\n",
              "\n",
              "    .colab-df-convert:hover {\n",
              "      background-color: #E2EBFA;\n",
              "      box-shadow: 0px 1px 2px rgba(60, 64, 67, 0.3), 0px 1px 3px 1px rgba(60, 64, 67, 0.15);\n",
              "      fill: #174EA6;\n",
              "    }\n",
              "\n",
              "    [theme=dark] .colab-df-convert {\n",
              "      background-color: #3B4455;\n",
              "      fill: #D2E3FC;\n",
              "    }\n",
              "\n",
              "    [theme=dark] .colab-df-convert:hover {\n",
              "      background-color: #434B5C;\n",
              "      box-shadow: 0px 1px 3px 1px rgba(0, 0, 0, 0.15);\n",
              "      filter: drop-shadow(0px 1px 2px rgba(0, 0, 0, 0.3));\n",
              "      fill: #FFFFFF;\n",
              "    }\n",
              "  </style>\n",
              "\n",
              "      <script>\n",
              "        const buttonEl =\n",
              "          document.querySelector('#df-81d01f63-b15b-4943-9136-022e491091ad button.colab-df-convert');\n",
              "        buttonEl.style.display =\n",
              "          google.colab.kernel.accessAllowed ? 'block' : 'none';\n",
              "\n",
              "        async function convertToInteractive(key) {\n",
              "          const element = document.querySelector('#df-81d01f63-b15b-4943-9136-022e491091ad');\n",
              "          const dataTable =\n",
              "            await google.colab.kernel.invokeFunction('convertToInteractive',\n",
              "                                                     [key], {});\n",
              "          if (!dataTable) return;\n",
              "\n",
              "          const docLinkHtml = 'Like what you see? Visit the ' +\n",
              "            '<a target=\"_blank\" href=https://colab.research.google.com/notebooks/data_table.ipynb>data table notebook</a>'\n",
              "            + ' to learn more about interactive tables.';\n",
              "          element.innerHTML = '';\n",
              "          dataTable['output_type'] = 'display_data';\n",
              "          await google.colab.output.renderOutput(dataTable, element);\n",
              "          const docLink = document.createElement('div');\n",
              "          docLink.innerHTML = docLinkHtml;\n",
              "          element.appendChild(docLink);\n",
              "        }\n",
              "      </script>\n",
              "    </div>\n",
              "  </div>\n",
              "  "
            ]
          },
          "metadata": {},
          "execution_count": 34
        }
      ],
      "source": [
        "x_test\n",
        "y_test"
      ]
    },
    {
      "cell_type": "code",
      "execution_count": 35,
      "metadata": {
        "id": "fDC9JndA76Ki"
      },
      "outputs": [],
      "source": [
        "y_pred = classifier.predict(x_test)"
      ]
    },
    {
      "cell_type": "code",
      "execution_count": 36,
      "metadata": {
        "colab": {
          "base_uri": "https://localhost:8080/"
        },
        "id": "aCLY273d78BW",
        "outputId": "eacb4b17-59b4-4225-df96-0272fe5d29ea"
      },
      "outputs": [
        {
          "output_type": "stream",
          "name": "stdout",
          "text": [
            "[0 3 3 ... 6 5 2]\n"
          ]
        }
      ],
      "source": [
        "y_pred=lorg.predict(x_test)\n",
        "print(y_pred)"
      ]
    },
    {
      "cell_type": "code",
      "execution_count": 37,
      "metadata": {
        "colab": {
          "base_uri": "https://localhost:8080/"
        },
        "id": "AVb5fd8L7c45",
        "outputId": "7d641c7a-f2eb-4333-eea6-1a7c8d7c0e3b"
      },
      "outputs": [
        {
          "output_type": "execute_result",
          "data": {
            "text/plain": [
              "array([[2.79130932],\n",
              "       [3.04937541],\n",
              "       [3.26739952],\n",
              "       ...,\n",
              "       [4.32847215],\n",
              "       [3.47172115],\n",
              "       [3.47070023]])"
            ]
          },
          "metadata": {},
          "execution_count": 37
        }
      ],
      "source": [
        "model.predict(x_test)"
      ]
    },
    {
      "cell_type": "code",
      "execution_count": 38,
      "metadata": {
        "colab": {
          "base_uri": "https://localhost:8080/"
        },
        "id": "j-Ym0DCK7_pK",
        "outputId": "17501bc0-0966-4aa3-a737-da024e749641"
      },
      "outputs": [
        {
          "output_type": "execute_result",
          "data": {
            "text/plain": [
              "array([[  63,    0,   75,  408,  156,  184,   95],\n",
              "       [   5,    0,    7,   60,   18,   17,   10],\n",
              "       [  53,    0,   74,  384,  186,  181,  159],\n",
              "       [  40,    0,   47, 1348,  145,  210,   90],\n",
              "       [  29,    0,   57,  411,  378,  203,   83],\n",
              "       [  49,    0,   69,  406,  266,  366,   63],\n",
              "       [  15,    0,   46,  203,  108,   74,  339]])"
            ]
          },
          "metadata": {},
          "execution_count": 38
        }
      ],
      "source": [
        "cm=confusion_matrix(y_test,y_pred)\n",
        "cm"
      ]
    },
    {
      "cell_type": "code",
      "execution_count": 39,
      "metadata": {
        "id": "UF-EYa8Q7X0R"
      },
      "outputs": [],
      "source": [
        "model = LogisticRegression()"
      ]
    },
    {
      "cell_type": "code",
      "execution_count": 40,
      "metadata": {
        "colab": {
          "base_uri": "https://localhost:8080/"
        },
        "id": "a03hCsuD7gse",
        "outputId": "e20e7a99-8ab0-462a-b31b-ece31db543da"
      },
      "outputs": [
        {
          "output_type": "execute_result",
          "data": {
            "text/plain": [
              "0.3576601671309192"
            ]
          },
          "metadata": {},
          "execution_count": 40
        }
      ],
      "source": [
        "accuracy_score(y_test, y_pred)"
      ]
    },
    {
      "cell_type": "markdown",
      "metadata": {
        "id": "xNh35C7L8jlA"
      },
      "source": [
        "# **SUPPORT VECTOR REGRESSION**"
      ]
    },
    {
      "cell_type": "code",
      "execution_count": 41,
      "metadata": {
        "id": "k24Ru30Y9Jql"
      },
      "outputs": [],
      "source": [
        "import pandas as pd\n",
        "from sklearn.svm import SVC\n",
        "from matplotlib import pyplot as plt\n",
        "%matplotlib inline\n",
        "from sklearn.metrics import confusion_matrix, accuracy_score"
      ]
    },
    {
      "cell_type": "code",
      "execution_count": 42,
      "metadata": {
        "colab": {
          "base_uri": "https://localhost:8080/"
        },
        "id": "8uj3Pq8V9fjr",
        "outputId": "d582f045-896f-4a56-bec8-b04615363976"
      },
      "outputs": [
        {
          "output_type": "stream",
          "name": "stderr",
          "text": [
            "/usr/local/lib/python3.7/dist-packages/sklearn/utils/validation.py:993: DataConversionWarning: A column-vector y was passed when a 1d array was expected. Please change the shape of y to (n_samples, ), for example using ravel().\n",
            "  y = column_or_1d(y, warn=True)\n"
          ]
        },
        {
          "output_type": "execute_result",
          "data": {
            "text/plain": [
              "SVC(kernel='linear')"
            ]
          },
          "metadata": {},
          "execution_count": 42
        }
      ],
      "source": [
        "svclassifier = SVC(kernel='linear')\n",
        "svclassifier.fit(x_train, y_train)"
      ]
    },
    {
      "cell_type": "code",
      "source": [
        "from sklearn.svm import SVC\n",
        "#model = SVC()\n",
        "#model = SVC(C=1000)\n",
        "model = SVC(C=100,gamma=5)\n",
        "#model = SVC(kernel='linear')"
      ],
      "metadata": {
        "id": "rfY-cFUpF9YQ"
      },
      "execution_count": 43,
      "outputs": []
    },
    {
      "cell_type": "code",
      "execution_count": 44,
      "metadata": {
        "id": "2dMDSl4X9lgI"
      },
      "outputs": [],
      "source": [
        "flat_data0=flat_data[flat_data.label ==0]\n",
        "flat_data1=flat_data[flat_data.label ==1]\n",
        "flat_data2=flat_data[flat_data.label ==2]"
      ]
    },
    {
      "cell_type": "code",
      "source": [
        "model.fit(x_train, y_train)"
      ],
      "metadata": {
        "colab": {
          "base_uri": "https://localhost:8080/"
        },
        "id": "TlVGPySnGFbI",
        "outputId": "2f864132-5a78-4f59-d7ea-b05c71d3304b"
      },
      "execution_count": 45,
      "outputs": [
        {
          "output_type": "stream",
          "name": "stderr",
          "text": [
            "/usr/local/lib/python3.7/dist-packages/sklearn/utils/validation.py:993: DataConversionWarning: A column-vector y was passed when a 1d array was expected. Please change the shape of y to (n_samples, ), for example using ravel().\n",
            "  y = column_or_1d(y, warn=True)\n"
          ]
        },
        {
          "output_type": "execute_result",
          "data": {
            "text/plain": [
              "SVC(C=100, gamma=5)"
            ]
          },
          "metadata": {},
          "execution_count": 45
        }
      ]
    },
    {
      "cell_type": "code",
      "execution_count": 46,
      "metadata": {
        "colab": {
          "base_uri": "https://localhost:8080/",
          "height": 296
        },
        "id": "rgAlsU8U-ijZ",
        "outputId": "931c022f-b86d-4c71-a120-aec188418093"
      },
      "outputs": [
        {
          "output_type": "execute_result",
          "data": {
            "text/plain": [
              "<matplotlib.collections.PathCollection at 0x7f4e4dd99f90>"
            ]
          },
          "metadata": {},
          "execution_count": 46
        },
        {
          "output_type": "display_data",
          "data": {
            "text/plain": [
              "<Figure size 432x288 with 1 Axes>"
            ],
            "image/png": "[encoded data removed]"
          },
          "metadata": {
            "needs_background": "light"
          }
        }
      ],
      "source": [
        "plt.ylabel('Emotions')\n",
        "plt.xlabel('Images')\n",
        "plt.scatter(count.values(),count.keys(),marker='+',color= 'red')\n"
      ]
    },
    {
      "cell_type": "code",
      "execution_count": 47,
      "metadata": {
        "colab": {
          "base_uri": "https://localhost:8080/",
          "height": 296
        },
        "id": "oRP9HGlY-tdG",
        "outputId": "15eb6f6f-3b8b-4512-e7eb-3447b12f848c"
      },
      "outputs": [
        {
          "output_type": "execute_result",
          "data": {
            "text/plain": [
              "<matplotlib.collections.PathCollection at 0x7f4e4dd58a10>"
            ]
          },
          "metadata": {},
          "execution_count": 47
        },
        {
          "output_type": "display_data",
          "data": {
            "text/plain": [
              "<Figure size 432x288 with 1 Axes>"
            ],
            "image/png": "[encoded data removed]"
          },
          "metadata": {
            "needs_background": "light"
          }
        }
      ],
      "source": [
        "plt.ylabel('Emotions')\n",
        "plt.xlabel('Images')\n",
        "plt.scatter(classes,classes,marker='.',color= 'green')"
      ]
    },
    {
      "cell_type": "code",
      "execution_count": 48,
      "metadata": {
        "id": "djz_7rkbCagM"
      },
      "outputs": [],
      "source": [
        "y_pred = classifier.predict(x_test)"
      ]
    },
    {
      "cell_type": "code",
      "execution_count": 49,
      "metadata": {
        "colab": {
          "base_uri": "https://localhost:8080/"
        },
        "id": "givkxIZpC9zg",
        "outputId": "d8b87349-8190-4a33-e63f-ebf4417062f3"
      },
      "outputs": [
        {
          "output_type": "stream",
          "name": "stdout",
          "text": [
            "[[  63    0   75  408  156  184   95]\n",
            " [   5    0    7   60   18   17   10]\n",
            " [  53    0   74  384  186  181  159]\n",
            " [  40    0   47 1348  145  210   90]\n",
            " [  29    0   57  411  378  203   83]\n",
            " [  49    0   69  406  266  366   63]\n",
            " [  15    0   46  203  108   74  339]]\n"
          ]
        }
      ],
      "source": [
        "cm = confusion_matrix(y_test, y_pred)\n",
        "print(cm)"
      ]
    },
    {
      "cell_type": "code",
      "source": [
        "model.score(x_test,y_test)"
      ],
      "metadata": {
        "colab": {
          "base_uri": "https://localhost:8080/"
        },
        "id": "nbeCciqNHFZJ",
        "outputId": "89fb2a25-7af5-41ce-c383-f3345738181a"
      },
      "execution_count": 50,
      "outputs": [
        {
          "output_type": "execute_result",
          "data": {
            "text/plain": [
              "0.4139275766016713"
            ]
          },
          "metadata": {},
          "execution_count": 50
        }
      ]
    },
    {
      "cell_type": "markdown",
      "metadata": {
        "id": "dxxoOX_CEMhS"
      },
      "source": [
        "# **Naive Bayes Classifier** "
      ]
    },
    {
      "cell_type": "code",
      "execution_count": 51,
      "metadata": {
        "id": "E6IO9zPPEWJG"
      },
      "outputs": [],
      "source": [
        "import pandas as pd\n",
        "from sklearn.naive_bayes import GaussianNB\n",
        "from sklearn.metrics import confusion_matrix, accuracy_score"
      ]
    },
    {
      "cell_type": "code",
      "execution_count": 52,
      "metadata": {
        "colab": {
          "base_uri": "https://localhost:8080/"
        },
        "id": "46BhUb7FEiq3",
        "outputId": "dd1fa5c1-4ad0-4396-fc02-b24a0670ab0e"
      },
      "outputs": [
        {
          "output_type": "stream",
          "name": "stderr",
          "text": [
            "/usr/local/lib/python3.7/dist-packages/sklearn/utils/validation.py:993: DataConversionWarning: A column-vector y was passed when a 1d array was expected. Please change the shape of y to (n_samples, ), for example using ravel().\n",
            "  y = column_or_1d(y, warn=True)\n"
          ]
        },
        {
          "output_type": "execute_result",
          "data": {
            "text/plain": [
              "GaussianNB()"
            ]
          },
          "metadata": {},
          "execution_count": 52
        }
      ],
      "source": [
        "classifier = GaussianNB()\n",
        "classifier.fit(x_train, y_train)"
      ]
    },
    {
      "cell_type": "code",
      "execution_count": 53,
      "metadata": {
        "id": "zJmJuru6Fbei"
      },
      "outputs": [],
      "source": [
        "from sklearn.model_selection import train_test_split\n",
        "x_train,x_test,y_train,y_test = train_test_split(X,label, test_size = 0.20)\n"
      ]
    },
    {
      "cell_type": "code",
      "execution_count": 54,
      "metadata": {
        "id": "vd4TgaWnGHqu"
      },
      "outputs": [],
      "source": [
        "from sklearn.feature_extraction.text import CountVectorizer\n",
        "v = CountVectorizer()"
      ]
    },
    {
      "cell_type": "code",
      "execution_count": 55,
      "metadata": {
        "colab": {
          "base_uri": "https://localhost:8080/"
        },
        "id": "-n1MEsvwG2BW",
        "outputId": "392d738a-fd86-40b6-8e3d-f70ce85c3724"
      },
      "outputs": [
        {
          "output_type": "execute_result",
          "data": {
            "text/plain": [
              "(22975, 64)"
            ]
          },
          "metadata": {},
          "execution_count": 55
        }
      ],
      "source": [
        "x_train.shape"
      ]
    },
    {
      "cell_type": "code",
      "execution_count": 56,
      "metadata": {
        "colab": {
          "base_uri": "https://localhost:8080/"
        },
        "id": "6HJUg5E4G7Qy",
        "outputId": "0056afc4-5a77-4df7-815d-9a3d94b389fa"
      },
      "outputs": [
        {
          "output_type": "stream",
          "name": "stderr",
          "text": [
            "/usr/local/lib/python3.7/dist-packages/sklearn/utils/validation.py:993: DataConversionWarning: A column-vector y was passed when a 1d array was expected. Please change the shape of y to (n_samples, ), for example using ravel().\n",
            "  y = column_or_1d(y, warn=True)\n"
          ]
        },
        {
          "output_type": "execute_result",
          "data": {
            "text/plain": [
              "MultinomialNB()"
            ]
          },
          "metadata": {},
          "execution_count": 56
        }
      ],
      "source": [
        "from sklearn.naive_bayes import MultinomialNB\n",
        "model = MultinomialNB()\n",
        "model.fit(x_train, y_train)"
      ]
    },
    {
      "cell_type": "code",
      "execution_count": 57,
      "metadata": {
        "id": "BcP29UZ2HPTf"
      },
      "outputs": [],
      "source": [
        "y_pred = classifier.predict(x_test)"
      ]
    },
    {
      "cell_type": "code",
      "execution_count": 58,
      "metadata": {
        "colab": {
          "base_uri": "https://localhost:8080/"
        },
        "id": "wNAuXzDbHXbD",
        "outputId": "fcbe3ce5-61ef-41e9-f9ef-d55e999cd46e"
      },
      "outputs": [
        {
          "output_type": "stream",
          "name": "stdout",
          "text": [
            "[[ 28   0  47 157  44 241 282]\n",
            " [  3   0   1  16   6  21  37]\n",
            " [ 37   0  37 133  56 193 383]\n",
            " [ 41   0  42 391  98 338 559]\n",
            " [ 21   0  33 173 110 319 334]\n",
            " [ 36   0  50 175  81 351 227]\n",
            " [ 22   0  20  70  40  79 412]]\n"
          ]
        }
      ],
      "source": [
        "cm = confusion_matrix(y_test, y_pred)\n",
        "print(cm)"
      ]
    },
    {
      "cell_type": "code",
      "execution_count": 59,
      "metadata": {
        "colab": {
          "base_uri": "https://localhost:8080/"
        },
        "id": "W1TLbvuPHsIb",
        "outputId": "393d8ac3-e167-4251-a35e-e42b8e3dd08e"
      },
      "outputs": [
        {
          "output_type": "execute_result",
          "data": {
            "text/plain": [
              "0.23137186629526463"
            ]
          },
          "metadata": {},
          "execution_count": 59
        }
      ],
      "source": [
        "accuracy_score(y_test, y_pred)"
      ]
    },
    {
      "cell_type": "code",
      "execution_count": 60,
      "metadata": {
        "colab": {
          "base_uri": "https://localhost:8080/"
        },
        "id": "mDRx9pRcJRr3",
        "outputId": "53fa5d87-fa59-4c6c-d684-aabb2f2e5022"
      },
      "outputs": [
        {
          "output_type": "execute_result",
          "data": {
            "text/plain": [
              "0.25574512534818944"
            ]
          },
          "metadata": {},
          "execution_count": 60
        }
      ],
      "source": [
        "model.score(x_test,y_test)"
      ]
    },
    {
      "cell_type": "markdown",
      "metadata": {
        "id": "sL-bo9cWH4vV"
      },
      "source": [
        "# **DECISION TREE CLASSIFICATION**\n"
      ]
    },
    {
      "cell_type": "code",
      "execution_count": 61,
      "metadata": {
        "id": "W5jT4dfgIu0K"
      },
      "outputs": [],
      "source": [
        "import numpy as np\n",
        "import pandas as pd\n",
        "import matplotlib.pyplot as plt\n",
        "import seaborn as sns\n",
        "import sklearn.datasets as datasets\n",
        "%matplotlib inline\n",
        "from sklearn.tree import DecisionTreeClassifier\n",
        "from sklearn import metrics"
      ]
    },
    {
      "cell_type": "code",
      "execution_count": 62,
      "metadata": {
        "colab": {
          "base_uri": "https://localhost:8080/"
        },
        "id": "68q36g3AJeld",
        "outputId": "8dd4bc32-465d-45a5-bf4f-11943d2c5929"
      },
      "outputs": [
        {
          "output_type": "execute_result",
          "data": {
            "text/plain": [
              "DecisionTreeClassifier(criterion='entropy', random_state=0)"
            ]
          },
          "metadata": {},
          "execution_count": 62
        }
      ],
      "source": [
        "classifier = DecisionTreeClassifier(criterion = 'entropy', random_state = 0)\n",
        "classifier.fit(x_train, y_train)"
      ]
    },
    {
      "cell_type": "code",
      "execution_count": 63,
      "metadata": {
        "colab": {
          "base_uri": "https://localhost:8080/"
        },
        "id": "CMXs3ejnJtqh",
        "outputId": "d24751d5-23ba-4fe4-bf65-da67fcdd579e"
      },
      "outputs": [
        {
          "output_type": "execute_result",
          "data": {
            "text/plain": [
              "(28719, 65)"
            ]
          },
          "metadata": {},
          "execution_count": 63
        }
      ],
      "source": [
        "flat_data.shape\n"
      ]
    },
    {
      "cell_type": "code",
      "execution_count": 64,
      "metadata": {
        "colab": {
          "base_uri": "https://localhost:8080/"
        },
        "id": "0rEtZTJSJ-1a",
        "outputId": "c97f4bad-adca-4304-d958-d6b620ca19c3"
      },
      "outputs": [
        {
          "output_type": "execute_result",
          "data": {
            "text/plain": [
              "Index([      0,       1,       2,       3,       4,       5,       6,       7,\n",
              "             8,       9,      10,      11,      12,      13,      14,      15,\n",
              "            16,      17,      18,      19,      20,      21,      22,      23,\n",
              "            24,      25,      26,      27,      28,      29,      30,      31,\n",
              "            32,      33,      34,      35,      36,      37,      38,      39,\n",
              "            40,      41,      42,      43,      44,      45,      46,      47,\n",
              "            48,      49,      50,      51,      52,      53,      54,      55,\n",
              "            56,      57,      58,      59,      60,      61,      62,      63,\n",
              "       'label'],\n",
              "      dtype='object')"
            ]
          },
          "metadata": {},
          "execution_count": 64
        }
      ],
      "source": [
        "flat_data.columns"
      ]
    },
    {
      "cell_type": "code",
      "execution_count": 65,
      "metadata": {
        "colab": {
          "base_uri": "https://localhost:8080/"
        },
        "id": "78wZ-LuJKIIH",
        "outputId": "18082faa-8971-4ece-99fb-ead1290468b6"
      },
      "outputs": [
        {
          "output_type": "execute_result",
          "data": {
            "text/plain": [
              "0        0\n",
              "1        0\n",
              "2        0\n",
              "3        0\n",
              "4        0\n",
              "        ..\n",
              "60       0\n",
              "61       0\n",
              "62       0\n",
              "63       0\n",
              "label    0\n",
              "Length: 65, dtype: int64"
            ]
          },
          "metadata": {},
          "execution_count": 65
        }
      ],
      "source": [
        "flat_data.isnull().sum()"
      ]
    },
    {
      "cell_type": "code",
      "execution_count": 66,
      "metadata": {
        "id": "2JG_tvvJK9k-"
      },
      "outputs": [],
      "source": [
        "from sklearn.model_selection import train_test_split\n",
        "train, test = train_test_split(DATADIR, test_size = 0.2)"
      ]
    },
    {
      "cell_type": "code",
      "execution_count": 67,
      "metadata": {
        "id": "TtO3HHWHLsJh"
      },
      "outputs": [],
      "source": [
        "dtree = DecisionTreeClassifier()\n",
        "dtree.fit(x_train,y_train)\n",
        "predictions = dtree.predict(x_test)"
      ]
    },
    {
      "cell_type": "code",
      "execution_count": 68,
      "metadata": {
        "id": "STPuu_PFMWI6"
      },
      "outputs": [],
      "source": [
        "X = DATADIR\n",
        "Y = DATADIRtest"
      ]
    },
    {
      "cell_type": "code",
      "execution_count": 69,
      "metadata": {
        "colab": {
          "base_uri": "https://localhost:8080/"
        },
        "id": "epPg3191MZRL",
        "outputId": "f61f4a60-ba10-4510-e8df-07c7d3d91414"
      },
      "outputs": [
        {
          "output_type": "stream",
          "name": "stdout",
          "text": [
            "Decision Tree Classifier is created\n"
          ]
        }
      ],
      "source": [
        "dtree1 = DecisionTreeClassifier()\n",
        "dtree1.fit(x_train, y_train)\n",
        "print(\"Decision Tree Classifier is created\")"
      ]
    },
    {
      "cell_type": "code",
      "execution_count": 70,
      "metadata": {
        "colab": {
          "base_uri": "https://localhost:8080/"
        },
        "id": "B0Fk7SMPMbIq",
        "outputId": "bedd7ea9-75ae-41c7-ae70-d572779eb3d6"
      },
      "outputs": [
        {
          "output_type": "execute_result",
          "data": {
            "text/plain": [
              "DecisionTreeClassifier(criterion='entropy', random_state=0)"
            ]
          },
          "metadata": {},
          "execution_count": 70
        }
      ],
      "source": [
        "classifier_dt= DecisionTreeClassifier(criterion='entropy', random_state=0)  \n",
        "classifier_dt.fit(x_train, y_train)"
      ]
    },
    {
      "cell_type": "code",
      "execution_count": 71,
      "metadata": {
        "colab": {
          "base_uri": "https://localhost:8080/"
        },
        "id": "yECu5lo3MhsT",
        "outputId": "a6d18930-a823-41d4-9d6f-a03ad90ed31c"
      },
      "outputs": [
        {
          "output_type": "execute_result",
          "data": {
            "text/plain": [
              "array([3, 5, 4, ..., 6, 3, 3])"
            ]
          },
          "metadata": {},
          "execution_count": 71
        }
      ],
      "source": [
        "y_pred_dt= classifier.predict(x_test)\n",
        "y_pred_dt"
      ]
    },
    {
      "cell_type": "code",
      "execution_count": 72,
      "metadata": {
        "colab": {
          "base_uri": "https://localhost:8080/"
        },
        "id": "hmkPSYdYMlpF",
        "outputId": "e7a83941-6ce1-4378-a82f-dd98ac172c2c"
      },
      "outputs": [
        {
          "output_type": "stream",
          "name": "stdout",
          "text": [
            "[[197   8  94 180 126 131  63]\n",
            " [  9  28   8  11  10  12   6]\n",
            " [104  17 222 146 109 146  95]\n",
            " [170  22 151 587 229 199 111]\n",
            " [131   8 105 218 278 169  81]\n",
            " [116   8 128 193 161 239  75]\n",
            " [ 53   4  66  92  64  45 319]]\n"
          ]
        }
      ],
      "source": [
        "cm= confusion_matrix(y_test, y_pred_dt) \n",
        "print(cm)"
      ]
    },
    {
      "cell_type": "code",
      "execution_count": 73,
      "metadata": {
        "colab": {
          "base_uri": "https://localhost:8080/"
        },
        "id": "obOCDjF_MoZ-",
        "outputId": "f408c53b-26c9-4f2a-ad6a-12e360cf54b7"
      },
      "outputs": [
        {
          "output_type": "stream",
          "name": "stdout",
          "text": [
            "The accuracy of Decision Tree is: 0.32329387186629527\n"
          ]
        }
      ],
      "source": [
        "print(\"The accuracy of Decision Tree is:\", metrics.accuracy_score(predictions, y_test))"
      ]
    },
    {
      "cell_type": "markdown",
      "metadata": {
        "id": "iY8-6Qt2M622"
      },
      "source": [
        "# **RANDOM FOREST CLASSIFIER**"
      ]
    },
    {
      "cell_type": "code",
      "execution_count": 74,
      "metadata": {
        "id": "keAqcQzWM-qp"
      },
      "outputs": [],
      "source": [
        "from sklearn import metrics\n",
        "from sklearn.ensemble import RandomForestClassifier\n",
        "from sklearn.metrics import confusion_matrix, accuracy_score"
      ]
    },
    {
      "cell_type": "code",
      "execution_count": 75,
      "metadata": {
        "colab": {
          "base_uri": "https://localhost:8080/"
        },
        "id": "JdYy58U8NHt0",
        "outputId": "82565cf7-6cfe-4671-95da-3cfa19249549"
      },
      "outputs": [
        {
          "output_type": "stream",
          "name": "stderr",
          "text": [
            "/usr/local/lib/python3.7/dist-packages/ipykernel_launcher.py:2: DataConversionWarning: A column-vector y was passed when a 1d array was expected. Please change the shape of y to (n_samples,), for example using ravel().\n",
            "  \n"
          ]
        },
        {
          "output_type": "execute_result",
          "data": {
            "text/plain": [
              "RandomForestClassifier(criterion='entropy', n_estimators=10, random_state=0)"
            ]
          },
          "metadata": {},
          "execution_count": 75
        }
      ],
      "source": [
        "classifier = RandomForestClassifier(n_estimators = 10, criterion = 'entropy', random_state = 0)\n",
        "classifier.fit(x_train, y_train)"
      ]
    },
    {
      "cell_type": "code",
      "execution_count": 76,
      "metadata": {
        "id": "UC2ruaMXNOlx"
      },
      "outputs": [],
      "source": [
        "y_pred = classifier.predict(x_test)"
      ]
    },
    {
      "cell_type": "code",
      "execution_count": 77,
      "metadata": {
        "colab": {
          "base_uri": "https://localhost:8080/"
        },
        "id": "DoUQb0SVNRkr",
        "outputId": "05eeebad-e026-4a2b-d4cf-fde958b2a19f"
      },
      "outputs": [
        {
          "output_type": "stream",
          "name": "stderr",
          "text": [
            "/usr/local/lib/python3.7/dist-packages/ipykernel_launcher.py:4: DataConversionWarning: A column-vector y was passed when a 1d array was expected. Please change the shape of y to (n_samples,), for example using ravel().\n",
            "  after removing the cwd from sys.path.\n"
          ]
        }
      ],
      "source": [
        "clf=RandomForestClassifier(n_estimators=100)\n",
        "\n",
        "\n",
        "clf.fit(x_train, y_train)\n",
        "\n",
        "y_pred=clf.predict(x_test)"
      ]
    },
    {
      "cell_type": "code",
      "execution_count": 78,
      "metadata": {
        "colab": {
          "base_uri": "https://localhost:8080/"
        },
        "id": "BpdwacNDNSij",
        "outputId": "ded4f605-6f16-4449-bf1e-eeb598b0c86e"
      },
      "outputs": [
        {
          "output_type": "stream",
          "name": "stdout",
          "text": [
            "[[ 182    0   53  274  116  142   32]\n",
            " [   2   32    3   19   12   13    3]\n",
            " [  53    1  259  224   93  147   62]\n",
            " [  51    0   52 1109  108  106   43]\n",
            " [  40    0   50  355  378  138   29]\n",
            " [  56    0   57  326  139  309   33]\n",
            " [  22    0   52  123   44   35  367]]\n"
          ]
        }
      ],
      "source": [
        "cm = confusion_matrix(y_test, y_pred)\n",
        "print(cm)"
      ]
    },
    {
      "cell_type": "code",
      "execution_count": 79,
      "metadata": {
        "colab": {
          "base_uri": "https://localhost:8080/"
        },
        "id": "ZZGJJ8ORNZHV",
        "outputId": "1b317373-f721-43fe-c5a2-3190ac1f74e1"
      },
      "outputs": [
        {
          "output_type": "stream",
          "name": "stdout",
          "text": [
            "accuracy: 0.45891364902506965\n"
          ]
        }
      ],
      "source": [
        "print(\"accuracy:\",metrics.accuracy_score(y_test, y_pred))"
      ]
    },
    {
      "cell_type": "markdown",
      "metadata": {
        "id": "1uX8SiXuNc9n"
      },
      "source": [
        "# **LASSO AND RIDGE REGRESSION**\n"
      ]
    },
    {
      "cell_type": "code",
      "execution_count": 80,
      "metadata": {
        "id": "kV4ZBpYtNloK"
      },
      "outputs": [],
      "source": [
        "import numpy as np\n",
        "import pandas as pd\n",
        "import matplotlib.pyplot as plt\n",
        "import seaborn as sns\n",
        "from sklearn.linear_model import Lasso\n",
        "from sklearn.linear_model import Ridge\n",
        "from sklearn.linear_model import LinearRegression"
      ]
    },
    {
      "cell_type": "code",
      "source": [
        "flat_data.nunique()"
      ],
      "metadata": {
        "colab": {
          "base_uri": "https://localhost:8080/"
        },
        "id": "ewjCXEdrHj9o",
        "outputId": "f1a97363-66be-4377-cd89-3973f7e28a4e"
      },
      "execution_count": 81,
      "outputs": [
        {
          "output_type": "execute_result",
          "data": {
            "text/plain": [
              "0        1782\n",
              "1        1794\n",
              "2        1773\n",
              "3        1724\n",
              "4        1706\n",
              "         ... \n",
              "60       1677\n",
              "61       1767\n",
              "62       1800\n",
              "63       1798\n",
              "label       7\n",
              "Length: 65, dtype: int64"
            ]
          },
          "metadata": {},
          "execution_count": 81
        }
      ]
    },
    {
      "cell_type": "code",
      "source": [
        "flat_data.shape"
      ],
      "metadata": {
        "colab": {
          "base_uri": "https://localhost:8080/"
        },
        "id": "7f1LxOLWHoxy",
        "outputId": "94f12fa6-43d4-48fe-efb8-97f2c5adee70"
      },
      "execution_count": 82,
      "outputs": [
        {
          "output_type": "execute_result",
          "data": {
            "text/plain": [
              "(28719, 65)"
            ]
          },
          "metadata": {},
          "execution_count": 82
        }
      ]
    },
    {
      "cell_type": "code",
      "source": [
        "col_to_use = ['angry','disgust','fear','happy','neutral','sad','surprise']"
      ],
      "metadata": {
        "id": "2bhwZWcCHwRW"
      },
      "execution_count": 83,
      "outputs": []
    },
    {
      "cell_type": "code",
      "source": [
        "from sklearn.model_selection import train_test_split\n",
        "from sklearn.linear_model import LinearRegression"
      ],
      "metadata": {
        "id": "CKQghFgwIOsP"
      },
      "execution_count": 84,
      "outputs": []
    },
    {
      "cell_type": "code",
      "execution_count": 85,
      "metadata": {
        "id": "euAvbZ3nOMod"
      },
      "outputs": [],
      "source": [
        "model = LinearRegression()"
      ]
    },
    {
      "cell_type": "code",
      "execution_count": 86,
      "metadata": {
        "colab": {
          "base_uri": "https://localhost:8080/"
        },
        "id": "23wSsvIfOPVZ",
        "outputId": "63844a9f-4138-406e-f402-81154718e14c"
      },
      "outputs": [
        {
          "output_type": "execute_result",
          "data": {
            "text/plain": [
              "LinearRegression()"
            ]
          },
          "metadata": {},
          "execution_count": 86
        }
      ],
      "source": [
        "model.fit(x_train,y_train)"
      ]
    },
    {
      "cell_type": "code",
      "execution_count": 87,
      "metadata": {
        "colab": {
          "base_uri": "https://localhost:8080/"
        },
        "id": "zjH2UqjGORdu",
        "outputId": "e761423d-9690-42b0-ee8b-00e618ba56b6"
      },
      "outputs": [
        {
          "output_type": "execute_result",
          "data": {
            "text/plain": [
              "0.04189043291114447"
            ]
          },
          "metadata": {},
          "execution_count": 87
        }
      ],
      "source": [
        "model.score(x_test,y_test)"
      ]
    },
    {
      "cell_type": "code",
      "execution_count": 88,
      "metadata": {
        "colab": {
          "base_uri": "https://localhost:8080/"
        },
        "id": "O2kABxVoOTRS",
        "outputId": "23a29820-bffd-4513-a710-709823eeeb22"
      },
      "outputs": [
        {
          "output_type": "execute_result",
          "data": {
            "text/plain": [
              "0.047139988531635035"
            ]
          },
          "metadata": {},
          "execution_count": 88
        }
      ],
      "source": [
        "model.score(x_train, y_train)"
      ]
    },
    {
      "cell_type": "code",
      "execution_count": 89,
      "metadata": {
        "id": "ZX3L4z7hOVNK"
      },
      "outputs": [],
      "source": [
        "from sklearn.linear_model import Lasso\n",
        "lasso_model = Lasso()"
      ]
    },
    {
      "cell_type": "code",
      "execution_count": 90,
      "metadata": {
        "colab": {
          "base_uri": "https://localhost:8080/"
        },
        "id": "-wR3VdtaOX5T",
        "outputId": "1f04f2b9-5e3f-4c20-a52e-e6b0a0825290"
      },
      "outputs": [
        {
          "output_type": "execute_result",
          "data": {
            "text/plain": [
              "Lasso()"
            ]
          },
          "metadata": {},
          "execution_count": 90
        }
      ],
      "source": [
        "lasso_model.fit(x_train, y_train)"
      ]
    },
    {
      "cell_type": "code",
      "execution_count": 91,
      "metadata": {
        "colab": {
          "base_uri": "https://localhost:8080/"
        },
        "id": "q8H60RE6NonI",
        "outputId": "170cbcdc-02d2-428f-9f3b-f3dc11d47946"
      },
      "outputs": [
        {
          "output_type": "stream",
          "name": "stderr",
          "text": [
            "/usr/local/lib/python3.7/dist-packages/ipykernel_launcher.py:2: UserWarning: With alpha=0, this algorithm does not converge well. You are advised to use the LinearRegression estimator\n",
            "  \n",
            "/usr/local/lib/python3.7/dist-packages/sklearn/linear_model/_coordinate_descent.py:648: UserWarning: Coordinate descent with no regularization may lead to unexpected results and is discouraged.\n",
            "  coef_, l1_reg, l2_reg, X, y, max_iter, tol, rng, random, positive\n",
            "/usr/local/lib/python3.7/dist-packages/sklearn/linear_model/_coordinate_descent.py:648: ConvergenceWarning: Objective did not converge. You might want to increase the number of iterations, check the scale of the features or consider increasing regularisation. Duality gap: 3.546e+04, tolerance: 7.442e+00 Linear regression models with null weight for the l1 regularization term are more efficiently fitted using one of the solvers implemented in sklearn.linear_model.Ridge/RidgeCV instead.\n",
            "  coef_, l1_reg, l2_reg, X, y, max_iter, tol, rng, random, positive\n"
          ]
        },
        {
          "output_type": "execute_result",
          "data": {
            "text/plain": [
              "Lasso(alpha=0)"
            ]
          },
          "metadata": {},
          "execution_count": 91
        }
      ],
      "source": [
        "model_lasso = Lasso(alpha=0)\n",
        "model_lasso.fit(x_train, y_train)"
      ]
    },
    {
      "cell_type": "code",
      "execution_count": 92,
      "metadata": {
        "colab": {
          "base_uri": "https://localhost:8080/"
        },
        "id": "7pkQQ1b1OHQH",
        "outputId": "ac07468b-432b-4b09-b7c3-bbf1cc3c9841"
      },
      "outputs": [
        {
          "output_type": "stream",
          "name": "stderr",
          "text": [
            "/usr/local/lib/python3.7/dist-packages/sklearn/linear_model/_base.py:155: FutureWarning: 'normalize' was deprecated in version 1.0 and will be removed in 1.2. Please leave the normalize parameter to its default value to silence this warning. The default behavior of this estimator is to not do any normalization. If normalization is needed please use sklearn.preprocessing.StandardScaler instead.\n",
            "  FutureWarning,\n"
          ]
        },
        {
          "output_type": "execute_result",
          "data": {
            "text/plain": [
              "Ridge(alpha=0.5, normalize=False, random_state=42, tol=0.01)"
            ]
          },
          "metadata": {},
          "execution_count": 92
        }
      ],
      "source": [
        "model_r = Ridge(alpha = 0.5, normalize = False, tol = 0.01, \\\n",
        "              solver ='auto', random_state = 42)\n",
        "model_r.fit(x_train, y_train)\n",
        "  "
      ]
    },
    {
      "cell_type": "code",
      "execution_count": 93,
      "metadata": {
        "colab": {
          "base_uri": "https://localhost:8080/"
        },
        "id": "xLC3nPF8Nspl",
        "outputId": "2db71875-8b09-4501-9048-9d18157a330e"
      },
      "outputs": [
        {
          "output_type": "stream",
          "name": "stdout",
          "text": [
            "1.7568134423929318\n"
          ]
        }
      ],
      "source": [
        "pred_lasso= model_lasso.predict(x_test)\n",
        "print(np.sqrt(mean_squared_error(pred_lasso, y_test)))"
      ]
    },
    {
      "cell_type": "code",
      "execution_count": 94,
      "metadata": {
        "id": "fA15FANhOEQx"
      },
      "outputs": [],
      "source": [
        "y_pred_r = model_r.predict(x_test)"
      ]
    },
    {
      "cell_type": "code",
      "execution_count": 95,
      "metadata": {
        "colab": {
          "base_uri": "https://localhost:8080/"
        },
        "id": "7IZSVmWrOLLu",
        "outputId": "73ddf26b-38f7-41f1-8f6a-1a348e878a77"
      },
      "outputs": [
        {
          "output_type": "execute_result",
          "data": {
            "text/plain": [
              "0.04200479032590221"
            ]
          },
          "metadata": {},
          "execution_count": 95
        }
      ],
      "source": [
        "r2_score(y_test,y_pred_r)"
      ]
    },
    {
      "cell_type": "code",
      "execution_count": 96,
      "metadata": {
        "id": "GfELp9ZVOfbP"
      },
      "outputs": [],
      "source": [
        "ridge_model = Ridge()"
      ]
    },
    {
      "cell_type": "code",
      "execution_count": 97,
      "metadata": {
        "colab": {
          "base_uri": "https://localhost:8080/"
        },
        "id": "SjA_NlhWPP_9",
        "outputId": "e475f5de-8117-41e8-81c2-7446b3e10152"
      },
      "outputs": [
        {
          "output_type": "execute_result",
          "data": {
            "text/plain": [
              "Ridge()"
            ]
          },
          "metadata": {},
          "execution_count": 97
        }
      ],
      "source": [
        "ridge_model.fit(x_train,y_train)"
      ]
    },
    {
      "cell_type": "code",
      "execution_count": 98,
      "metadata": {
        "colab": {
          "base_uri": "https://localhost:8080/"
        },
        "id": "xc21Y2XcPUS3",
        "outputId": "a977fc44-da30-45c1-eb49-0baf7638d71d"
      },
      "outputs": [
        {
          "output_type": "execute_result",
          "data": {
            "text/plain": [
              "0.04210254908442279"
            ]
          },
          "metadata": {},
          "execution_count": 98
        }
      ],
      "source": [
        "ridge_model.score(x_test, y_test)"
      ]
    },
    {
      "cell_type": "code",
      "execution_count": 99,
      "metadata": {
        "colab": {
          "base_uri": "https://localhost:8080/"
        },
        "id": "CnO2U2Y-PXux",
        "outputId": "7956bcd9-0187-4330-c4e5-328b62737f66"
      },
      "outputs": [
        {
          "output_type": "execute_result",
          "data": {
            "text/plain": [
              "0.45891364902506965"
            ]
          },
          "metadata": {},
          "execution_count": 99
        }
      ],
      "source": [
        "accuracy_score(y_test, y_pred)"
      ]
    },
    {
      "cell_type": "code",
      "execution_count": 100,
      "metadata": {
        "colab": {
          "base_uri": "https://localhost:8080/"
        },
        "id": "b0rHUiVBPV4i",
        "outputId": "b4637832-1832-47e4-9c3a-c60604514cfd"
      },
      "outputs": [
        {
          "output_type": "execute_result",
          "data": {
            "text/plain": [
              "0.04712624607436966"
            ]
          },
          "metadata": {},
          "execution_count": 100
        }
      ],
      "source": [
        "ridge_model.score(x_train,y_train)"
      ]
    },
    {
      "cell_type": "markdown",
      "source": [
        "# **CONFUSION MATRIX**"
      ],
      "metadata": {
        "id": "9L9Nj71Yr5AL"
      }
    },
    {
      "cell_type": "code",
      "execution_count": 103,
      "metadata": {
        "id": "k5eWf8LePtA3"
      },
      "outputs": [],
      "source": [
        "def print_confusion_matrix(confusion_matrix, class_names, figsize = (10,7), fontsize=14):\n",
        "    df_cm = pd.DataFrame(\n",
        "        confusion_matrix, index=class_names, columns=class_names, \n",
        "    )\n",
        "    fig = plt.figure(figsize=figsize)\n",
        "    try:\n",
        "        heatmap = sns.heatmap(df_cm, annot=True, fmt=\"d\")\n",
        "    except ValueError:\n",
        "        raise ValueError(\"Confusion matrix values must be integers.\")\n",
        "    heatmap.yaxis.set_ticklabels(heatmap.yaxis.get_ticklabels(), rotation=0, ha='right', fontsize=fontsize)\n",
        "    heatmap.xaxis.set_ticklabels(heatmap.xaxis.get_ticklabels(), rotation=45, ha='right', fontsize=fontsize)\n",
        "    plt.ylabel('Truth')\n",
        "    plt.xlabel('Prediction')"
      ]
    },
    {
      "cell_type": "code",
      "execution_count": 104,
      "metadata": {
        "id": "AkkByq55P4d8"
      },
      "outputs": [],
      "source": [
        "truth =      ['happy','neutral','sad','angry','fear','disgust','fear','angry','angry','disgust','fear','happy','neutral','sad','surprise','happy','neutral','fear','surprise']\n",
        "prediction = ['angry','disgust','fear','happy','sad','neutral','sad','surprise','angry','disgust','fear','happy','neutral','sad','angry','happy','surprise','sad','surprise']"
      ]
    },
    {
      "cell_type": "code",
      "execution_count": 105,
      "metadata": {
        "colab": {
          "base_uri": "https://localhost:8080/",
          "height": 486
        },
        "id": "dztUq-yHQCPI",
        "outputId": "651f8327-aea3-4d5f-a008-e22f2e14d5f1"
      },
      "outputs": [
        {
          "output_type": "display_data",
          "data": {
            "text/plain": [
              "<Figure size 720x504 with 2 Axes>"
            ],
            "image/png": "[encoded data removed]"
          },
          "metadata": {
            "needs_background": "light"
          }
        }
      ],
      "source": [
        "cm = confusion_matrix(truth,prediction)\n",
        "print_confusion_matrix(cm,['angry','disgust','fear','happy','neutral','sad','surprise'])"
      ]
    },
    {
      "cell_type": "markdown",
      "source": [
        "# **PRECISION, RECALL, F1-SCORE**"
      ],
      "metadata": {
        "id": "ci7i0ITGsB5I"
      }
    },
    {
      "cell_type": "code",
      "execution_count": 106,
      "metadata": {
        "colab": {
          "base_uri": "https://localhost:8080/"
        },
        "id": "UZ4aUmWlQGha",
        "outputId": "eb0898fe-dd81-4e4b-d2c0-87fa54066f51"
      },
      "outputs": [
        {
          "output_type": "stream",
          "name": "stdout",
          "text": [
            "              precision    recall  f1-score   support\n",
            "\n",
            "       angry       0.33      0.33      0.33         3\n",
            "     disgust       0.50      0.50      0.50         2\n",
            "        fear       0.50      0.25      0.33         4\n",
            "       happy       0.67      0.67      0.67         3\n",
            "     neutral       0.50      0.33      0.40         3\n",
            "         sad       0.25      0.50      0.33         2\n",
            "    surprise       0.33      0.50      0.40         2\n",
            "\n",
            "    accuracy                           0.42        19\n",
            "   macro avg       0.44      0.44      0.42        19\n",
            "weighted avg       0.46      0.42      0.42        19\n",
            "\n"
          ]
        }
      ],
      "source": [
        "print(classification_report(truth, prediction))"
      ]
    },
    {
      "cell_type": "markdown",
      "source": [
        "# **ACCURACY BAR GRAPH**"
      ],
      "metadata": {
        "id": "ebGpHQ_1obI_"
      }
    },
    {
      "cell_type": "code",
      "source": [
        "from ast import increment_lineno\n",
        "import matplotlib.pyplot as plt\n",
        "import numpy as np\n",
        "%matplotlib inline"
      ],
      "metadata": {
        "id": "BF58CGF7ohbG"
      },
      "execution_count": 107,
      "outputs": []
    },
    {
      "cell_type": "code",
      "source": [
        "Regressions=['LinR','LogR','DTC','SVM','L&R','RFC','NB']\n",
        "Accuracy=[5,34,32,40,37,45,24]"
      ],
      "metadata": {
        "id": "0pLBiMYio4PJ"
      },
      "execution_count": 108,
      "outputs": []
    },
    {
      "cell_type": "code",
      "source": [
        "xpos= np.arange(len(Regressions))"
      ],
      "metadata": {
        "id": "tGUqZfnntLL7"
      },
      "execution_count": 109,
      "outputs": []
    },
    {
      "cell_type": "code",
      "source": [
        "plt.bar(xpos, Accuracy, label='Accuracy')\n",
        "plt.xticks(xpos, Regressions)\n",
        "plt.ylabel(\"Accuracy\")\n",
        "plt.title('Accuracy Bar Graph')\n",
        "plt.legend()"
      ],
      "metadata": {
        "colab": {
          "base_uri": "https://localhost:8080/",
          "height": 298
        },
        "id": "vNh-BkYotVMZ",
        "outputId": "6f9f8215-a281-4d0d-e084-b79b858242ae"
      },
      "execution_count": 110,
      "outputs": [
        {
          "output_type": "execute_result",
          "data": {
            "text/plain": [
              "<matplotlib.legend.Legend at 0x7f4e50e205d0>"
            ]
          },
          "metadata": {},
          "execution_count": 110
        },
        {
          "output_type": "display_data",
          "data": {
            "text/plain": [
              "<Figure size 432x288 with 1 Axes>"
            ],
            "image/png": "[encoded data removed]"
          },
          "metadata": {
            "needs_background": "light"
          }
        }
      ]
    },
    {
      "cell_type": "markdown",
      "source": [
        "BEST ONE TO USE IS RANDOM FOREST"
      ],
      "metadata": {
        "id": "DvYiq0vIuKLD"
      }
    }
  ],
  "metadata": {
    "colab": {
      "collapsed_sections": [
        "65Qe0TOUt4NS",
        "Bww7ShpnwJTX",
        "GN474bBa2vON",
        "xNh35C7L8jlA",
        "dxxoOX_CEMhS",
        "sL-bo9cWH4vV",
        "iY8-6Qt2M622",
        "1uX8SiXuNc9n",
        "9L9Nj71Yr5AL",
        "ci7i0ITGsB5I",
        "ebGpHQ_1obI_"
      ],
      "name": "FACIAL EXPRESSION RECOGNITION.ipynb",
      "provenance": [],
      "authorship_tag": "ABX9TyPIFYTvl8V5qy1REABjAC2d",
      "include_colab_link": true
    },
    "kernelspec": {
      "display_name": "Python 3",
      "name": "python3"
    },
    "language_info": {
      "name": "python"
    }
  },
  "nbformat": 4,
  "nbformat_minor": 0
}