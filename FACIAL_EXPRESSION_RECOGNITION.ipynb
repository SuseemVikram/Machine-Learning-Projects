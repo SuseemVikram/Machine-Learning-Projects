{
  "nbformat": 4,
  "nbformat_minor": 0,
  "metadata": {
    "colab": {
      "name": "FACIAL EXPRESSION RECOGNITION.ipynb",
      "provenance": [],
      "collapsed_sections": [
        "65Qe0TOUt4NS",
        "Bww7ShpnwJTX",
        "GN474bBa2vON",
        "xNh35C7L8jlA",
        "dxxoOX_CEMhS",
        "sL-bo9cWH4vV",
        "iY8-6Qt2M622",
        "1uX8SiXuNc9n"
      ]
    },
    "kernelspec": {
      "name": "python3",
      "display_name": "Python 3"
    },
    "language_info": {
      "name": "python"
    }
  },
  "cells": [
    {
      "cell_type": "markdown",
      "source": [
        "# ***FACIAL EXPRESSION RECOGNITION***"
      ],
      "metadata": {
        "id": "65Qe0TOUt4NS"
      }
    },
    {
      "cell_type": "code",
      "source": [
        "from google.colab import drive\n",
        "drive.mount('/content/drive')"
      ],
      "metadata": {
        "colab": {
          "base_uri": "https://localhost:8080/"
        },
        "id": "u8PvDJsfuqeQ",
        "outputId": "4cb91f26-6de2-42a7-fc6a-34aa097d7241"
      },
      "execution_count": 1,
      "outputs": [
        {
          "output_type": "stream",
          "name": "stdout",
          "text": [
            "Mounted at /content/drive\n"
          ]
        }
      ]
    },
    {
      "cell_type": "code",
      "source": [
        "import os\n",
        "import cv2\n",
        "import os.path\n",
        "import numpy as np\n",
        "import seaborn as sns\n",
        "import matplotlib.pyplot as plt\n",
        "import pandas as pd\n",
        "import sklearn\n",
        "\n",
        "from pathlib import Path\n",
        "from pandas import read_csv\n",
        "from sklearn import datasets\n",
        "from skimage.io import imread\n",
        "from skimage.transform import resize\n",
        "from sklearn.model_selection import train_test_split\n",
        "from sklearn.feature_extraction.text import CountVectorizer\n",
        "\n",
        "from sklearn import metrics\n",
        "from sklearn.metrics import confusion_matrix  \n",
        "from sklearn.metrics import mean_squared_error, r2_score\n",
        "from sklearn.metrics import confusion_matrix, accuracy_score\n",
        "from sklearn.metrics import accuracy_score,classification_report,confusion_matrix\n",
        "\n",
        "from sklearn.svm import SVC\n",
        "from sklearn.linear_model import Lasso\n",
        "from sklearn.linear_model import Ridge\n",
        "from sklearn.naive_bayes import GaussianNB\n",
        "from sklearn.naive_bayes import MultinomialNB\n",
        "from sklearn.tree import DecisionTreeClassifier\n",
        "from sklearn.linear_model import LinearRegression\n",
        "from sklearn.linear_model import LogisticRegression\n",
        "from sklearn.ensemble import RandomForestClassifier"
      ],
      "metadata": {
        "id": "uvEecNhIt485"
      },
      "execution_count": 2,
      "outputs": []
    },
    {
      "cell_type": "code",
      "source": [
        "DATADIR=r\"/content/drive/MyDrive/Machine Learning 4th sem/train\"\n",
        "DATADIRtest=r\"/content/drive/MyDrive/Machine Learning 4th sem/test\"\n",
        "Cate = ['angry','disgust','fear','happy','neutral','sad','surprise']"
      ],
      "metadata": {
        "id": "Mv1UiiLkvTLf"
      },
      "execution_count": 3,
      "outputs": []
    },
    {
      "cell_type": "code",
      "source": [
        "label = []\n",
        "flat_data = []\n",
        "\n",
        "def create_training_data():\n",
        "    i=1\n",
        "    for category in Cate:\n",
        "        class_num=Cate.index(category)\n",
        "        path=os.path.join(DATADIR,category)\n",
        "        for img in os.listdir(path):\n",
        "            img_array=imread(os.path.join(path,img))\n",
        "            img_resized=resize(img_array,(8,8,3))\n",
        "            img_black = np.mean(img_resized,axis=2)\n",
        "            flat_data.append(img_black.flatten())\n",
        "            label.append(class_num)\n",
        "            \n",
        "create_training_data()\n",
        "\n",
        "flat_data=np.array(flat_data)\n",
        "label=np.array(label)\n",
        "\n",
        "print(flat_data)\n",
        "label=pd.DataFrame(label)"
      ],
      "metadata": {
        "colab": {
          "base_uri": "https://localhost:8080/"
        },
        "id": "MsRgFqqohG6O",
        "outputId": "e018bdb6-a076-4823-8232-448f2f05bc9a"
      },
      "execution_count": 4,
      "outputs": [
        {
          "output_type": "stream",
          "name": "stdout",
          "text": [
            "[[0.58235294 0.70294118 0.68431373 ... 0.47941176 0.28039216 0.20784314]\n",
            " [0.11372549 0.2127451  0.25686275 ... 0.38137255 0.24901961 0.14901961]\n",
            " [0.71470588 0.69607843 0.65980392 ... 0.38431373 0.20686275 0.03235294]\n",
            " ...\n",
            " [0.20980392 0.24901961 0.25784314 ... 0.48921569 0.60196078 0.46862745]\n",
            " [0.8872549  0.50882353 0.6372549  ... 0.58627451 0.53627451 0.47352941]\n",
            " [0.83921569 0.8372549  0.87254902 ... 0.59607843 0.68529412 0.90196078]]\n"
          ]
        }
      ]
    },
    {
      "cell_type": "code",
      "source": [
        "flat_data = pd.DataFrame(flat_data)\n",
        "\n",
        "flat_data.head(7)"
      ],
      "metadata": {
        "colab": {
          "base_uri": "https://localhost:8080/",
          "height": 362
        },
        "id": "3pHqgduahQq0",
        "outputId": "6faf6552-97f6-4ac6-d7fe-da8b210f6c37"
      },
      "execution_count": 5,
      "outputs": [
        {
          "output_type": "execute_result",
          "data": {
            "text/plain": [
              "         0         1         2         3         4         5         6   \\\n",
              "0  0.582353  0.702941  0.684314  0.604902  0.648039  0.583333  0.538235   \n",
              "1  0.113725  0.212745  0.256863  0.555882  0.624510  0.538235  0.368627   \n",
              "2  0.714706  0.696078  0.659804  0.645098  0.643137  0.614706  0.522549   \n",
              "3  0.148039  0.336275  0.501961  0.585294  0.697059  0.694118  0.348039   \n",
              "4  0.023529  0.031373  0.081373  0.135294  0.236275  0.360784  0.504902   \n",
              "5  0.225490  0.188235  0.191176  0.270588  0.281373  0.259804  0.287255   \n",
              "6  0.422549  0.428431  0.492157  0.518627  0.468627  0.411765  0.338235   \n",
              "\n",
              "         7         8         9   ...        54        55        56        57  \\\n",
              "0  0.587255  0.283333  0.378431  ...  0.461765  0.273529  0.755882  0.868627   \n",
              "1  0.229412  0.117647  0.223529  ...  0.329412  0.215686  0.123529  0.200000   \n",
              "2  0.443137  0.654902  0.588235  ...  0.401961  0.254902  0.244118  0.399020   \n",
              "3  0.563725  0.222549  0.495098  ...  0.558824  0.121569  0.036275  0.057843   \n",
              "4  0.173529  0.028431  0.097059  ...  0.160784  0.350980  0.197059  0.176471   \n",
              "5  0.345098  0.181373  0.186275  ...  0.350980  0.228431  0.167647  0.224510   \n",
              "6  0.231373  0.600000  0.549020  ...  0.399020  0.396078  0.661765  0.668627   \n",
              "\n",
              "         58        59        60        61        62        63  \n",
              "0  0.765686  0.508824  0.492157  0.479412  0.280392  0.207843  \n",
              "1  0.138235  0.370588  0.454902  0.381373  0.249020  0.149020  \n",
              "2  0.451961  0.454902  0.438235  0.384314  0.206863  0.032353  \n",
              "3  0.174510  0.364706  0.430392  0.456863  0.431373  0.117647  \n",
              "4  0.178431  0.193137  0.085294  0.022549  0.133333  0.371569  \n",
              "5  0.233333  0.319608  0.333333  0.274510  0.306863  0.221569  \n",
              "6  0.572549  0.254902  0.255882  0.197059  0.406863  0.386275  \n",
              "\n",
              "[7 rows x 64 columns]"
            ],
            "text/html": [
              "\n",
              "  <div id=\"df-812e14c8-c69c-4e0f-875e-607659b35270\">\n",
              "    <div class=\"colab-df-container\">\n",
              "      <div>\n",
              "<style scoped>\n",
              "    .dataframe tbody tr th:only-of-type {\n",
              "        vertical-align: middle;\n",
              "    }\n",
              "\n",
              "    .dataframe tbody tr th {\n",
              "        vertical-align: top;\n",
              "    }\n",
              "\n",
              "    .dataframe thead th {\n",
              "        text-align: right;\n",
              "    }\n",
              "</style>\n",
              "<table border=\"1\" class=\"dataframe\">\n",
              "  <thead>\n",
              "    <tr style=\"text-align: right;\">\n",
              "      <th></th>\n",
              "      <th>0</th>\n",
              "      <th>1</th>\n",
              "      <th>2</th>\n",
              "      <th>3</th>\n",
              "      <th>4</th>\n",
              "      <th>5</th>\n",
              "      <th>6</th>\n",
              "      <th>7</th>\n",
              "      <th>8</th>\n",
              "      <th>9</th>\n",
              "      <th>...</th>\n",
              "      <th>54</th>\n",
              "      <th>55</th>\n",
              "      <th>56</th>\n",
              "      <th>57</th>\n",
              "      <th>58</th>\n",
              "      <th>59</th>\n",
              "      <th>60</th>\n",
              "      <th>61</th>\n",
              "      <th>62</th>\n",
              "      <th>63</th>\n",
              "    </tr>\n",
              "  </thead>\n",
              "  <tbody>\n",
              "    <tr>\n",
              "      <th>0</th>\n",
              "      <td>0.582353</td>\n",
              "      <td>0.702941</td>\n",
              "      <td>0.684314</td>\n",
              "      <td>0.604902</td>\n",
              "      <td>0.648039</td>\n",
              "      <td>0.583333</td>\n",
              "      <td>0.538235</td>\n",
              "      <td>0.587255</td>\n",
              "      <td>0.283333</td>\n",
              "      <td>0.378431</td>\n",
              "      <td>...</td>\n",
              "      <td>0.461765</td>\n",
              "      <td>0.273529</td>\n",
              "      <td>0.755882</td>\n",
              "      <td>0.868627</td>\n",
              "      <td>0.765686</td>\n",
              "      <td>0.508824</td>\n",
              "      <td>0.492157</td>\n",
              "      <td>0.479412</td>\n",
              "      <td>0.280392</td>\n",
              "      <td>0.207843</td>\n",
              "    </tr>\n",
              "    <tr>\n",
              "      <th>1</th>\n",
              "      <td>0.113725</td>\n",
              "      <td>0.212745</td>\n",
              "      <td>0.256863</td>\n",
              "      <td>0.555882</td>\n",
              "      <td>0.624510</td>\n",
              "      <td>0.538235</td>\n",
              "      <td>0.368627</td>\n",
              "      <td>0.229412</td>\n",
              "      <td>0.117647</td>\n",
              "      <td>0.223529</td>\n",
              "      <td>...</td>\n",
              "      <td>0.329412</td>\n",
              "      <td>0.215686</td>\n",
              "      <td>0.123529</td>\n",
              "      <td>0.200000</td>\n",
              "      <td>0.138235</td>\n",
              "      <td>0.370588</td>\n",
              "      <td>0.454902</td>\n",
              "      <td>0.381373</td>\n",
              "      <td>0.249020</td>\n",
              "      <td>0.149020</td>\n",
              "    </tr>\n",
              "    <tr>\n",
              "      <th>2</th>\n",
              "      <td>0.714706</td>\n",
              "      <td>0.696078</td>\n",
              "      <td>0.659804</td>\n",
              "      <td>0.645098</td>\n",
              "      <td>0.643137</td>\n",
              "      <td>0.614706</td>\n",
              "      <td>0.522549</td>\n",
              "      <td>0.443137</td>\n",
              "      <td>0.654902</td>\n",
              "      <td>0.588235</td>\n",
              "      <td>...</td>\n",
              "      <td>0.401961</td>\n",
              "      <td>0.254902</td>\n",
              "      <td>0.244118</td>\n",
              "      <td>0.399020</td>\n",
              "      <td>0.451961</td>\n",
              "      <td>0.454902</td>\n",
              "      <td>0.438235</td>\n",
              "      <td>0.384314</td>\n",
              "      <td>0.206863</td>\n",
              "      <td>0.032353</td>\n",
              "    </tr>\n",
              "    <tr>\n",
              "      <th>3</th>\n",
              "      <td>0.148039</td>\n",
              "      <td>0.336275</td>\n",
              "      <td>0.501961</td>\n",
              "      <td>0.585294</td>\n",
              "      <td>0.697059</td>\n",
              "      <td>0.694118</td>\n",
              "      <td>0.348039</td>\n",
              "      <td>0.563725</td>\n",
              "      <td>0.222549</td>\n",
              "      <td>0.495098</td>\n",
              "      <td>...</td>\n",
              "      <td>0.558824</td>\n",
              "      <td>0.121569</td>\n",
              "      <td>0.036275</td>\n",
              "      <td>0.057843</td>\n",
              "      <td>0.174510</td>\n",
              "      <td>0.364706</td>\n",
              "      <td>0.430392</td>\n",
              "      <td>0.456863</td>\n",
              "      <td>0.431373</td>\n",
              "      <td>0.117647</td>\n",
              "    </tr>\n",
              "    <tr>\n",
              "      <th>4</th>\n",
              "      <td>0.023529</td>\n",
              "      <td>0.031373</td>\n",
              "      <td>0.081373</td>\n",
              "      <td>0.135294</td>\n",
              "      <td>0.236275</td>\n",
              "      <td>0.360784</td>\n",
              "      <td>0.504902</td>\n",
              "      <td>0.173529</td>\n",
              "      <td>0.028431</td>\n",
              "      <td>0.097059</td>\n",
              "      <td>...</td>\n",
              "      <td>0.160784</td>\n",
              "      <td>0.350980</td>\n",
              "      <td>0.197059</td>\n",
              "      <td>0.176471</td>\n",
              "      <td>0.178431</td>\n",
              "      <td>0.193137</td>\n",
              "      <td>0.085294</td>\n",
              "      <td>0.022549</td>\n",
              "      <td>0.133333</td>\n",
              "      <td>0.371569</td>\n",
              "    </tr>\n",
              "    <tr>\n",
              "      <th>5</th>\n",
              "      <td>0.225490</td>\n",
              "      <td>0.188235</td>\n",
              "      <td>0.191176</td>\n",
              "      <td>0.270588</td>\n",
              "      <td>0.281373</td>\n",
              "      <td>0.259804</td>\n",
              "      <td>0.287255</td>\n",
              "      <td>0.345098</td>\n",
              "      <td>0.181373</td>\n",
              "      <td>0.186275</td>\n",
              "      <td>...</td>\n",
              "      <td>0.350980</td>\n",
              "      <td>0.228431</td>\n",
              "      <td>0.167647</td>\n",
              "      <td>0.224510</td>\n",
              "      <td>0.233333</td>\n",
              "      <td>0.319608</td>\n",
              "      <td>0.333333</td>\n",
              "      <td>0.274510</td>\n",
              "      <td>0.306863</td>\n",
              "      <td>0.221569</td>\n",
              "    </tr>\n",
              "    <tr>\n",
              "      <th>6</th>\n",
              "      <td>0.422549</td>\n",
              "      <td>0.428431</td>\n",
              "      <td>0.492157</td>\n",
              "      <td>0.518627</td>\n",
              "      <td>0.468627</td>\n",
              "      <td>0.411765</td>\n",
              "      <td>0.338235</td>\n",
              "      <td>0.231373</td>\n",
              "      <td>0.600000</td>\n",
              "      <td>0.549020</td>\n",
              "      <td>...</td>\n",
              "      <td>0.399020</td>\n",
              "      <td>0.396078</td>\n",
              "      <td>0.661765</td>\n",
              "      <td>0.668627</td>\n",
              "      <td>0.572549</td>\n",
              "      <td>0.254902</td>\n",
              "      <td>0.255882</td>\n",
              "      <td>0.197059</td>\n",
              "      <td>0.406863</td>\n",
              "      <td>0.386275</td>\n",
              "    </tr>\n",
              "  </tbody>\n",
              "</table>\n",
              "<p>7 rows × 64 columns</p>\n",
              "</div>\n",
              "      <button class=\"colab-df-convert\" onclick=\"convertToInteractive('df-812e14c8-c69c-4e0f-875e-607659b35270')\"\n",
              "              title=\"Convert this dataframe to an interactive table.\"\n",
              "              style=\"display:none;\">\n",
              "        \n",
              "  <svg xmlns=\"http://www.w3.org/2000/svg\" height=\"24px\"viewBox=\"0 0 24 24\"\n",
              "       width=\"24px\">\n",
              "    <path d=\"M0 0h24v24H0V0z\" fill=\"none\"/>\n",
              "    <path d=\"M18.56 5.44l.94 2.06.94-2.06 2.06-.94-2.06-.94-.94-2.06-.94 2.06-2.06.94zm-11 1L8.5 8.5l.94-2.06 2.06-.94-2.06-.94L8.5 2.5l-.94 2.06-2.06.94zm10 10l.94 2.06.94-2.06 2.06-.94-2.06-.94-.94-2.06-.94 2.06-2.06.94z\"/><path d=\"M17.41 7.96l-1.37-1.37c-.4-.4-.92-.59-1.43-.59-.52 0-1.04.2-1.43.59L10.3 9.45l-7.72 7.72c-.78.78-.78 2.05 0 2.83L4 21.41c.39.39.9.59 1.41.59.51 0 1.02-.2 1.41-.59l7.78-7.78 2.81-2.81c.8-.78.8-2.07 0-2.86zM5.41 20L4 18.59l7.72-7.72 1.47 1.35L5.41 20z\"/>\n",
              "  </svg>\n",
              "      </button>\n",
              "      \n",
              "  <style>\n",
              "    .colab-df-container {\n",
              "      display:flex;\n",
              "      flex-wrap:wrap;\n",
              "      gap: 12px;\n",
              "    }\n",
              "\n",
              "    .colab-df-convert {\n",
              "      background-color: #E8F0FE;\n",
              "      border: none;\n",
              "      border-radius: 50%;\n",
              "      cursor: pointer;\n",
              "      display: none;\n",
              "      fill: #1967D2;\n",
              "      height: 32px;\n",
              "      padding: 0 0 0 0;\n",
              "      width: 32px;\n",
              "    }\n",
              "\n",
              "    .colab-df-convert:hover {\n",
              "      background-color: #E2EBFA;\n",
              "      box-shadow: 0px 1px 2px rgba(60, 64, 67, 0.3), 0px 1px 3px 1px rgba(60, 64, 67, 0.15);\n",
              "      fill: #174EA6;\n",
              "    }\n",
              "\n",
              "    [theme=dark] .colab-df-convert {\n",
              "      background-color: #3B4455;\n",
              "      fill: #D2E3FC;\n",
              "    }\n",
              "\n",
              "    [theme=dark] .colab-df-convert:hover {\n",
              "      background-color: #434B5C;\n",
              "      box-shadow: 0px 1px 3px 1px rgba(0, 0, 0, 0.15);\n",
              "      filter: drop-shadow(0px 1px 2px rgba(0, 0, 0, 0.3));\n",
              "      fill: #FFFFFF;\n",
              "    }\n",
              "  </style>\n",
              "\n",
              "      <script>\n",
              "        const buttonEl =\n",
              "          document.querySelector('#df-812e14c8-c69c-4e0f-875e-607659b35270 button.colab-df-convert');\n",
              "        buttonEl.style.display =\n",
              "          google.colab.kernel.accessAllowed ? 'block' : 'none';\n",
              "\n",
              "        async function convertToInteractive(key) {\n",
              "          const element = document.querySelector('#df-812e14c8-c69c-4e0f-875e-607659b35270');\n",
              "          const dataTable =\n",
              "            await google.colab.kernel.invokeFunction('convertToInteractive',\n",
              "                                                     [key], {});\n",
              "          if (!dataTable) return;\n",
              "\n",
              "          const docLinkHtml = 'Like what you see? Visit the ' +\n",
              "            '<a target=\"_blank\" href=https://colab.research.google.com/notebooks/data_table.ipynb>data table notebook</a>'\n",
              "            + ' to learn more about interactive tables.';\n",
              "          element.innerHTML = '';\n",
              "          dataTable['output_type'] = 'display_data';\n",
              "          await google.colab.output.renderOutput(dataTable, element);\n",
              "          const docLink = document.createElement('div');\n",
              "          docLink.innerHTML = docLinkHtml;\n",
              "          element.appendChild(docLink);\n",
              "        }\n",
              "      </script>\n",
              "    </div>\n",
              "  </div>\n",
              "  "
            ]
          },
          "metadata": {},
          "execution_count": 5
        }
      ]
    },
    {
      "cell_type": "code",
      "source": [
        "flat_data.shape\n",
        "\n"
      ],
      "metadata": {
        "colab": {
          "base_uri": "https://localhost:8080/"
        },
        "id": "SGpPU77dqO6O",
        "outputId": "bf931c14-d0f1-4dc3-db28-05370e953d6b"
      },
      "execution_count": 7,
      "outputs": [
        {
          "output_type": "execute_result",
          "data": {
            "text/plain": [
              "(28719, 65)"
            ]
          },
          "metadata": {},
          "execution_count": 7
        }
      ]
    },
    {
      "cell_type": "code",
      "source": [
        "flat_data['label'] = label\n",
        "\n",
        "X = flat_data.iloc[:,0:-1]\n",
        "y = flat_data.iloc[:, 1]"
      ],
      "metadata": {
        "id": "ywDNnePcqXDK"
      },
      "execution_count": 8,
      "outputs": []
    },
    {
      "cell_type": "code",
      "source": [
        "classes=os.listdir(DATADIR)\n",
        "print(classes)"
      ],
      "metadata": {
        "colab": {
          "base_uri": "https://localhost:8080/"
        },
        "id": "eaNUprl-qdox",
        "outputId": "2d8f0008-2572-457d-925f-b16f6f35f601"
      },
      "execution_count": 9,
      "outputs": [
        {
          "output_type": "stream",
          "name": "stdout",
          "text": [
            "['surprise', 'sad', 'happy', 'disgust', 'fear', 'angry', 'neutral']\n"
          ]
        }
      ]
    },
    {
      "cell_type": "code",
      "source": [
        "data_num=[0,0]\n",
        "for cl in classes:\n",
        "    data_num[0]+=len(os.listdir(os.path.join(DATADIR,cl)))\n",
        "    data_num[1]+=len(os.listdir(os.path.join(DATADIRtest,cl)))\n",
        "\n",
        "\n",
        "plt.figure(figsize=(5, 7))\n",
        "plt.pie(x=np.array([x for x in data_num]), autopct=\"%.1f%%\", explode=[0.1, 0.1], labels=[\"Training Data\", \"Test Data\"], pctdistance=0.5)\n",
        "plt.title(\"Share of train and test images\", fontsize=14);    "
      ],
      "metadata": {
        "colab": {
          "base_uri": "https://localhost:8080/",
          "height": 327
        },
        "id": "zgZSD25VqgkK",
        "outputId": "cede8d66-734d-4eaf-c8dd-d83d75d6f698"
      },
      "execution_count": 10,
      "outputs": [
        {
          "output_type": "display_data",
          "data": {
            "text/plain": [
              "<Figure size 360x504 with 1 Axes>"
            ],
            "image/png": "[encoded data removed]"
          },
          "metadata": {}
        }
      ]
    },
    {
      "cell_type": "code",
      "source": [
        "count={}\n",
        "for x in classes:\n",
        "    num=len(os.listdir(os.path.join(DATADIR,x)))\n",
        "    count[x]=num\n",
        "\n",
        "\n",
        "plt.figure(figsize=(5,3))\n",
        "plt.bar(list(count.keys()), list(count.values()), width=0.4,align=\"center\" )\n",
        "plt.xticks(rotation=90)\n",
        "\n",
        "plt.xlabel(\"Emotions\")\n",
        "plt.ylabel(\"Number of Images\")\n",
        "plt.show()"
      ],
      "metadata": {
        "colab": {
          "base_uri": "https://localhost:8080/",
          "height": 255
        },
        "id": "BFJF0HPDqm3C",
        "outputId": "430d2f3a-63cd-4ee1-f05c-bee9a3e56561"
      },
      "execution_count": 11,
      "outputs": [
        {
          "output_type": "display_data",
          "data": {
            "text/plain": [
              "<Figure size 360x216 with 1 Axes>"
            ],
            "image/png": "[encoded data removed]"
          },
          "metadata": {
            "needs_background": "light"
          }
        }
      ]
    },
    {
      "cell_type": "code",
      "source": [
        "print(X)\n",
        "print(y)"
      ],
      "metadata": {
        "colab": {
          "base_uri": "https://localhost:8080/"
        },
        "id": "jmahhhmOt3wh",
        "outputId": "07f5c33f-304c-4cb4-a3a3-8fa5a60352c1"
      },
      "execution_count": 12,
      "outputs": [
        {
          "output_type": "stream",
          "name": "stdout",
          "text": [
            "             0         1         2         3         4         5         6   \\\n",
            "0      0.582353  0.702941  0.684314  0.604902  0.648039  0.583333  0.538235   \n",
            "1      0.113725  0.212745  0.256863  0.555882  0.624510  0.538235  0.368627   \n",
            "2      0.714706  0.696078  0.659804  0.645098  0.643137  0.614706  0.522549   \n",
            "3      0.148039  0.336275  0.501961  0.585294  0.697059  0.694118  0.348039   \n",
            "4      0.023529  0.031373  0.081373  0.135294  0.236275  0.360784  0.504902   \n",
            "...         ...       ...       ...       ...       ...       ...       ...   \n",
            "28714  0.707843  0.556863  0.453922  0.393137  0.511765  0.602941  0.633333   \n",
            "28715  0.807843  0.612745  0.727451  0.726471  0.615686  0.525490  0.667647   \n",
            "28716  0.209804  0.249020  0.257843  0.233333  0.218627  0.221569  0.048039   \n",
            "28717  0.887255  0.508824  0.637255  0.733333  0.672549  0.501961  0.363725   \n",
            "28718  0.839216  0.837255  0.872549  0.862745  0.835294  0.798039  0.755882   \n",
            "\n",
            "             7         8         9   ...        54        55        56  \\\n",
            "0      0.587255  0.283333  0.378431  ...  0.461765  0.273529  0.755882   \n",
            "1      0.229412  0.117647  0.223529  ...  0.329412  0.215686  0.123529   \n",
            "2      0.443137  0.654902  0.588235  ...  0.401961  0.254902  0.244118   \n",
            "3      0.563725  0.222549  0.495098  ...  0.558824  0.121569  0.036275   \n",
            "4      0.173529  0.028431  0.097059  ...  0.160784  0.350980  0.197059   \n",
            "...         ...       ...       ...  ...       ...       ...       ...   \n",
            "28714  0.376471  0.644118  0.492157  ...  0.621569  0.535294  0.649020   \n",
            "28715  0.944118  0.718627  0.698039  ...  0.471569  0.716667  0.543137   \n",
            "28716  0.000000  0.247059  0.348039  ...  0.537255  0.450000  0.871569   \n",
            "28717  0.768627  0.775490  0.612745  ...  0.560784  0.639216  0.978431   \n",
            "28718  0.758824  0.788235  0.796078  ...  0.636275  0.767647  0.917647   \n",
            "\n",
            "             57        58        59        60        61        62        63  \n",
            "0      0.868627  0.765686  0.508824  0.492157  0.479412  0.280392  0.207843  \n",
            "1      0.200000  0.138235  0.370588  0.454902  0.381373  0.249020  0.149020  \n",
            "2      0.399020  0.451961  0.454902  0.438235  0.384314  0.206863  0.032353  \n",
            "3      0.057843  0.174510  0.364706  0.430392  0.456863  0.431373  0.117647  \n",
            "4      0.176471  0.178431  0.193137  0.085294  0.022549  0.133333  0.371569  \n",
            "...         ...       ...       ...       ...       ...       ...       ...  \n",
            "28714  0.579412  0.411765  0.268627  0.242157  0.386275  0.581373  0.498039  \n",
            "28715  0.253922  0.577451  0.571569  0.593137  0.497059  0.217647  0.442157  \n",
            "28716  0.903922  0.908824  0.795098  0.525490  0.489216  0.601961  0.468627  \n",
            "28717  0.959804  0.757843  0.550000  0.408824  0.586275  0.536275  0.473529  \n",
            "28718  0.821569  0.615686  0.524510  0.511765  0.596078  0.685294  0.901961  \n",
            "\n",
            "[28719 rows x 64 columns]\n",
            "0        0.702941\n",
            "1        0.212745\n",
            "2        0.696078\n",
            "3        0.336275\n",
            "4        0.031373\n",
            "           ...   \n",
            "28714    0.556863\n",
            "28715    0.612745\n",
            "28716    0.249020\n",
            "28717    0.508824\n",
            "28718    0.837255\n",
            "Name: 1, Length: 28719, dtype: float64\n"
          ]
        }
      ]
    },
    {
      "cell_type": "code",
      "source": [
        "def print_confusion_matrix(confusion_matrix, class_names, figsize = (10,7), fontsize=14):\n",
        "    df_cm = pd.DataFrame(\n",
        "        confusion_matrix, index=class_names, columns=class_names, \n",
        "    )\n",
        "    fig = plt.figure(figsize=figsize)\n",
        "    try:\n",
        "        heatmap = sns.heatmap(df_cm, annot=True, fmt=\"d\")\n",
        "    except ValueError:\n",
        "        raise ValueError(\"Confusion matrix values must be integers.\")\n",
        "    heatmap.yaxis.set_ticklabels(heatmap.yaxis.get_ticklabels(), rotation=0, ha='right', fontsize=fontsize)\n",
        "    heatmap.xaxis.set_ticklabels(heatmap.xaxis.get_ticklabels(), rotation=45, ha='right', fontsize=fontsize)\n",
        "    plt.ylabel('Truth')\n",
        "    plt.xlabel('Prediction')"
      ],
      "metadata": {
        "id": "k5eWf8LePtA3"
      },
      "execution_count": 341,
      "outputs": []
    },
    {
      "cell_type": "code",
      "source": [
        "truth =      ['happy','neutral','sad','angry','fear','disgust','fear','angry','angry','disgust','fear','happy','neutral','sad','surprise','happy','neutral','fear','surprise']\n",
        "prediction = ['angry','disgust','fear','happy','sad','neutral','sad','surprise','angry','disgust','fear','happy','neutral','sad','angry','happy','surprise','sad','surprise']"
      ],
      "metadata": {
        "id": "AkkByq55P4d8"
      },
      "execution_count": 342,
      "outputs": []
    },
    {
      "cell_type": "code",
      "source": [
        "cm = confusion_matrix(truth,prediction)\n",
        "print_confusion_matrix(cm,['angry','disgust','fear','happy','neutral','sad','surprise'])"
      ],
      "metadata": {
        "colab": {
          "base_uri": "https://localhost:8080/",
          "height": 486
        },
        "id": "dztUq-yHQCPI",
        "outputId": "c34413d0-6176-45f8-95d7-ed82f9ff6d21"
      },
      "execution_count": 343,
      "outputs": [
        {
          "output_type": "display_data",
          "data": {
            "text/plain": [
              "<Figure size 720x504 with 2 Axes>"
            ],
            "image/png": "[encoded data removed]"
          },
          "metadata": {
            "needs_background": "light"
          }
        }
      ]
    },
    {
      "cell_type": "code",
      "source": [
        "print(classification_report(truth, prediction))"
      ],
      "metadata": {
        "colab": {
          "base_uri": "https://localhost:8080/"
        },
        "id": "UZ4aUmWlQGha",
        "outputId": "f6b63d12-3825-4851-ad8c-ad2b0bcc1307"
      },
      "execution_count": 344,
      "outputs": [
        {
          "output_type": "stream",
          "name": "stdout",
          "text": [
            "              precision    recall  f1-score   support\n",
            "\n",
            "       angry       0.33      0.33      0.33         3\n",
            "     disgust       0.50      0.50      0.50         2\n",
            "        fear       0.50      0.25      0.33         4\n",
            "       happy       0.67      0.67      0.67         3\n",
            "     neutral       0.50      0.33      0.40         3\n",
            "         sad       0.25      0.50      0.33         2\n",
            "    surprise       0.33      0.50      0.40         2\n",
            "\n",
            "    accuracy                           0.42        19\n",
            "   macro avg       0.44      0.44      0.42        19\n",
            "weighted avg       0.46      0.42      0.42        19\n",
            "\n"
          ]
        }
      ]
    },
    {
      "cell_type": "markdown",
      "source": [
        "# **LINEAR** **REGRESSION**"
      ],
      "metadata": {
        "id": "Bww7ShpnwJTX"
      }
    },
    {
      "cell_type": "code",
      "source": [
        "import pandas as pd\n",
        "import numpy as np\n",
        "import matplotlib.pyplot as plt\n",
        "from sklearn.linear_model import LinearRegression"
      ],
      "metadata": {
        "id": "Qwc2gE0Bt_5F"
      },
      "execution_count": 33,
      "outputs": []
    },
    {
      "cell_type": "code",
      "source": [
        "flat_data.head(1)"
      ],
      "metadata": {
        "colab": {
          "base_uri": "https://localhost:8080/",
          "height": 174
        },
        "id": "o1ddvtSLxgXm",
        "outputId": "e2bbf160-8880-4c5a-9a61-cb7d786d6ddd"
      },
      "execution_count": 34,
      "outputs": [
        {
          "output_type": "execute_result",
          "data": {
            "text/plain": [
              "          0         1         2         3         4         5         6  \\\n",
              "0  0.582353  0.702941  0.684314  0.604902  0.648039  0.583333  0.538235   \n",
              "\n",
              "          7         8         9  ...        55        56        57        58  \\\n",
              "0  0.587255  0.283333  0.378431  ...  0.273529  0.755882  0.868627  0.765686   \n",
              "\n",
              "         59        60        61        62        63  label  \n",
              "0  0.508824  0.492157  0.479412  0.280392  0.207843      0  \n",
              "\n",
              "[1 rows x 65 columns]"
            ],
            "text/html": [
              "\n",
              "  <div id=\"df-f9bce8b1-d288-4100-9c40-1c6a51e1ae2c\">\n",
              "    <div class=\"colab-df-container\">\n",
              "      <div>\n",
              "<style scoped>\n",
              "    .dataframe tbody tr th:only-of-type {\n",
              "        vertical-align: middle;\n",
              "    }\n",
              "\n",
              "    .dataframe tbody tr th {\n",
              "        vertical-align: top;\n",
              "    }\n",
              "\n",
              "    .dataframe thead th {\n",
              "        text-align: right;\n",
              "    }\n",
              "</style>\n",
              "<table border=\"1\" class=\"dataframe\">\n",
              "  <thead>\n",
              "    <tr style=\"text-align: right;\">\n",
              "      <th></th>\n",
              "      <th>0</th>\n",
              "      <th>1</th>\n",
              "      <th>2</th>\n",
              "      <th>3</th>\n",
              "      <th>4</th>\n",
              "      <th>5</th>\n",
              "      <th>6</th>\n",
              "      <th>7</th>\n",
              "      <th>8</th>\n",
              "      <th>9</th>\n",
              "      <th>...</th>\n",
              "      <th>55</th>\n",
              "      <th>56</th>\n",
              "      <th>57</th>\n",
              "      <th>58</th>\n",
              "      <th>59</th>\n",
              "      <th>60</th>\n",
              "      <th>61</th>\n",
              "      <th>62</th>\n",
              "      <th>63</th>\n",
              "      <th>label</th>\n",
              "    </tr>\n",
              "  </thead>\n",
              "  <tbody>\n",
              "    <tr>\n",
              "      <th>0</th>\n",
              "      <td>0.582353</td>\n",
              "      <td>0.702941</td>\n",
              "      <td>0.684314</td>\n",
              "      <td>0.604902</td>\n",
              "      <td>0.648039</td>\n",
              "      <td>0.583333</td>\n",
              "      <td>0.538235</td>\n",
              "      <td>0.587255</td>\n",
              "      <td>0.283333</td>\n",
              "      <td>0.378431</td>\n",
              "      <td>...</td>\n",
              "      <td>0.273529</td>\n",
              "      <td>0.755882</td>\n",
              "      <td>0.868627</td>\n",
              "      <td>0.765686</td>\n",
              "      <td>0.508824</td>\n",
              "      <td>0.492157</td>\n",
              "      <td>0.479412</td>\n",
              "      <td>0.280392</td>\n",
              "      <td>0.207843</td>\n",
              "      <td>0</td>\n",
              "    </tr>\n",
              "  </tbody>\n",
              "</table>\n",
              "<p>1 rows × 65 columns</p>\n",
              "</div>\n",
              "      <button class=\"colab-df-convert\" onclick=\"convertToInteractive('df-f9bce8b1-d288-4100-9c40-1c6a51e1ae2c')\"\n",
              "              title=\"Convert this dataframe to an interactive table.\"\n",
              "              style=\"display:none;\">\n",
              "        \n",
              "  <svg xmlns=\"http://www.w3.org/2000/svg\" height=\"24px\"viewBox=\"0 0 24 24\"\n",
              "       width=\"24px\">\n",
              "    <path d=\"M0 0h24v24H0V0z\" fill=\"none\"/>\n",
              "    <path d=\"M18.56 5.44l.94 2.06.94-2.06 2.06-.94-2.06-.94-.94-2.06-.94 2.06-2.06.94zm-11 1L8.5 8.5l.94-2.06 2.06-.94-2.06-.94L8.5 2.5l-.94 2.06-2.06.94zm10 10l.94 2.06.94-2.06 2.06-.94-2.06-.94-.94-2.06-.94 2.06-2.06.94z\"/><path d=\"M17.41 7.96l-1.37-1.37c-.4-.4-.92-.59-1.43-.59-.52 0-1.04.2-1.43.59L10.3 9.45l-7.72 7.72c-.78.78-.78 2.05 0 2.83L4 21.41c.39.39.9.59 1.41.59.51 0 1.02-.2 1.41-.59l7.78-7.78 2.81-2.81c.8-.78.8-2.07 0-2.86zM5.41 20L4 18.59l7.72-7.72 1.47 1.35L5.41 20z\"/>\n",
              "  </svg>\n",
              "      </button>\n",
              "      \n",
              "  <style>\n",
              "    .colab-df-container {\n",
              "      display:flex;\n",
              "      flex-wrap:wrap;\n",
              "      gap: 12px;\n",
              "    }\n",
              "\n",
              "    .colab-df-convert {\n",
              "      background-color: #E8F0FE;\n",
              "      border: none;\n",
              "      border-radius: 50%;\n",
              "      cursor: pointer;\n",
              "      display: none;\n",
              "      fill: #1967D2;\n",
              "      height: 32px;\n",
              "      padding: 0 0 0 0;\n",
              "      width: 32px;\n",
              "    }\n",
              "\n",
              "    .colab-df-convert:hover {\n",
              "      background-color: #E2EBFA;\n",
              "      box-shadow: 0px 1px 2px rgba(60, 64, 67, 0.3), 0px 1px 3px 1px rgba(60, 64, 67, 0.15);\n",
              "      fill: #174EA6;\n",
              "    }\n",
              "\n",
              "    [theme=dark] .colab-df-convert {\n",
              "      background-color: #3B4455;\n",
              "      fill: #D2E3FC;\n",
              "    }\n",
              "\n",
              "    [theme=dark] .colab-df-convert:hover {\n",
              "      background-color: #434B5C;\n",
              "      box-shadow: 0px 1px 3px 1px rgba(0, 0, 0, 0.15);\n",
              "      filter: drop-shadow(0px 1px 2px rgba(0, 0, 0, 0.3));\n",
              "      fill: #FFFFFF;\n",
              "    }\n",
              "  </style>\n",
              "\n",
              "      <script>\n",
              "        const buttonEl =\n",
              "          document.querySelector('#df-f9bce8b1-d288-4100-9c40-1c6a51e1ae2c button.colab-df-convert');\n",
              "        buttonEl.style.display =\n",
              "          google.colab.kernel.accessAllowed ? 'block' : 'none';\n",
              "\n",
              "        async function convertToInteractive(key) {\n",
              "          const element = document.querySelector('#df-f9bce8b1-d288-4100-9c40-1c6a51e1ae2c');\n",
              "          const dataTable =\n",
              "            await google.colab.kernel.invokeFunction('convertToInteractive',\n",
              "                                                     [key], {});\n",
              "          if (!dataTable) return;\n",
              "\n",
              "          const docLinkHtml = 'Like what you see? Visit the ' +\n",
              "            '<a target=\"_blank\" href=https://colab.research.google.com/notebooks/data_table.ipynb>data table notebook</a>'\n",
              "            + ' to learn more about interactive tables.';\n",
              "          element.innerHTML = '';\n",
              "          dataTable['output_type'] = 'display_data';\n",
              "          await google.colab.output.renderOutput(dataTable, element);\n",
              "          const docLink = document.createElement('div');\n",
              "          docLink.innerHTML = docLinkHtml;\n",
              "          element.appendChild(docLink);\n",
              "        }\n",
              "      </script>\n",
              "    </div>\n",
              "  </div>\n",
              "  "
            ]
          },
          "metadata": {},
          "execution_count": 34
        }
      ]
    },
    {
      "cell_type": "code",
      "source": [
        "flat_data.shape"
      ],
      "metadata": {
        "colab": {
          "base_uri": "https://localhost:8080/"
        },
        "id": "xoivApG0x7Dr",
        "outputId": "c8d1e698-7b72-4ddc-e349-9293900f2b92"
      },
      "execution_count": 35,
      "outputs": [
        {
          "output_type": "execute_result",
          "data": {
            "text/plain": [
              "(28719, 65)"
            ]
          },
          "metadata": {},
          "execution_count": 35
        }
      ]
    },
    {
      "cell_type": "code",
      "source": [
        "X = flat_data.iloc[:,0:-1]\n",
        "y = flat_data.iloc[:, 1]"
      ],
      "metadata": {
        "id": "HmmDIsudywTR"
      },
      "execution_count": 36,
      "outputs": []
    },
    {
      "cell_type": "code",
      "source": [
        "print(x)\n",
        "print(y)"
      ],
      "metadata": {
        "colab": {
          "base_uri": "https://localhost:8080/"
        },
        "id": "kZ7axTrkzLE-",
        "outputId": "e9efe39d-e039-4ba7-f44c-967f61eac2e0"
      },
      "execution_count": 39,
      "outputs": [
        {
          "output_type": "stream",
          "name": "stdout",
          "text": [
            "neutral\n",
            "0        0.702941\n",
            "1        0.212745\n",
            "2        0.696078\n",
            "3        0.336275\n",
            "4        0.031373\n",
            "           ...   \n",
            "28714    0.556863\n",
            "28715    0.612745\n",
            "28716    0.249020\n",
            "28717    0.508824\n",
            "28718    0.837255\n",
            "Name: 1, Length: 28719, dtype: float64\n"
          ]
        }
      ]
    },
    {
      "cell_type": "code",
      "source": [
        "from sklearn.model_selection import train_test_split\n",
        "x_train,x_test,y_train,y_test = train_test_split(X,label,test_size=0.25,random_state=45)"
      ],
      "metadata": {
        "id": "nCQ85FO3zagB"
      },
      "execution_count": 40,
      "outputs": []
    },
    {
      "cell_type": "code",
      "source": [
        "print(x_train)\n",
        "print(y_train)"
      ],
      "metadata": {
        "colab": {
          "base_uri": "https://localhost:8080/"
        },
        "id": "usVLKXT1worU",
        "outputId": "485dfa76-6d8c-4fe3-d628-3807fb4994e7"
      },
      "execution_count": 41,
      "outputs": [
        {
          "output_type": "stream",
          "name": "stdout",
          "text": [
            "             0         1         2         3         4         5         6   \\\n",
            "27365  0.412745  0.599020  0.796078  0.860784  0.811765  0.643137  0.350000   \n",
            "12951  0.586275  0.598039  0.584314  0.685294  0.801961  0.935294  0.901961   \n",
            "2804   0.599020  0.760784  0.811765  0.745098  0.554902  0.454902  0.427451   \n",
            "9998   0.407843  0.500980  0.581373  0.665686  0.706863  0.656863  0.664706   \n",
            "14314  0.207843  0.188235  0.193137  0.187255  0.165686  0.136275  0.117647   \n",
            "...         ...       ...       ...       ...       ...       ...       ...   \n",
            "12895  0.109804  0.161765  0.107843  0.166667  0.399020  0.747059  0.672549   \n",
            "28192  0.669608  0.646078  0.589216  0.565686  0.672549  0.767647  0.811765   \n",
            "6012   0.090196  0.164706  0.597059  0.757843  0.700000  0.777451  0.555882   \n",
            "6558   0.824510  0.485294  0.673529  0.795098  0.748039  0.634314  0.534314   \n",
            "23499  0.325490  0.447059  0.574510  0.690196  0.716667  0.544118  0.443137   \n",
            "\n",
            "             7         8         9   ...        54        55        56  \\\n",
            "27365  0.011765  0.437255  0.691176  ...  0.613725  0.510784  0.488235   \n",
            "12951  0.573529  0.611765  0.597059  ...  0.621569  0.805882  0.240196   \n",
            "2804   0.387255  0.714706  0.849020  ...  0.789216  0.860784  0.449020   \n",
            "9998   0.568627  0.330392  0.446078  ...  0.628431  0.543137  0.072549   \n",
            "14314  0.191176  0.205882  0.245098  ...  0.275490  0.243137  0.197059   \n",
            "...         ...       ...       ...  ...       ...       ...       ...   \n",
            "12895  0.687255  0.083333  0.058824  ...  0.733333  0.797059  0.748039   \n",
            "28192  0.818627  0.844118  0.731373  ...  0.729412  0.537255  0.633333   \n",
            "6012   0.294118  0.094118  0.262745  ...  0.764706  0.727451  0.290196   \n",
            "6558   0.647059  0.687255  0.528431  ...  0.750000  0.694118  0.679412   \n",
            "23499  0.751961  0.252941  0.413725  ...  0.469608  0.561765  0.139216   \n",
            "\n",
            "             57        58        59        60        61        62        63  \n",
            "27365  0.450000  0.701961  0.818627  0.855882  0.803922  0.598039  0.566667  \n",
            "12951  0.439216  0.538235  0.615686  0.540196  0.227451  0.333333  0.531373  \n",
            "2804   0.150980  0.303922  0.551961  0.562745  0.658824  0.773529  0.800000  \n",
            "9998   0.255882  0.450980  0.477451  0.593137  0.647059  0.569608  0.401961  \n",
            "14314  0.247059  0.309804  0.301961  0.215686  0.306863  0.235294  0.229412  \n",
            "...         ...       ...       ...       ...       ...       ...       ...  \n",
            "12895  0.784314  0.611765  0.652941  0.679412  0.717647  0.788235  0.825490  \n",
            "28192  0.307843  0.398039  0.402941  0.516667  0.635294  0.417647  0.305882  \n",
            "6012   0.561765  0.688235  0.743137  0.780392  0.774510  0.742157  0.740196  \n",
            "6558   0.763725  0.416667  0.426471  0.505882  0.640196  0.764706  0.739216  \n",
            "23499  0.242157  0.368627  0.362745  0.511765  0.602941  0.424510  0.463725  \n",
            "\n",
            "[21539 rows x 64 columns]\n",
            "       0\n",
            "27365  6\n",
            "12951  3\n",
            "2804   0\n",
            "9998   3\n",
            "14314  3\n",
            "...   ..\n",
            "12895  3\n",
            "28192  6\n",
            "6012   2\n",
            "6558   2\n",
            "23499  5\n",
            "\n",
            "[21539 rows x 1 columns]\n"
          ]
        }
      ]
    },
    {
      "cell_type": "code",
      "source": [
        "print(x_test)\n",
        "print(y_test)"
      ],
      "metadata": {
        "colab": {
          "base_uri": "https://localhost:8080/"
        },
        "id": "N4F6VTiowtOE",
        "outputId": "d8467e07-2d8e-4cdc-d8d4-ceeb3364074f"
      },
      "execution_count": 42,
      "outputs": [
        {
          "output_type": "stream",
          "name": "stdout",
          "text": [
            "             0         1         2         3         4         5         6   \\\n",
            "26793  0.252941  0.209804  0.388235  0.498039  0.478431  0.382353  0.277451   \n",
            "14923  0.232353  0.505882  0.769608  0.839216  0.872549  0.851961  0.709804   \n",
            "21083  0.724510  0.841176  0.908824  0.898039  0.867647  0.810784  0.693137   \n",
            "26762  0.476471  0.356863  0.537255  0.787255  0.812745  0.686275  0.612745   \n",
            "8694   0.200000  0.498039  0.740196  0.792157  0.739216  0.623529  0.366667   \n",
            "...         ...       ...       ...       ...       ...       ...       ...   \n",
            "3504   0.843137  0.519608  0.378431  0.357843  0.502941  0.785294  0.528431   \n",
            "10261  0.436275  0.443137  0.532353  0.498039  0.554902  0.683333  0.751961   \n",
            "8942   0.771569  0.217647  0.502941  0.690196  0.727451  0.672549  0.335294   \n",
            "26834  0.224510  0.556863  0.700000  0.750980  0.699020  0.590196  0.749020   \n",
            "25093  0.308824  0.298039  0.242157  0.222549  0.201961  0.196078  0.241176   \n",
            "\n",
            "             7         8         9   ...        54        55        56  \\\n",
            "26793  0.211765  0.180392  0.313725  ...  0.317647  0.259804  0.464706   \n",
            "14923  0.674510  0.521569  0.738235  ...  0.116667  0.103922  0.640196   \n",
            "21083  0.456863  0.840196  0.908824  ...  0.408824  0.538235  0.705882   \n",
            "26762  0.663725  0.604902  0.532353  ...  0.715686  0.851961  0.584314   \n",
            "8694   0.258824  0.255882  0.617647  ...  0.369608  0.151961  0.103922   \n",
            "...         ...       ...       ...  ...       ...       ...       ...   \n",
            "3504   0.247059  0.775490  0.411765  ...  0.423529  0.372549  0.911765   \n",
            "10261  0.529412  0.544118  0.592157  ...  0.846078  0.895098  0.134314   \n",
            "8942   0.149020  0.600980  0.205882  ...  0.576471  0.350980  0.196078   \n",
            "26834  0.979412  0.345098  0.637255  ...  0.770588  0.959804  0.666667   \n",
            "25093  0.284314  0.288235  0.276471  ...  0.160784  0.174510  0.264706   \n",
            "\n",
            "             57        58        59        60        61        62        63  \n",
            "26793  0.464706  0.443137  0.174510  0.262745  0.335294  0.299020  0.260784  \n",
            "14923  0.177451  0.139216  0.168627  0.132353  0.109804  0.091176  0.098039  \n",
            "21083  0.663725  0.665686  0.484314  0.330392  0.436275  0.563725  0.587255  \n",
            "26762  0.767647  0.539216  0.600000  0.669608  0.490196  0.736275  0.831373  \n",
            "8694   0.169608  0.370588  0.549020  0.552941  0.510784  0.295098  0.110784  \n",
            "...         ...       ...       ...       ...       ...       ...       ...  \n",
            "3504   0.650980  0.452941  0.449020  0.436275  0.501961  0.400980  0.307843  \n",
            "10261  0.489216  0.672549  0.656863  0.708824  0.769608  0.866667  0.786275  \n",
            "8942   0.182353  0.413725  0.663725  0.704902  0.635294  0.512745  0.350980  \n",
            "26834  0.563725  0.586275  0.582353  0.568627  0.715686  0.851961  0.903922  \n",
            "25093  0.220588  0.590196  0.654902  0.524510  0.288235  0.142157  0.149020  \n",
            "\n",
            "[7180 rows x 64 columns]\n",
            "       0\n",
            "26793  6\n",
            "14923  3\n",
            "21083  5\n",
            "26762  6\n",
            "8694   3\n",
            "...   ..\n",
            "3504   0\n",
            "10261  3\n",
            "8942   3\n",
            "26834  6\n",
            "25093  5\n",
            "\n",
            "[7180 rows x 1 columns]\n"
          ]
        }
      ]
    },
    {
      "cell_type": "code",
      "source": [
        "model = LinearRegression()\n",
        "model.fit(x_train,y_train)"
      ],
      "metadata": {
        "colab": {
          "base_uri": "https://localhost:8080/"
        },
        "id": "bO4xRliDwzol",
        "outputId": "6e6ad968-b869-4409-9eb5-ad55f633dc35"
      },
      "execution_count": 43,
      "outputs": [
        {
          "output_type": "execute_result",
          "data": {
            "text/plain": [
              "LinearRegression()"
            ]
          },
          "metadata": {},
          "execution_count": 43
        }
      ]
    },
    {
      "cell_type": "code",
      "source": [
        "y_pred=model.predict(x_test)\n",
        "y_pred"
      ],
      "metadata": {
        "colab": {
          "base_uri": "https://localhost:8080/"
        },
        "id": "mBr-T9zjyiKO",
        "outputId": "4a55a244-0ba3-4bdc-96ed-977234e5e394"
      },
      "execution_count": 44,
      "outputs": [
        {
          "output_type": "execute_result",
          "data": {
            "text/plain": [
              "array([[3.80305581],\n",
              "       [2.84222863],\n",
              "       [3.3724817 ],\n",
              "       ...,\n",
              "       [3.52738368],\n",
              "       [3.50837572],\n",
              "       [3.41692416]])"
            ]
          },
          "metadata": {},
          "execution_count": 44
        }
      ]
    },
    {
      "cell_type": "code",
      "source": [
        "x_pred = model.predict(x_train)\n",
        "x_pred"
      ],
      "metadata": {
        "colab": {
          "base_uri": "https://localhost:8080/"
        },
        "id": "3gA98JN-ymkf",
        "outputId": "78b4ed50-ec4e-4504-8632-ffae6f440773"
      },
      "execution_count": 45,
      "outputs": [
        {
          "output_type": "execute_result",
          "data": {
            "text/plain": [
              "array([[3.4459254 ],\n",
              "       [3.07117933],\n",
              "       [3.28213365],\n",
              "       ...,\n",
              "       [3.45841398],\n",
              "       [4.15706802],\n",
              "       [3.44182905]])"
            ]
          },
          "metadata": {},
          "execution_count": 45
        }
      ]
    },
    {
      "cell_type": "code",
      "source": [
        "y_test[:6]"
      ],
      "metadata": {
        "colab": {
          "base_uri": "https://localhost:8080/",
          "height": 238
        },
        "id": "uilo7jpmzlS0",
        "outputId": "7cec1e05-90e3-4026-a48f-0459d7c2238e"
      },
      "execution_count": 46,
      "outputs": [
        {
          "output_type": "execute_result",
          "data": {
            "text/plain": [
              "       0\n",
              "26793  6\n",
              "14923  3\n",
              "21083  5\n",
              "26762  6\n",
              "8694   3\n",
              "12912  3"
            ],
            "text/html": [
              "\n",
              "  <div id=\"df-9719563a-a5bc-4896-ad70-deb68d8487a2\">\n",
              "    <div class=\"colab-df-container\">\n",
              "      <div>\n",
              "<style scoped>\n",
              "    .dataframe tbody tr th:only-of-type {\n",
              "        vertical-align: middle;\n",
              "    }\n",
              "\n",
              "    .dataframe tbody tr th {\n",
              "        vertical-align: top;\n",
              "    }\n",
              "\n",
              "    .dataframe thead th {\n",
              "        text-align: right;\n",
              "    }\n",
              "</style>\n",
              "<table border=\"1\" class=\"dataframe\">\n",
              "  <thead>\n",
              "    <tr style=\"text-align: right;\">\n",
              "      <th></th>\n",
              "      <th>0</th>\n",
              "    </tr>\n",
              "  </thead>\n",
              "  <tbody>\n",
              "    <tr>\n",
              "      <th>26793</th>\n",
              "      <td>6</td>\n",
              "    </tr>\n",
              "    <tr>\n",
              "      <th>14923</th>\n",
              "      <td>3</td>\n",
              "    </tr>\n",
              "    <tr>\n",
              "      <th>21083</th>\n",
              "      <td>5</td>\n",
              "    </tr>\n",
              "    <tr>\n",
              "      <th>26762</th>\n",
              "      <td>6</td>\n",
              "    </tr>\n",
              "    <tr>\n",
              "      <th>8694</th>\n",
              "      <td>3</td>\n",
              "    </tr>\n",
              "    <tr>\n",
              "      <th>12912</th>\n",
              "      <td>3</td>\n",
              "    </tr>\n",
              "  </tbody>\n",
              "</table>\n",
              "</div>\n",
              "      <button class=\"colab-df-convert\" onclick=\"convertToInteractive('df-9719563a-a5bc-4896-ad70-deb68d8487a2')\"\n",
              "              title=\"Convert this dataframe to an interactive table.\"\n",
              "              style=\"display:none;\">\n",
              "        \n",
              "  <svg xmlns=\"http://www.w3.org/2000/svg\" height=\"24px\"viewBox=\"0 0 24 24\"\n",
              "       width=\"24px\">\n",
              "    <path d=\"M0 0h24v24H0V0z\" fill=\"none\"/>\n",
              "    <path d=\"M18.56 5.44l.94 2.06.94-2.06 2.06-.94-2.06-.94-.94-2.06-.94 2.06-2.06.94zm-11 1L8.5 8.5l.94-2.06 2.06-.94-2.06-.94L8.5 2.5l-.94 2.06-2.06.94zm10 10l.94 2.06.94-2.06 2.06-.94-2.06-.94-.94-2.06-.94 2.06-2.06.94z\"/><path d=\"M17.41 7.96l-1.37-1.37c-.4-.4-.92-.59-1.43-.59-.52 0-1.04.2-1.43.59L10.3 9.45l-7.72 7.72c-.78.78-.78 2.05 0 2.83L4 21.41c.39.39.9.59 1.41.59.51 0 1.02-.2 1.41-.59l7.78-7.78 2.81-2.81c.8-.78.8-2.07 0-2.86zM5.41 20L4 18.59l7.72-7.72 1.47 1.35L5.41 20z\"/>\n",
              "  </svg>\n",
              "      </button>\n",
              "      \n",
              "  <style>\n",
              "    .colab-df-container {\n",
              "      display:flex;\n",
              "      flex-wrap:wrap;\n",
              "      gap: 12px;\n",
              "    }\n",
              "\n",
              "    .colab-df-convert {\n",
              "      background-color: #E8F0FE;\n",
              "      border: none;\n",
              "      border-radius: 50%;\n",
              "      cursor: pointer;\n",
              "      display: none;\n",
              "      fill: #1967D2;\n",
              "      height: 32px;\n",
              "      padding: 0 0 0 0;\n",
              "      width: 32px;\n",
              "    }\n",
              "\n",
              "    .colab-df-convert:hover {\n",
              "      background-color: #E2EBFA;\n",
              "      box-shadow: 0px 1px 2px rgba(60, 64, 67, 0.3), 0px 1px 3px 1px rgba(60, 64, 67, 0.15);\n",
              "      fill: #174EA6;\n",
              "    }\n",
              "\n",
              "    [theme=dark] .colab-df-convert {\n",
              "      background-color: #3B4455;\n",
              "      fill: #D2E3FC;\n",
              "    }\n",
              "\n",
              "    [theme=dark] .colab-df-convert:hover {\n",
              "      background-color: #434B5C;\n",
              "      box-shadow: 0px 1px 3px 1px rgba(0, 0, 0, 0.15);\n",
              "      filter: drop-shadow(0px 1px 2px rgba(0, 0, 0, 0.3));\n",
              "      fill: #FFFFFF;\n",
              "    }\n",
              "  </style>\n",
              "\n",
              "      <script>\n",
              "        const buttonEl =\n",
              "          document.querySelector('#df-9719563a-a5bc-4896-ad70-deb68d8487a2 button.colab-df-convert');\n",
              "        buttonEl.style.display =\n",
              "          google.colab.kernel.accessAllowed ? 'block' : 'none';\n",
              "\n",
              "        async function convertToInteractive(key) {\n",
              "          const element = document.querySelector('#df-9719563a-a5bc-4896-ad70-deb68d8487a2');\n",
              "          const dataTable =\n",
              "            await google.colab.kernel.invokeFunction('convertToInteractive',\n",
              "                                                     [key], {});\n",
              "          if (!dataTable) return;\n",
              "\n",
              "          const docLinkHtml = 'Like what you see? Visit the ' +\n",
              "            '<a target=\"_blank\" href=https://colab.research.google.com/notebooks/data_table.ipynb>data table notebook</a>'\n",
              "            + ' to learn more about interactive tables.';\n",
              "          element.innerHTML = '';\n",
              "          dataTable['output_type'] = 'display_data';\n",
              "          await google.colab.output.renderOutput(dataTable, element);\n",
              "          const docLink = document.createElement('div');\n",
              "          docLink.innerHTML = docLinkHtml;\n",
              "          element.appendChild(docLink);\n",
              "        }\n",
              "      </script>\n",
              "    </div>\n",
              "  </div>\n",
              "  "
            ]
          },
          "metadata": {},
          "execution_count": 46
        }
      ]
    },
    {
      "cell_type": "code",
      "source": [
        "model.predict(x_test[:5])"
      ],
      "metadata": {
        "colab": {
          "base_uri": "https://localhost:8080/"
        },
        "id": "L30TusnLznnQ",
        "outputId": "0cab6a4d-ec95-4495-dca8-7d07a98c48b5"
      },
      "execution_count": 47,
      "outputs": [
        {
          "output_type": "execute_result",
          "data": {
            "text/plain": [
              "array([[3.80305581],\n",
              "       [2.84222863],\n",
              "       [3.3724817 ],\n",
              "       [3.85857243],\n",
              "       [2.61863919]])"
            ]
          },
          "metadata": {},
          "execution_count": 47
        }
      ]
    },
    {
      "cell_type": "code",
      "source": [
        "model.score(x_test,y_test)"
      ],
      "metadata": {
        "colab": {
          "base_uri": "https://localhost:8080/"
        },
        "id": "2FGIMhUrzp88",
        "outputId": "1cc50fa5-d151-4551-f017-c65d3436cdd0"
      },
      "execution_count": 48,
      "outputs": [
        {
          "output_type": "execute_result",
          "data": {
            "text/plain": [
              "0.05019689137485128"
            ]
          },
          "metadata": {},
          "execution_count": 48
        }
      ]
    },
    {
      "cell_type": "code",
      "source": [
        "plt.scatter(count.values(),classes,color='green')\n",
        "\n",
        "plt.title('Training Data')\n",
        "plt.xlabel('Number of Images')\n",
        "plt.ylabel('Emotions')"
      ],
      "metadata": {
        "colab": {
          "base_uri": "https://localhost:8080/",
          "height": 312
        },
        "id": "69hX-Lu7zwsP",
        "outputId": "e3306085-2e9c-4132-da21-aa82c26cb11c"
      },
      "execution_count": 139,
      "outputs": [
        {
          "output_type": "execute_result",
          "data": {
            "text/plain": [
              "Text(0, 0.5, 'Emotions')"
            ]
          },
          "metadata": {},
          "execution_count": 139
        },
        {
          "output_type": "display_data",
          "data": {
            "text/plain": [
              "<Figure size 432x288 with 1 Axes>"
            ],
            "image/png": "[encoded data removed]"
          },
          "metadata": {
            "needs_background": "light"
          }
        }
      ]
    },
    {
      "cell_type": "code",
      "source": [
        "plt.scatter(x_train,y_train,color='green')\n",
        "plt.plot(x_train,x_pred, color='red')\n",
        "plt.title('Salary vs Experience (Training Dataset)')\n",
        "plt.xlabel('YearsExperience')\n",
        "plt.ylabel('Salary')\n",
        "\n",
        "#visualizing the Test set results  \n",
        "plt.scatter(x_test, y_test, color=\"blue\")   \n",
        "plt.plot(x_train, x_pred, color=\"red\")    \n",
        "plt.title(\"Salary vs Experience (Test Dataset)\")  \n",
        "plt.xlabel(\"Years of Experience\")  \n",
        "plt.ylabel(\"Salary(In Rupees)\") "
      ],
      "metadata": {
        "id": "-3YeT4OYz1wE"
      },
      "execution_count": null,
      "outputs": []
    },
    {
      "cell_type": "markdown",
      "source": [
        "# **LOGISTIC** **REGRESSION**"
      ],
      "metadata": {
        "id": "GN474bBa2vON"
      }
    },
    {
      "cell_type": "code",
      "source": [
        "import sklearn\n",
        "import pandas as pd\n",
        "import numpy as np\n",
        "import matplotlib.pyplot as plt \n",
        "from sklearn.linear_model import LogisticRegression"
      ],
      "metadata": {
        "id": "30DBn7F521dI"
      },
      "execution_count": 66,
      "outputs": []
    },
    {
      "cell_type": "code",
      "source": [
        "flat_data.head()"
      ],
      "metadata": {
        "colab": {
          "base_uri": "https://localhost:8080/",
          "height": 299
        },
        "id": "iW-8fPMB3B5j",
        "outputId": "0617d604-baf8-46b3-d992-c647e17b48e8"
      },
      "execution_count": 67,
      "outputs": [
        {
          "output_type": "execute_result",
          "data": {
            "text/plain": [
              "          0         1         2         3         4         5         6  \\\n",
              "0  0.582353  0.702941  0.684314  0.604902  0.648039  0.583333  0.538235   \n",
              "1  0.113725  0.212745  0.256863  0.555882  0.624510  0.538235  0.368627   \n",
              "2  0.714706  0.696078  0.659804  0.645098  0.643137  0.614706  0.522549   \n",
              "3  0.148039  0.336275  0.501961  0.585294  0.697059  0.694118  0.348039   \n",
              "4  0.023529  0.031373  0.081373  0.135294  0.236275  0.360784  0.504902   \n",
              "\n",
              "          7         8         9  ...        55        56        57        58  \\\n",
              "0  0.587255  0.283333  0.378431  ...  0.273529  0.755882  0.868627  0.765686   \n",
              "1  0.229412  0.117647  0.223529  ...  0.215686  0.123529  0.200000  0.138235   \n",
              "2  0.443137  0.654902  0.588235  ...  0.254902  0.244118  0.399020  0.451961   \n",
              "3  0.563725  0.222549  0.495098  ...  0.121569  0.036275  0.057843  0.174510   \n",
              "4  0.173529  0.028431  0.097059  ...  0.350980  0.197059  0.176471  0.178431   \n",
              "\n",
              "         59        60        61        62        63  label  \n",
              "0  0.508824  0.492157  0.479412  0.280392  0.207843      0  \n",
              "1  0.370588  0.454902  0.381373  0.249020  0.149020      0  \n",
              "2  0.454902  0.438235  0.384314  0.206863  0.032353      0  \n",
              "3  0.364706  0.430392  0.456863  0.431373  0.117647      0  \n",
              "4  0.193137  0.085294  0.022549  0.133333  0.371569      0  \n",
              "\n",
              "[5 rows x 65 columns]"
            ],
            "text/html": [
              "\n",
              "  <div id=\"df-1b372383-c6a7-4e8a-9508-8482fb87aa9f\">\n",
              "    <div class=\"colab-df-container\">\n",
              "      <div>\n",
              "<style scoped>\n",
              "    .dataframe tbody tr th:only-of-type {\n",
              "        vertical-align: middle;\n",
              "    }\n",
              "\n",
              "    .dataframe tbody tr th {\n",
              "        vertical-align: top;\n",
              "    }\n",
              "\n",
              "    .dataframe thead th {\n",
              "        text-align: right;\n",
              "    }\n",
              "</style>\n",
              "<table border=\"1\" class=\"dataframe\">\n",
              "  <thead>\n",
              "    <tr style=\"text-align: right;\">\n",
              "      <th></th>\n",
              "      <th>0</th>\n",
              "      <th>1</th>\n",
              "      <th>2</th>\n",
              "      <th>3</th>\n",
              "      <th>4</th>\n",
              "      <th>5</th>\n",
              "      <th>6</th>\n",
              "      <th>7</th>\n",
              "      <th>8</th>\n",
              "      <th>9</th>\n",
              "      <th>...</th>\n",
              "      <th>55</th>\n",
              "      <th>56</th>\n",
              "      <th>57</th>\n",
              "      <th>58</th>\n",
              "      <th>59</th>\n",
              "      <th>60</th>\n",
              "      <th>61</th>\n",
              "      <th>62</th>\n",
              "      <th>63</th>\n",
              "      <th>label</th>\n",
              "    </tr>\n",
              "  </thead>\n",
              "  <tbody>\n",
              "    <tr>\n",
              "      <th>0</th>\n",
              "      <td>0.582353</td>\n",
              "      <td>0.702941</td>\n",
              "      <td>0.684314</td>\n",
              "      <td>0.604902</td>\n",
              "      <td>0.648039</td>\n",
              "      <td>0.583333</td>\n",
              "      <td>0.538235</td>\n",
              "      <td>0.587255</td>\n",
              "      <td>0.283333</td>\n",
              "      <td>0.378431</td>\n",
              "      <td>...</td>\n",
              "      <td>0.273529</td>\n",
              "      <td>0.755882</td>\n",
              "      <td>0.868627</td>\n",
              "      <td>0.765686</td>\n",
              "      <td>0.508824</td>\n",
              "      <td>0.492157</td>\n",
              "      <td>0.479412</td>\n",
              "      <td>0.280392</td>\n",
              "      <td>0.207843</td>\n",
              "      <td>0</td>\n",
              "    </tr>\n",
              "    <tr>\n",
              "      <th>1</th>\n",
              "      <td>0.113725</td>\n",
              "      <td>0.212745</td>\n",
              "      <td>0.256863</td>\n",
              "      <td>0.555882</td>\n",
              "      <td>0.624510</td>\n",
              "      <td>0.538235</td>\n",
              "      <td>0.368627</td>\n",
              "      <td>0.229412</td>\n",
              "      <td>0.117647</td>\n",
              "      <td>0.223529</td>\n",
              "      <td>...</td>\n",
              "      <td>0.215686</td>\n",
              "      <td>0.123529</td>\n",
              "      <td>0.200000</td>\n",
              "      <td>0.138235</td>\n",
              "      <td>0.370588</td>\n",
              "      <td>0.454902</td>\n",
              "      <td>0.381373</td>\n",
              "      <td>0.249020</td>\n",
              "      <td>0.149020</td>\n",
              "      <td>0</td>\n",
              "    </tr>\n",
              "    <tr>\n",
              "      <th>2</th>\n",
              "      <td>0.714706</td>\n",
              "      <td>0.696078</td>\n",
              "      <td>0.659804</td>\n",
              "      <td>0.645098</td>\n",
              "      <td>0.643137</td>\n",
              "      <td>0.614706</td>\n",
              "      <td>0.522549</td>\n",
              "      <td>0.443137</td>\n",
              "      <td>0.654902</td>\n",
              "      <td>0.588235</td>\n",
              "      <td>...</td>\n",
              "      <td>0.254902</td>\n",
              "      <td>0.244118</td>\n",
              "      <td>0.399020</td>\n",
              "      <td>0.451961</td>\n",
              "      <td>0.454902</td>\n",
              "      <td>0.438235</td>\n",
              "      <td>0.384314</td>\n",
              "      <td>0.206863</td>\n",
              "      <td>0.032353</td>\n",
              "      <td>0</td>\n",
              "    </tr>\n",
              "    <tr>\n",
              "      <th>3</th>\n",
              "      <td>0.148039</td>\n",
              "      <td>0.336275</td>\n",
              "      <td>0.501961</td>\n",
              "      <td>0.585294</td>\n",
              "      <td>0.697059</td>\n",
              "      <td>0.694118</td>\n",
              "      <td>0.348039</td>\n",
              "      <td>0.563725</td>\n",
              "      <td>0.222549</td>\n",
              "      <td>0.495098</td>\n",
              "      <td>...</td>\n",
              "      <td>0.121569</td>\n",
              "      <td>0.036275</td>\n",
              "      <td>0.057843</td>\n",
              "      <td>0.174510</td>\n",
              "      <td>0.364706</td>\n",
              "      <td>0.430392</td>\n",
              "      <td>0.456863</td>\n",
              "      <td>0.431373</td>\n",
              "      <td>0.117647</td>\n",
              "      <td>0</td>\n",
              "    </tr>\n",
              "    <tr>\n",
              "      <th>4</th>\n",
              "      <td>0.023529</td>\n",
              "      <td>0.031373</td>\n",
              "      <td>0.081373</td>\n",
              "      <td>0.135294</td>\n",
              "      <td>0.236275</td>\n",
              "      <td>0.360784</td>\n",
              "      <td>0.504902</td>\n",
              "      <td>0.173529</td>\n",
              "      <td>0.028431</td>\n",
              "      <td>0.097059</td>\n",
              "      <td>...</td>\n",
              "      <td>0.350980</td>\n",
              "      <td>0.197059</td>\n",
              "      <td>0.176471</td>\n",
              "      <td>0.178431</td>\n",
              "      <td>0.193137</td>\n",
              "      <td>0.085294</td>\n",
              "      <td>0.022549</td>\n",
              "      <td>0.133333</td>\n",
              "      <td>0.371569</td>\n",
              "      <td>0</td>\n",
              "    </tr>\n",
              "  </tbody>\n",
              "</table>\n",
              "<p>5 rows × 65 columns</p>\n",
              "</div>\n",
              "      <button class=\"colab-df-convert\" onclick=\"convertToInteractive('df-1b372383-c6a7-4e8a-9508-8482fb87aa9f')\"\n",
              "              title=\"Convert this dataframe to an interactive table.\"\n",
              "              style=\"display:none;\">\n",
              "        \n",
              "  <svg xmlns=\"http://www.w3.org/2000/svg\" height=\"24px\"viewBox=\"0 0 24 24\"\n",
              "       width=\"24px\">\n",
              "    <path d=\"M0 0h24v24H0V0z\" fill=\"none\"/>\n",
              "    <path d=\"M18.56 5.44l.94 2.06.94-2.06 2.06-.94-2.06-.94-.94-2.06-.94 2.06-2.06.94zm-11 1L8.5 8.5l.94-2.06 2.06-.94-2.06-.94L8.5 2.5l-.94 2.06-2.06.94zm10 10l.94 2.06.94-2.06 2.06-.94-2.06-.94-.94-2.06-.94 2.06-2.06.94z\"/><path d=\"M17.41 7.96l-1.37-1.37c-.4-.4-.92-.59-1.43-.59-.52 0-1.04.2-1.43.59L10.3 9.45l-7.72 7.72c-.78.78-.78 2.05 0 2.83L4 21.41c.39.39.9.59 1.41.59.51 0 1.02-.2 1.41-.59l7.78-7.78 2.81-2.81c.8-.78.8-2.07 0-2.86zM5.41 20L4 18.59l7.72-7.72 1.47 1.35L5.41 20z\"/>\n",
              "  </svg>\n",
              "      </button>\n",
              "      \n",
              "  <style>\n",
              "    .colab-df-container {\n",
              "      display:flex;\n",
              "      flex-wrap:wrap;\n",
              "      gap: 12px;\n",
              "    }\n",
              "\n",
              "    .colab-df-convert {\n",
              "      background-color: #E8F0FE;\n",
              "      border: none;\n",
              "      border-radius: 50%;\n",
              "      cursor: pointer;\n",
              "      display: none;\n",
              "      fill: #1967D2;\n",
              "      height: 32px;\n",
              "      padding: 0 0 0 0;\n",
              "      width: 32px;\n",
              "    }\n",
              "\n",
              "    .colab-df-convert:hover {\n",
              "      background-color: #E2EBFA;\n",
              "      box-shadow: 0px 1px 2px rgba(60, 64, 67, 0.3), 0px 1px 3px 1px rgba(60, 64, 67, 0.15);\n",
              "      fill: #174EA6;\n",
              "    }\n",
              "\n",
              "    [theme=dark] .colab-df-convert {\n",
              "      background-color: #3B4455;\n",
              "      fill: #D2E3FC;\n",
              "    }\n",
              "\n",
              "    [theme=dark] .colab-df-convert:hover {\n",
              "      background-color: #434B5C;\n",
              "      box-shadow: 0px 1px 3px 1px rgba(0, 0, 0, 0.15);\n",
              "      filter: drop-shadow(0px 1px 2px rgba(0, 0, 0, 0.3));\n",
              "      fill: #FFFFFF;\n",
              "    }\n",
              "  </style>\n",
              "\n",
              "      <script>\n",
              "        const buttonEl =\n",
              "          document.querySelector('#df-1b372383-c6a7-4e8a-9508-8482fb87aa9f button.colab-df-convert');\n",
              "        buttonEl.style.display =\n",
              "          google.colab.kernel.accessAllowed ? 'block' : 'none';\n",
              "\n",
              "        async function convertToInteractive(key) {\n",
              "          const element = document.querySelector('#df-1b372383-c6a7-4e8a-9508-8482fb87aa9f');\n",
              "          const dataTable =\n",
              "            await google.colab.kernel.invokeFunction('convertToInteractive',\n",
              "                                                     [key], {});\n",
              "          if (!dataTable) return;\n",
              "\n",
              "          const docLinkHtml = 'Like what you see? Visit the ' +\n",
              "            '<a target=\"_blank\" href=https://colab.research.google.com/notebooks/data_table.ipynb>data table notebook</a>'\n",
              "            + ' to learn more about interactive tables.';\n",
              "          element.innerHTML = '';\n",
              "          dataTable['output_type'] = 'display_data';\n",
              "          await google.colab.output.renderOutput(dataTable, element);\n",
              "          const docLink = document.createElement('div');\n",
              "          docLink.innerHTML = docLinkHtml;\n",
              "          element.appendChild(docLink);\n",
              "        }\n",
              "      </script>\n",
              "    </div>\n",
              "  </div>\n",
              "  "
            ]
          },
          "metadata": {},
          "execution_count": 67
        }
      ]
    },
    {
      "cell_type": "code",
      "source": [
        "plt.scatter(count.keys(),count.values(), marker = '+', color = 'red')"
      ],
      "metadata": {
        "colab": {
          "base_uri": "https://localhost:8080/",
          "height": 282
        },
        "id": "pOnvb4mW3JbK",
        "outputId": "1c6b2521-fb38-4da1-91ef-498da552761b"
      },
      "execution_count": 91,
      "outputs": [
        {
          "output_type": "execute_result",
          "data": {
            "text/plain": [
              "<matplotlib.collections.PathCollection at 0x7f9ed8e95510>"
            ]
          },
          "metadata": {},
          "execution_count": 91
        },
        {
          "output_type": "display_data",
          "data": {
            "text/plain": [
              "<Figure size 432x288 with 1 Axes>"
            ],
            "image/png": "[encoded data removed]"
          },
          "metadata": {
            "needs_background": "light"
          }
        }
      ]
    },
    {
      "cell_type": "code",
      "source": [
        "from sklearn.model_selection import train_test_split\n",
        "x_train,x_test,y_train,y_test = train_test_split(X,label,test_size=0.25)"
      ],
      "metadata": {
        "id": "v2F8ewKv3p1n"
      },
      "execution_count": 94,
      "outputs": []
    },
    {
      "cell_type": "code",
      "source": [
        "classifier = LogisticRegression(random_state = 0)\n",
        "classifier.fit(x_train, y_train)"
      ],
      "metadata": {
        "colab": {
          "base_uri": "https://localhost:8080/"
        },
        "id": "SqWptREm7rB1",
        "outputId": "64383acb-104a-4109-db0c-87b5d4c3d3bd"
      },
      "execution_count": 100,
      "outputs": [
        {
          "output_type": "stream",
          "name": "stderr",
          "text": [
            "/usr/local/lib/python3.7/dist-packages/sklearn/utils/validation.py:993: DataConversionWarning: A column-vector y was passed when a 1d array was expected. Please change the shape of y to (n_samples, ), for example using ravel().\n",
            "  y = column_or_1d(y, warn=True)\n",
            "/usr/local/lib/python3.7/dist-packages/sklearn/linear_model/_logistic.py:818: ConvergenceWarning: lbfgs failed to converge (status=1):\n",
            "STOP: TOTAL NO. of ITERATIONS REACHED LIMIT.\n",
            "\n",
            "Increase the number of iterations (max_iter) or scale the data as shown in:\n",
            "    https://scikit-learn.org/stable/modules/preprocessing.html\n",
            "Please also refer to the documentation for alternative solver options:\n",
            "    https://scikit-learn.org/stable/modules/linear_model.html#logistic-regression\n",
            "  extra_warning_msg=_LOGISTIC_SOLVER_CONVERGENCE_MSG,\n"
          ]
        },
        {
          "output_type": "execute_result",
          "data": {
            "text/plain": [
              "LogisticRegression(random_state=0)"
            ]
          },
          "metadata": {},
          "execution_count": 100
        }
      ]
    },
    {
      "cell_type": "code",
      "source": [
        "lorg=LogisticRegression(random_state=0)\n",
        "lorg.fit(x_train,y_train)"
      ],
      "metadata": {
        "colab": {
          "base_uri": "https://localhost:8080/"
        },
        "id": "-2_8YvqC7uJc",
        "outputId": "a9b114b2-f279-43b2-d88e-6be68b90d057"
      },
      "execution_count": 111,
      "outputs": [
        {
          "output_type": "stream",
          "name": "stderr",
          "text": [
            "/usr/local/lib/python3.7/dist-packages/sklearn/utils/validation.py:993: DataConversionWarning: A column-vector y was passed when a 1d array was expected. Please change the shape of y to (n_samples, ), for example using ravel().\n",
            "  y = column_or_1d(y, warn=True)\n",
            "/usr/local/lib/python3.7/dist-packages/sklearn/linear_model/_logistic.py:818: ConvergenceWarning: lbfgs failed to converge (status=1):\n",
            "STOP: TOTAL NO. of ITERATIONS REACHED LIMIT.\n",
            "\n",
            "Increase the number of iterations (max_iter) or scale the data as shown in:\n",
            "    https://scikit-learn.org/stable/modules/preprocessing.html\n",
            "Please also refer to the documentation for alternative solver options:\n",
            "    https://scikit-learn.org/stable/modules/linear_model.html#logistic-regression\n",
            "  extra_warning_msg=_LOGISTIC_SOLVER_CONVERGENCE_MSG,\n"
          ]
        },
        {
          "output_type": "execute_result",
          "data": {
            "text/plain": [
              "LogisticRegression(random_state=0)"
            ]
          },
          "metadata": {},
          "execution_count": 111
        }
      ]
    },
    {
      "cell_type": "code",
      "source": [
        "model.fit(x_train, y_train)"
      ],
      "metadata": {
        "colab": {
          "base_uri": "https://localhost:8080/"
        },
        "id": "hyrQeiBP7a-O",
        "outputId": "505e4784-5a23-4f13-e09c-c35a59a080db"
      },
      "execution_count": 112,
      "outputs": [
        {
          "output_type": "stream",
          "name": "stderr",
          "text": [
            "/usr/local/lib/python3.7/dist-packages/sklearn/utils/validation.py:993: DataConversionWarning: A column-vector y was passed when a 1d array was expected. Please change the shape of y to (n_samples, ), for example using ravel().\n",
            "  y = column_or_1d(y, warn=True)\n",
            "/usr/local/lib/python3.7/dist-packages/sklearn/linear_model/_logistic.py:818: ConvergenceWarning: lbfgs failed to converge (status=1):\n",
            "STOP: TOTAL NO. of ITERATIONS REACHED LIMIT.\n",
            "\n",
            "Increase the number of iterations (max_iter) or scale the data as shown in:\n",
            "    https://scikit-learn.org/stable/modules/preprocessing.html\n",
            "Please also refer to the documentation for alternative solver options:\n",
            "    https://scikit-learn.org/stable/modules/linear_model.html#logistic-regression\n",
            "  extra_warning_msg=_LOGISTIC_SOLVER_CONVERGENCE_MSG,\n"
          ]
        },
        {
          "output_type": "execute_result",
          "data": {
            "text/plain": [
              "LogisticRegression()"
            ]
          },
          "metadata": {},
          "execution_count": 112
        }
      ]
    },
    {
      "cell_type": "code",
      "source": [
        "x_test\n",
        "y_test"
      ],
      "metadata": {
        "colab": {
          "base_uri": "https://localhost:8080/",
          "height": 423
        },
        "id": "gEBv4LcJ6xPK",
        "outputId": "995c54fa-a8ee-4c8d-af15-53dcca9c64ef"
      },
      "execution_count": 113,
      "outputs": [
        {
          "output_type": "execute_result",
          "data": {
            "text/plain": [
              "       0\n",
              "12089  3\n",
              "10217  3\n",
              "9147   3\n",
              "639    0\n",
              "16213  4\n",
              "...   ..\n",
              "10114  3\n",
              "21428  5\n",
              "24961  5\n",
              "11870  3\n",
              "10329  3\n",
              "\n",
              "[7180 rows x 1 columns]"
            ],
            "text/html": [
              "\n",
              "  <div id=\"df-b26c4cb5-9736-448d-bcfe-c0d5a8d7a767\">\n",
              "    <div class=\"colab-df-container\">\n",
              "      <div>\n",
              "<style scoped>\n",
              "    .dataframe tbody tr th:only-of-type {\n",
              "        vertical-align: middle;\n",
              "    }\n",
              "\n",
              "    .dataframe tbody tr th {\n",
              "        vertical-align: top;\n",
              "    }\n",
              "\n",
              "    .dataframe thead th {\n",
              "        text-align: right;\n",
              "    }\n",
              "</style>\n",
              "<table border=\"1\" class=\"dataframe\">\n",
              "  <thead>\n",
              "    <tr style=\"text-align: right;\">\n",
              "      <th></th>\n",
              "      <th>0</th>\n",
              "    </tr>\n",
              "  </thead>\n",
              "  <tbody>\n",
              "    <tr>\n",
              "      <th>12089</th>\n",
              "      <td>3</td>\n",
              "    </tr>\n",
              "    <tr>\n",
              "      <th>10217</th>\n",
              "      <td>3</td>\n",
              "    </tr>\n",
              "    <tr>\n",
              "      <th>9147</th>\n",
              "      <td>3</td>\n",
              "    </tr>\n",
              "    <tr>\n",
              "      <th>639</th>\n",
              "      <td>0</td>\n",
              "    </tr>\n",
              "    <tr>\n",
              "      <th>16213</th>\n",
              "      <td>4</td>\n",
              "    </tr>\n",
              "    <tr>\n",
              "      <th>...</th>\n",
              "      <td>...</td>\n",
              "    </tr>\n",
              "    <tr>\n",
              "      <th>10114</th>\n",
              "      <td>3</td>\n",
              "    </tr>\n",
              "    <tr>\n",
              "      <th>21428</th>\n",
              "      <td>5</td>\n",
              "    </tr>\n",
              "    <tr>\n",
              "      <th>24961</th>\n",
              "      <td>5</td>\n",
              "    </tr>\n",
              "    <tr>\n",
              "      <th>11870</th>\n",
              "      <td>3</td>\n",
              "    </tr>\n",
              "    <tr>\n",
              "      <th>10329</th>\n",
              "      <td>3</td>\n",
              "    </tr>\n",
              "  </tbody>\n",
              "</table>\n",
              "<p>7180 rows × 1 columns</p>\n",
              "</div>\n",
              "      <button class=\"colab-df-convert\" onclick=\"convertToInteractive('df-b26c4cb5-9736-448d-bcfe-c0d5a8d7a767')\"\n",
              "              title=\"Convert this dataframe to an interactive table.\"\n",
              "              style=\"display:none;\">\n",
              "        \n",
              "  <svg xmlns=\"http://www.w3.org/2000/svg\" height=\"24px\"viewBox=\"0 0 24 24\"\n",
              "       width=\"24px\">\n",
              "    <path d=\"M0 0h24v24H0V0z\" fill=\"none\"/>\n",
              "    <path d=\"M18.56 5.44l.94 2.06.94-2.06 2.06-.94-2.06-.94-.94-2.06-.94 2.06-2.06.94zm-11 1L8.5 8.5l.94-2.06 2.06-.94-2.06-.94L8.5 2.5l-.94 2.06-2.06.94zm10 10l.94 2.06.94-2.06 2.06-.94-2.06-.94-.94-2.06-.94 2.06-2.06.94z\"/><path d=\"M17.41 7.96l-1.37-1.37c-.4-.4-.92-.59-1.43-.59-.52 0-1.04.2-1.43.59L10.3 9.45l-7.72 7.72c-.78.78-.78 2.05 0 2.83L4 21.41c.39.39.9.59 1.41.59.51 0 1.02-.2 1.41-.59l7.78-7.78 2.81-2.81c.8-.78.8-2.07 0-2.86zM5.41 20L4 18.59l7.72-7.72 1.47 1.35L5.41 20z\"/>\n",
              "  </svg>\n",
              "      </button>\n",
              "      \n",
              "  <style>\n",
              "    .colab-df-container {\n",
              "      display:flex;\n",
              "      flex-wrap:wrap;\n",
              "      gap: 12px;\n",
              "    }\n",
              "\n",
              "    .colab-df-convert {\n",
              "      background-color: #E8F0FE;\n",
              "      border: none;\n",
              "      border-radius: 50%;\n",
              "      cursor: pointer;\n",
              "      display: none;\n",
              "      fill: #1967D2;\n",
              "      height: 32px;\n",
              "      padding: 0 0 0 0;\n",
              "      width: 32px;\n",
              "    }\n",
              "\n",
              "    .colab-df-convert:hover {\n",
              "      background-color: #E2EBFA;\n",
              "      box-shadow: 0px 1px 2px rgba(60, 64, 67, 0.3), 0px 1px 3px 1px rgba(60, 64, 67, 0.15);\n",
              "      fill: #174EA6;\n",
              "    }\n",
              "\n",
              "    [theme=dark] .colab-df-convert {\n",
              "      background-color: #3B4455;\n",
              "      fill: #D2E3FC;\n",
              "    }\n",
              "\n",
              "    [theme=dark] .colab-df-convert:hover {\n",
              "      background-color: #434B5C;\n",
              "      box-shadow: 0px 1px 3px 1px rgba(0, 0, 0, 0.15);\n",
              "      filter: drop-shadow(0px 1px 2px rgba(0, 0, 0, 0.3));\n",
              "      fill: #FFFFFF;\n",
              "    }\n",
              "  </style>\n",
              "\n",
              "      <script>\n",
              "        const buttonEl =\n",
              "          document.querySelector('#df-b26c4cb5-9736-448d-bcfe-c0d5a8d7a767 button.colab-df-convert');\n",
              "        buttonEl.style.display =\n",
              "          google.colab.kernel.accessAllowed ? 'block' : 'none';\n",
              "\n",
              "        async function convertToInteractive(key) {\n",
              "          const element = document.querySelector('#df-b26c4cb5-9736-448d-bcfe-c0d5a8d7a767');\n",
              "          const dataTable =\n",
              "            await google.colab.kernel.invokeFunction('convertToInteractive',\n",
              "                                                     [key], {});\n",
              "          if (!dataTable) return;\n",
              "\n",
              "          const docLinkHtml = 'Like what you see? Visit the ' +\n",
              "            '<a target=\"_blank\" href=https://colab.research.google.com/notebooks/data_table.ipynb>data table notebook</a>'\n",
              "            + ' to learn more about interactive tables.';\n",
              "          element.innerHTML = '';\n",
              "          dataTable['output_type'] = 'display_data';\n",
              "          await google.colab.output.renderOutput(dataTable, element);\n",
              "          const docLink = document.createElement('div');\n",
              "          docLink.innerHTML = docLinkHtml;\n",
              "          element.appendChild(docLink);\n",
              "        }\n",
              "      </script>\n",
              "    </div>\n",
              "  </div>\n",
              "  "
            ]
          },
          "metadata": {},
          "execution_count": 113
        }
      ]
    },
    {
      "cell_type": "code",
      "source": [
        "y_pred = classifier.predict(x_test)"
      ],
      "metadata": {
        "id": "fDC9JndA76Ki"
      },
      "execution_count": 114,
      "outputs": []
    },
    {
      "cell_type": "code",
      "source": [
        "y_pred=lorg.predict(x_test)\n",
        "print(y_pred)"
      ],
      "metadata": {
        "colab": {
          "base_uri": "https://localhost:8080/"
        },
        "id": "aCLY273d78BW",
        "outputId": "74c5b049-f7f8-46a0-fe02-4db13e539885"
      },
      "execution_count": 115,
      "outputs": [
        {
          "output_type": "stream",
          "name": "stdout",
          "text": [
            "[3 3 3 ... 5 3 3]\n"
          ]
        }
      ]
    },
    {
      "cell_type": "code",
      "source": [
        "model.predict(x_test)"
      ],
      "metadata": {
        "colab": {
          "base_uri": "https://localhost:8080/"
        },
        "id": "AVb5fd8L7c45",
        "outputId": "f64beb21-8983-4c8c-f06e-e9216a260bd6"
      },
      "execution_count": 116,
      "outputs": [
        {
          "output_type": "execute_result",
          "data": {
            "text/plain": [
              "array([3, 3, 3, ..., 5, 3, 3])"
            ]
          },
          "metadata": {},
          "execution_count": 116
        }
      ]
    },
    {
      "cell_type": "code",
      "source": [
        "cm=confusion_matrix(y_test,y_pred)\n",
        "cm"
      ],
      "metadata": {
        "colab": {
          "base_uri": "https://localhost:8080/"
        },
        "id": "j-Ym0DCK7_pK",
        "outputId": "4a4bce50-fd56-4fb3-fd35-fe3e31c83b3d"
      },
      "execution_count": 117,
      "outputs": [
        {
          "output_type": "execute_result",
          "data": {
            "text/plain": [
              "array([[  77,    0,   55,  412,  178,  209,   62],\n",
              "       [   4,    0,   11,   45,   18,   16,   12],\n",
              "       [  41,    0,  107,  356,  175,  168,  136],\n",
              "       [  39,    0,   51, 1293,  147,  193,   64],\n",
              "       [  47,    0,   64,  505,  385,  204,   83],\n",
              "       [  45,    0,   66,  469,  229,  342,   65],\n",
              "       [  19,    0,   73,  204,  108,   58,  345]])"
            ]
          },
          "metadata": {},
          "execution_count": 117
        }
      ]
    },
    {
      "cell_type": "code",
      "source": [
        "model = LogisticRegression()"
      ],
      "metadata": {
        "id": "UF-EYa8Q7X0R"
      },
      "execution_count": 118,
      "outputs": []
    },
    {
      "cell_type": "code",
      "source": [
        "accuracy_score(y_test, y_pred)"
      ],
      "metadata": {
        "colab": {
          "base_uri": "https://localhost:8080/"
        },
        "id": "a03hCsuD7gse",
        "outputId": "6b31d959-7344-46f6-fc97-ac1fd83213db"
      },
      "execution_count": 120,
      "outputs": [
        {
          "output_type": "execute_result",
          "data": {
            "text/plain": [
              "0.35501392757660166"
            ]
          },
          "metadata": {},
          "execution_count": 120
        }
      ]
    },
    {
      "cell_type": "markdown",
      "source": [
        "# **SUPPORT VECTOR REGRESSION**"
      ],
      "metadata": {
        "id": "xNh35C7L8jlA"
      }
    },
    {
      "cell_type": "code",
      "source": [
        "import pandas as pd\n",
        "from sklearn.svm import SVC\n",
        "from matplotlib import pyplot as plt\n",
        "%matplotlib inline\n",
        "from sklearn.metrics import confusion_matrix, accuracy_score"
      ],
      "metadata": {
        "id": "k24Ru30Y9Jql"
      },
      "execution_count": 122,
      "outputs": []
    },
    {
      "cell_type": "code",
      "source": [
        "svclassifier = SVC(kernel='linear')\n",
        "svclassifier.fit(x_train, y_train)"
      ],
      "metadata": {
        "colab": {
          "base_uri": "https://localhost:8080/"
        },
        "id": "8uj3Pq8V9fjr",
        "outputId": "0fbc34ae-6d4b-4f51-e4bd-0095fb92a6c3"
      },
      "execution_count": 123,
      "outputs": [
        {
          "output_type": "stream",
          "name": "stderr",
          "text": [
            "/usr/local/lib/python3.7/dist-packages/sklearn/utils/validation.py:993: DataConversionWarning: A column-vector y was passed when a 1d array was expected. Please change the shape of y to (n_samples, ), for example using ravel().\n",
            "  y = column_or_1d(y, warn=True)\n"
          ]
        },
        {
          "output_type": "execute_result",
          "data": {
            "text/plain": [
              "SVC(kernel='linear')"
            ]
          },
          "metadata": {},
          "execution_count": 123
        }
      ]
    },
    {
      "cell_type": "code",
      "source": [
        "flat_data0=flat_data[flat_data.label ==0]\n",
        "flat_data1=flat_data[flat_data.label ==1]\n",
        "flat_data2=flat_data[flat_data.label ==2]"
      ],
      "metadata": {
        "id": "2dMDSl4X9lgI"
      },
      "execution_count": 126,
      "outputs": []
    },
    {
      "cell_type": "code",
      "source": [
        "plt.ylabel('Emotions')\n",
        "plt.xlabel('Images')\n",
        "plt.scatter(count.values(),count.keys(),marker='+',color= 'red')\n"
      ],
      "metadata": {
        "colab": {
          "base_uri": "https://localhost:8080/",
          "height": 296
        },
        "id": "rgAlsU8U-ijZ",
        "outputId": "f517dbbf-85ea-4e1f-9af5-6ab124ff01a7"
      },
      "execution_count": 154,
      "outputs": [
        {
          "output_type": "execute_result",
          "data": {
            "text/plain": [
              "<matplotlib.collections.PathCollection at 0x7f9ed6f52890>"
            ]
          },
          "metadata": {},
          "execution_count": 154
        },
        {
          "output_type": "display_data",
          "data": {
            "text/plain": [
              "<Figure size 432x288 with 1 Axes>"
            ],
            "image/png": "[encoded data removed]"
          },
          "metadata": {
            "needs_background": "light"
          }
        }
      ]
    },
    {
      "cell_type": "code",
      "source": [
        "plt.ylabel('Emotions')\n",
        "plt.xlabel('Images')\n",
        "plt.scatter(classes,classes,marker='.',color= 'green')"
      ],
      "metadata": {
        "colab": {
          "base_uri": "https://localhost:8080/",
          "height": 296
        },
        "id": "oRP9HGlY-tdG",
        "outputId": "299e47fb-fb83-45ec-ce7b-1015cd6cc7fc"
      },
      "execution_count": 155,
      "outputs": [
        {
          "output_type": "execute_result",
          "data": {
            "text/plain": [
              "<matplotlib.collections.PathCollection at 0x7f9ed709b9d0>"
            ]
          },
          "metadata": {},
          "execution_count": 155
        },
        {
          "output_type": "display_data",
          "data": {
            "text/plain": [
              "<Figure size 432x288 with 1 Axes>"
            ],
            "image/png": "[encoded data removed]"
          },
          "metadata": {
            "needs_background": "light"
          }
        }
      ]
    },
    {
      "cell_type": "code",
      "source": [
        "y_pred = classifier.predict(x_test)"
      ],
      "metadata": {
        "id": "djz_7rkbCagM"
      },
      "execution_count": 170,
      "outputs": []
    },
    {
      "cell_type": "code",
      "source": [
        "cm = confusion_matrix(y_test, y_pred)\n",
        "print(cm)"
      ],
      "metadata": {
        "colab": {
          "base_uri": "https://localhost:8080/"
        },
        "id": "givkxIZpC9zg",
        "outputId": "f437cdf2-b8c2-43a4-e5ae-7bf49acd82dc"
      },
      "execution_count": 171,
      "outputs": [
        {
          "output_type": "stream",
          "name": "stdout",
          "text": [
            "[[  77    0   55  412  178  209   62]\n",
            " [   4    0   11   45   18   16   12]\n",
            " [  41    0  107  356  175  168  136]\n",
            " [  39    0   51 1293  147  193   64]\n",
            " [  47    0   64  505  385  204   83]\n",
            " [  45    0   66  469  229  342   65]\n",
            " [  19    0   73  204  108   58  345]]\n"
          ]
        }
      ]
    },
    {
      "cell_type": "code",
      "source": [
        "accuracy_score(y_test, y_pred)"
      ],
      "metadata": {
        "colab": {
          "base_uri": "https://localhost:8080/"
        },
        "id": "212bh91bEBWD",
        "outputId": "c7baf501-89c1-48dc-a2e6-a2ab346f2888"
      },
      "execution_count": 172,
      "outputs": [
        {
          "output_type": "execute_result",
          "data": {
            "text/plain": [
              "0.35501392757660166"
            ]
          },
          "metadata": {},
          "execution_count": 172
        }
      ]
    },
    {
      "cell_type": "markdown",
      "source": [
        "# **Naive Bayes Classifier** "
      ],
      "metadata": {
        "id": "dxxoOX_CEMhS"
      }
    },
    {
      "cell_type": "code",
      "source": [
        "import pandas as pd\n",
        "from sklearn.naive_bayes import GaussianNB\n",
        "from sklearn.metrics import confusion_matrix, accuracy_score"
      ],
      "metadata": {
        "id": "E6IO9zPPEWJG"
      },
      "execution_count": 173,
      "outputs": []
    },
    {
      "cell_type": "code",
      "source": [
        "classifier = GaussianNB()\n",
        "classifier.fit(x_train, y_train)"
      ],
      "metadata": {
        "colab": {
          "base_uri": "https://localhost:8080/"
        },
        "id": "46BhUb7FEiq3",
        "outputId": "9f106723-fd8c-4cf2-83f2-d52c4b75c329"
      },
      "execution_count": 241,
      "outputs": [
        {
          "output_type": "stream",
          "name": "stderr",
          "text": [
            "/usr/local/lib/python3.7/dist-packages/sklearn/utils/validation.py:993: DataConversionWarning: A column-vector y was passed when a 1d array was expected. Please change the shape of y to (n_samples, ), for example using ravel().\n",
            "  y = column_or_1d(y, warn=True)\n"
          ]
        },
        {
          "output_type": "execute_result",
          "data": {
            "text/plain": [
              "GaussianNB()"
            ]
          },
          "metadata": {},
          "execution_count": 241
        }
      ]
    },
    {
      "cell_type": "code",
      "source": [
        "from sklearn.model_selection import train_test_split\n",
        "x_train,x_test,y_train,y_test = train_test_split(X,label, test_size = 0.20)\n"
      ],
      "metadata": {
        "id": "zJmJuru6Fbei"
      },
      "execution_count": 242,
      "outputs": []
    },
    {
      "cell_type": "code",
      "source": [
        "from sklearn.feature_extraction.text import CountVectorizer\n",
        "v = CountVectorizer()"
      ],
      "metadata": {
        "id": "vd4TgaWnGHqu"
      },
      "execution_count": 243,
      "outputs": []
    },
    {
      "cell_type": "code",
      "source": [
        "x_train.shape"
      ],
      "metadata": {
        "colab": {
          "base_uri": "https://localhost:8080/"
        },
        "id": "-n1MEsvwG2BW",
        "outputId": "7a470f98-3659-4dfc-cfee-9e9bb175680f"
      },
      "execution_count": 244,
      "outputs": [
        {
          "output_type": "execute_result",
          "data": {
            "text/plain": [
              "(22975, 64)"
            ]
          },
          "metadata": {},
          "execution_count": 244
        }
      ]
    },
    {
      "cell_type": "code",
      "source": [
        "from sklearn.naive_bayes import MultinomialNB\n",
        "model = MultinomialNB()\n",
        "model.fit(x_train, y_train)"
      ],
      "metadata": {
        "colab": {
          "base_uri": "https://localhost:8080/"
        },
        "id": "6HJUg5E4G7Qy",
        "outputId": "4f0769d3-4d75-4f25-8489-20ed8b0bdac0"
      },
      "execution_count": 245,
      "outputs": [
        {
          "output_type": "stream",
          "name": "stderr",
          "text": [
            "/usr/local/lib/python3.7/dist-packages/sklearn/utils/validation.py:993: DataConversionWarning: A column-vector y was passed when a 1d array was expected. Please change the shape of y to (n_samples, ), for example using ravel().\n",
            "  y = column_or_1d(y, warn=True)\n"
          ]
        },
        {
          "output_type": "execute_result",
          "data": {
            "text/plain": [
              "MultinomialNB()"
            ]
          },
          "metadata": {},
          "execution_count": 245
        }
      ]
    },
    {
      "cell_type": "code",
      "source": [
        "y_pred = classifier.predict(x_test)"
      ],
      "metadata": {
        "id": "BcP29UZ2HPTf"
      },
      "execution_count": 246,
      "outputs": []
    },
    {
      "cell_type": "code",
      "source": [
        "cm = confusion_matrix(y_test, y_pred)\n",
        "print(cm)"
      ],
      "metadata": {
        "colab": {
          "base_uri": "https://localhost:8080/"
        },
        "id": "wNAuXzDbHXbD",
        "outputId": "f2c2222a-3842-442f-a8b0-253d386710cd"
      },
      "execution_count": 247,
      "outputs": [
        {
          "output_type": "stream",
          "name": "stdout",
          "text": [
            "[[ 31   0  33 145  36 267 265]\n",
            " [  4   0   2  15   2  18  34]\n",
            " [ 25   3  51 131  48 200 369]\n",
            " [ 46   0  40 340  87 393 534]\n",
            " [ 21   0  26 205 110 335 294]\n",
            " [ 45   3  46 138  62 389 272]\n",
            " [ 17   2  29  96  34  82 419]]\n"
          ]
        }
      ]
    },
    {
      "cell_type": "code",
      "source": [
        "accuracy_score(y_test, y_pred)"
      ],
      "metadata": {
        "colab": {
          "base_uri": "https://localhost:8080/"
        },
        "id": "W1TLbvuPHsIb",
        "outputId": "f5f70692-a038-401f-da2f-cafcaafa4c87"
      },
      "execution_count": 248,
      "outputs": [
        {
          "output_type": "execute_result",
          "data": {
            "text/plain": [
              "0.23328690807799443"
            ]
          },
          "metadata": {},
          "execution_count": 248
        }
      ]
    },
    {
      "cell_type": "code",
      "source": [
        "model.score(x_test,y_test)"
      ],
      "metadata": {
        "colab": {
          "base_uri": "https://localhost:8080/"
        },
        "id": "mDRx9pRcJRr3",
        "outputId": "a86e1c38-7886-49e8-d9a9-ea5af5cd96bd"
      },
      "execution_count": 249,
      "outputs": [
        {
          "output_type": "execute_result",
          "data": {
            "text/plain": [
              "0.2512186629526462"
            ]
          },
          "metadata": {},
          "execution_count": 249
        }
      ]
    },
    {
      "cell_type": "markdown",
      "source": [
        "# **DECISION TREE CLASSIFICATION**\n"
      ],
      "metadata": {
        "id": "sL-bo9cWH4vV"
      }
    },
    {
      "cell_type": "code",
      "source": [
        "import numpy as np\n",
        "import pandas as pd\n",
        "import matplotlib.pyplot as plt\n",
        "import seaborn as sns\n",
        "import sklearn.datasets as datasets\n",
        "%matplotlib inline\n",
        "from sklearn.tree import DecisionTreeClassifier\n",
        "from sklearn import metrics"
      ],
      "metadata": {
        "id": "W5jT4dfgIu0K"
      },
      "execution_count": 281,
      "outputs": []
    },
    {
      "cell_type": "code",
      "source": [
        "classifier = DecisionTreeClassifier(criterion = 'entropy', random_state = 0)\n",
        "classifier.fit(x_train, y_train)"
      ],
      "metadata": {
        "colab": {
          "base_uri": "https://localhost:8080/"
        },
        "id": "68q36g3AJeld",
        "outputId": "eee6ff36-2cf6-4120-ce77-e13008de3a79"
      },
      "execution_count": 251,
      "outputs": [
        {
          "output_type": "execute_result",
          "data": {
            "text/plain": [
              "DecisionTreeClassifier(criterion='entropy', random_state=0)"
            ]
          },
          "metadata": {},
          "execution_count": 251
        }
      ]
    },
    {
      "cell_type": "code",
      "source": [
        "!pip install pydotplus\n",
        "!apt-get install graphviz -y"
      ],
      "metadata": {
        "colab": {
          "base_uri": "https://localhost:8080/"
        },
        "id": "IO39q6NRJik9",
        "outputId": "80dc6879-1b37-4458-fc66-938d8005a2ba"
      },
      "execution_count": 252,
      "outputs": [
        {
          "output_type": "stream",
          "name": "stdout",
          "text": [
            "Requirement already satisfied: pydotplus in /usr/local/lib/python3.7/dist-packages (2.0.2)\n",
            "Requirement already satisfied: pyparsing>=2.0.1 in /usr/local/lib/python3.7/dist-packages (from pydotplus) (3.0.8)\n",
            "Reading package lists... Done\n",
            "Building dependency tree       \n",
            "Reading state information... Done\n",
            "graphviz is already the newest version (2.40.1-2).\n",
            "0 upgraded, 0 newly installed, 0 to remove and 39 not upgraded.\n"
          ]
        }
      ]
    },
    {
      "cell_type": "code",
      "source": [
        "flat_data.shape\n"
      ],
      "metadata": {
        "colab": {
          "base_uri": "https://localhost:8080/"
        },
        "id": "CMXs3ejnJtqh",
        "outputId": "4f22404f-2ba3-4140-a65b-2c681ad5abe3"
      },
      "execution_count": 253,
      "outputs": [
        {
          "output_type": "execute_result",
          "data": {
            "text/plain": [
              "(28719, 67)"
            ]
          },
          "metadata": {},
          "execution_count": 253
        }
      ]
    },
    {
      "cell_type": "code",
      "source": [
        "flat_data.columns"
      ],
      "metadata": {
        "colab": {
          "base_uri": "https://localhost:8080/"
        },
        "id": "0rEtZTJSJ-1a",
        "outputId": "8e490f31-0ceb-4373-ce6a-782457d22b49"
      },
      "execution_count": 266,
      "outputs": [
        {
          "output_type": "execute_result",
          "data": {
            "text/plain": [
              "Index([        0,         1,         2,         3,         4,         5,\n",
              "               6,         7,         8,         9,        10,        11,\n",
              "              12,        13,        14,        15,        16,        17,\n",
              "              18,        19,        20,        21,        22,        23,\n",
              "              24,        25,        26,        27,        28,        29,\n",
              "              30,        31,        32,        33,        34,        35,\n",
              "              36,        37,        38,        39,        40,        41,\n",
              "              42,        43,        44,        45,        46,        47,\n",
              "              48,        49,        50,        51,        52,        53,\n",
              "              54,        55,        56,        57,        58,        59,\n",
              "              60,        61,        62,        63,   'label', 'DATADIR',\n",
              "         'happy'],\n",
              "      dtype='object')"
            ]
          },
          "metadata": {},
          "execution_count": 266
        }
      ]
    },
    {
      "cell_type": "code",
      "source": [
        "flat_data.isnull().sum()"
      ],
      "metadata": {
        "colab": {
          "base_uri": "https://localhost:8080/"
        },
        "id": "78wZ-LuJKIIH",
        "outputId": "3e4d8e0d-7791-4e87-9d7e-09b5b03a7140"
      },
      "execution_count": 267,
      "outputs": [
        {
          "output_type": "execute_result",
          "data": {
            "text/plain": [
              "0          0\n",
              "1          0\n",
              "2          0\n",
              "3          0\n",
              "4          0\n",
              "          ..\n",
              "62         0\n",
              "63         0\n",
              "label      0\n",
              "DATADIR    0\n",
              "happy      0\n",
              "Length: 67, dtype: int64"
            ]
          },
          "metadata": {},
          "execution_count": 267
        }
      ]
    },
    {
      "cell_type": "code",
      "source": [
        "sns.set_style(\"darkgrid\")"
      ],
      "metadata": {
        "id": "5g2M8ZDCK44N"
      },
      "execution_count": 268,
      "outputs": []
    },
    {
      "cell_type": "code",
      "source": [
        "from sklearn.model_selection import train_test_split\n",
        "train, test = train_test_split(DATADIR, test_size = 0.2)"
      ],
      "metadata": {
        "id": "2JG_tvvJK9k-"
      },
      "execution_count": 276,
      "outputs": []
    },
    {
      "cell_type": "code",
      "source": [
        "dtree = DecisionTreeClassifier()\n",
        "dtree.fit(x_train,y_train)\n",
        "predictions = dtree.predict(x_test)"
      ],
      "metadata": {
        "id": "TtO3HHWHLsJh"
      },
      "execution_count": 287,
      "outputs": []
    },
    {
      "cell_type": "code",
      "source": [
        "X = DATADIR\n",
        "Y = DATADIRtest"
      ],
      "metadata": {
        "id": "STPuu_PFMWI6"
      },
      "execution_count": 288,
      "outputs": []
    },
    {
      "cell_type": "code",
      "source": [
        "dtree1 = DecisionTreeClassifier()\n",
        "dtree1.fit(x_train, y_train)\n",
        "print(\"Decision Tree Classifier is created\")"
      ],
      "metadata": {
        "colab": {
          "base_uri": "https://localhost:8080/"
        },
        "id": "epPg3191MZRL",
        "outputId": "f49b9a1f-4ce7-47a8-9a52-0f049515b131"
      },
      "execution_count": 289,
      "outputs": [
        {
          "output_type": "stream",
          "name": "stdout",
          "text": [
            "Decision Tree Classifier is created\n"
          ]
        }
      ]
    },
    {
      "cell_type": "code",
      "source": [
        "classifier_dt= DecisionTreeClassifier(criterion='entropy', random_state=0)  \n",
        "classifier_dt.fit(x_train, y_train)"
      ],
      "metadata": {
        "colab": {
          "base_uri": "https://localhost:8080/"
        },
        "id": "B0Fk7SMPMbIq",
        "outputId": "bd93c3ba-66d5-4d5f-d414-cbb8880f5cfa"
      },
      "execution_count": 290,
      "outputs": [
        {
          "output_type": "execute_result",
          "data": {
            "text/plain": [
              "DecisionTreeClassifier(criterion='entropy', random_state=0)"
            ]
          },
          "metadata": {},
          "execution_count": 290
        }
      ]
    },
    {
      "cell_type": "code",
      "source": [
        "y_pred_dt= classifier.predict(x_test)\n",
        "y_pred_dt"
      ],
      "metadata": {
        "colab": {
          "base_uri": "https://localhost:8080/"
        },
        "id": "yECu5lo3MhsT",
        "outputId": "0356bcda-4cf4-43a7-9dc3-d1772cdcbb86"
      },
      "execution_count": 291,
      "outputs": [
        {
          "output_type": "execute_result",
          "data": {
            "text/plain": [
              "array([0, 2, 4, ..., 0, 0, 5])"
            ]
          },
          "metadata": {},
          "execution_count": 291
        }
      ]
    },
    {
      "cell_type": "code",
      "source": [
        "cm= confusion_matrix(y_test, y_pred_dt) \n",
        "print(cm)"
      ],
      "metadata": {
        "colab": {
          "base_uri": "https://localhost:8080/"
        },
        "id": "hmkPSYdYMlpF",
        "outputId": "1447b827-b569-49fe-9cac-992849897802"
      },
      "execution_count": 292,
      "outputs": [
        {
          "output_type": "stream",
          "name": "stdout",
          "text": [
            "[[208  16  99 153 110 129  62]\n",
            " [  8  23   5  12   6  15   6]\n",
            " [103   6 241 148 125 140  64]\n",
            " [182  19 159 566 215 200  99]\n",
            " [120  11 139 202 283 165  71]\n",
            " [148  19 125 164 176 251  72]\n",
            " [ 71   4  69  88  82  73 292]]\n"
          ]
        }
      ]
    },
    {
      "cell_type": "code",
      "source": [
        "print(\"The accuracy of Decision Tree is:\", metrics.accuracy_score(predictions, y_test))"
      ],
      "metadata": {
        "colab": {
          "base_uri": "https://localhost:8080/"
        },
        "id": "obOCDjF_MoZ-",
        "outputId": "e34b3745-57ba-408b-d74f-95121dfc7a79"
      },
      "execution_count": 293,
      "outputs": [
        {
          "output_type": "stream",
          "name": "stdout",
          "text": [
            "The accuracy of Decision Tree is: 0.32137883008356544\n"
          ]
        }
      ]
    },
    {
      "cell_type": "markdown",
      "source": [
        "# **RANDOM FOREST CLASSIFIER**"
      ],
      "metadata": {
        "id": "iY8-6Qt2M622"
      }
    },
    {
      "cell_type": "code",
      "source": [
        "from sklearn import metrics\n",
        "from sklearn.ensemble import RandomForestClassifier\n",
        "from sklearn.metrics import confusion_matrix, accuracy_score"
      ],
      "metadata": {
        "id": "keAqcQzWM-qp"
      },
      "execution_count": 295,
      "outputs": []
    },
    {
      "cell_type": "code",
      "source": [
        "classifier = RandomForestClassifier(n_estimators = 10, criterion = 'entropy', random_state = 0)\n",
        "classifier.fit(x_train, y_train)"
      ],
      "metadata": {
        "colab": {
          "base_uri": "https://localhost:8080/"
        },
        "id": "JdYy58U8NHt0",
        "outputId": "ab34f591-e93b-485d-ca76-c0f3c342ab76"
      },
      "execution_count": 296,
      "outputs": [
        {
          "output_type": "stream",
          "name": "stderr",
          "text": [
            "/usr/local/lib/python3.7/dist-packages/ipykernel_launcher.py:2: DataConversionWarning: A column-vector y was passed when a 1d array was expected. Please change the shape of y to (n_samples,), for example using ravel().\n",
            "  \n"
          ]
        },
        {
          "output_type": "execute_result",
          "data": {
            "text/plain": [
              "RandomForestClassifier(criterion='entropy', n_estimators=10, random_state=0)"
            ]
          },
          "metadata": {},
          "execution_count": 296
        }
      ]
    },
    {
      "cell_type": "code",
      "source": [
        "y_pred = classifier.predict(x_test)"
      ],
      "metadata": {
        "id": "UC2ruaMXNOlx"
      },
      "execution_count": 297,
      "outputs": []
    },
    {
      "cell_type": "code",
      "source": [
        "clf=RandomForestClassifier(n_estimators=100)\n",
        "\n",
        "\n",
        "clf.fit(x_train, y_train)\n",
        "\n",
        "y_pred=clf.predict(x_test)"
      ],
      "metadata": {
        "colab": {
          "base_uri": "https://localhost:8080/"
        },
        "id": "DoUQb0SVNRkr",
        "outputId": "b9739069-8eba-41cb-dde4-5c84b09eb864"
      },
      "execution_count": 298,
      "outputs": [
        {
          "output_type": "stream",
          "name": "stderr",
          "text": [
            "/usr/local/lib/python3.7/dist-packages/ipykernel_launcher.py:4: DataConversionWarning: A column-vector y was passed when a 1d array was expected. Please change the shape of y to (n_samples,), for example using ravel().\n",
            "  after removing the cwd from sys.path.\n"
          ]
        }
      ]
    },
    {
      "cell_type": "code",
      "source": [
        "cm = confusion_matrix(y_test, y_pred)\n",
        "print(cm)"
      ],
      "metadata": {
        "colab": {
          "base_uri": "https://localhost:8080/"
        },
        "id": "BpdwacNDNSij",
        "outputId": "38ceaa14-7829-41d7-be2e-0b31b69d174f"
      },
      "execution_count": 299,
      "outputs": [
        {
          "output_type": "stream",
          "name": "stdout",
          "text": [
            "[[ 176    0   59  287   99  124   32]\n",
            " [   6   31    3   14   10    9    2]\n",
            " [  52    0  247  245  126  102   55]\n",
            " [  60    0   39 1088  114  105   34]\n",
            " [  37    0   56  344  381  141   32]\n",
            " [  90    0   79  287  166  304   29]\n",
            " [  19    0   46  123   56   45  390]]\n"
          ]
        }
      ]
    },
    {
      "cell_type": "code",
      "source": [
        "print(\"accuracy:\",metrics.accuracy_score(y_test, y_pred))"
      ],
      "metadata": {
        "colab": {
          "base_uri": "https://localhost:8080/"
        },
        "id": "ZZGJJ8ORNZHV",
        "outputId": "318e7106-b7a3-4bf8-d2b3-ee27717916d3"
      },
      "execution_count": 300,
      "outputs": [
        {
          "output_type": "stream",
          "name": "stdout",
          "text": [
            "accuracy: 0.4556058495821727\n"
          ]
        }
      ]
    },
    {
      "cell_type": "markdown",
      "source": [
        "# **LASSO AND RIDGE REGRESSION**\n"
      ],
      "metadata": {
        "id": "1uX8SiXuNc9n"
      }
    },
    {
      "cell_type": "code",
      "source": [
        "import numpy as np\n",
        "import pandas as pd\n",
        "import matplotlib.pyplot as plt\n",
        "import seaborn as sns\n",
        "from sklearn.linear_model import Lasso\n",
        "from sklearn.linear_model import Ridge\n",
        "from sklearn.linear_model import LinearRegression"
      ],
      "metadata": {
        "id": "kV4ZBpYtNloK"
      },
      "execution_count": 335,
      "outputs": []
    },
    {
      "cell_type": "code",
      "source": [
        "model = LinearRegression()"
      ],
      "metadata": {
        "id": "euAvbZ3nOMod"
      },
      "execution_count": 321,
      "outputs": []
    },
    {
      "cell_type": "code",
      "source": [
        "model.fit(x_train,y_train)"
      ],
      "metadata": {
        "colab": {
          "base_uri": "https://localhost:8080/"
        },
        "id": "23wSsvIfOPVZ",
        "outputId": "9727fdaa-81d5-4f0b-aa76-e86ae892e979"
      },
      "execution_count": 322,
      "outputs": [
        {
          "output_type": "execute_result",
          "data": {
            "text/plain": [
              "LinearRegression()"
            ]
          },
          "metadata": {},
          "execution_count": 322
        }
      ]
    },
    {
      "cell_type": "code",
      "source": [
        "model.score(x_test,y_test)"
      ],
      "metadata": {
        "colab": {
          "base_uri": "https://localhost:8080/"
        },
        "id": "zjH2UqjGORdu",
        "outputId": "35dc8014-72b2-4036-876c-cb8dc2552423"
      },
      "execution_count": 323,
      "outputs": [
        {
          "output_type": "execute_result",
          "data": {
            "text/plain": [
              "0.03476006388993691"
            ]
          },
          "metadata": {},
          "execution_count": 323
        }
      ]
    },
    {
      "cell_type": "code",
      "source": [
        "model.score(x_train, y_train)"
      ],
      "metadata": {
        "colab": {
          "base_uri": "https://localhost:8080/"
        },
        "id": "O2kABxVoOTRS",
        "outputId": "308b500b-2820-418d-e24d-288adc8194c2"
      },
      "execution_count": 324,
      "outputs": [
        {
          "output_type": "execute_result",
          "data": {
            "text/plain": [
              "0.048945258582593465"
            ]
          },
          "metadata": {},
          "execution_count": 324
        }
      ]
    },
    {
      "cell_type": "code",
      "source": [
        "lasso_model = Lasso()"
      ],
      "metadata": {
        "id": "ZX3L4z7hOVNK"
      },
      "execution_count": 325,
      "outputs": []
    },
    {
      "cell_type": "code",
      "source": [
        "lasso_model.fit(x_train, y_train)"
      ],
      "metadata": {
        "colab": {
          "base_uri": "https://localhost:8080/"
        },
        "id": "-wR3VdtaOX5T",
        "outputId": "0c7d7bfa-73d4-4686-b618-e8cac6a46c84"
      },
      "execution_count": 326,
      "outputs": [
        {
          "output_type": "execute_result",
          "data": {
            "text/plain": [
              "Lasso()"
            ]
          },
          "metadata": {},
          "execution_count": 326
        }
      ]
    },
    {
      "cell_type": "code",
      "source": [
        "model_lasso = Lasso(alpha=0)\n",
        "model_lasso.fit(x_train, y_train)"
      ],
      "metadata": {
        "colab": {
          "base_uri": "https://localhost:8080/"
        },
        "id": "q8H60RE6NonI",
        "outputId": "f1cb8a72-bbe6-40d9-fced-5a5463f2c3d1"
      },
      "execution_count": 327,
      "outputs": [
        {
          "output_type": "stream",
          "name": "stderr",
          "text": [
            "/usr/local/lib/python3.7/dist-packages/ipykernel_launcher.py:2: UserWarning: With alpha=0, this algorithm does not converge well. You are advised to use the LinearRegression estimator\n",
            "  \n",
            "/usr/local/lib/python3.7/dist-packages/sklearn/linear_model/_coordinate_descent.py:648: UserWarning: Coordinate descent with no regularization may lead to unexpected results and is discouraged.\n",
            "  coef_, l1_reg, l2_reg, X, y, max_iter, tol, rng, random, positive\n",
            "/usr/local/lib/python3.7/dist-packages/sklearn/linear_model/_coordinate_descent.py:648: ConvergenceWarning: Objective did not converge. You might want to increase the number of iterations, check the scale of the features or consider increasing regularisation. Duality gap: 3.535e+04, tolerance: 7.434e+00 Linear regression models with null weight for the l1 regularization term are more efficiently fitted using one of the solvers implemented in sklearn.linear_model.Ridge/RidgeCV instead.\n",
            "  coef_, l1_reg, l2_reg, X, y, max_iter, tol, rng, random, positive\n"
          ]
        },
        {
          "output_type": "execute_result",
          "data": {
            "text/plain": [
              "Lasso(alpha=0)"
            ]
          },
          "metadata": {},
          "execution_count": 327
        }
      ]
    },
    {
      "cell_type": "code",
      "source": [
        "model_r = Ridge(alpha = 0.5, normalize = False, tol = 0.01, \\\n",
        "              solver ='auto', random_state = 42)\n",
        "model_r.fit(x_train, y_train)\n",
        "  "
      ],
      "metadata": {
        "colab": {
          "base_uri": "https://localhost:8080/"
        },
        "id": "7pkQQ1b1OHQH",
        "outputId": "e61cf101-073d-410a-95ee-8891c2005ee0"
      },
      "execution_count": 328,
      "outputs": [
        {
          "output_type": "stream",
          "name": "stderr",
          "text": [
            "/usr/local/lib/python3.7/dist-packages/sklearn/linear_model/_base.py:155: FutureWarning: 'normalize' was deprecated in version 1.0 and will be removed in 1.2. Please leave the normalize parameter to its default value to silence this warning. The default behavior of this estimator is to not do any normalization. If normalization is needed please use sklearn.preprocessing.StandardScaler instead.\n",
            "  FutureWarning,\n"
          ]
        },
        {
          "output_type": "execute_result",
          "data": {
            "text/plain": [
              "Ridge(alpha=0.5, normalize=False, random_state=42, tol=0.01)"
            ]
          },
          "metadata": {},
          "execution_count": 328
        }
      ]
    },
    {
      "cell_type": "code",
      "source": [
        "pred_lasso= model_lasso.predict(x_test)\n",
        "print(np.sqrt(mean_squared_error(pred_lasso, y_test)))"
      ],
      "metadata": {
        "colab": {
          "base_uri": "https://localhost:8080/"
        },
        "id": "xLC3nPF8Nspl",
        "outputId": "f53a336c-da9d-4f63-8c8d-6fb39bfeaacb"
      },
      "execution_count": 329,
      "outputs": [
        {
          "output_type": "stream",
          "name": "stdout",
          "text": [
            "1.7669604398758973\n"
          ]
        }
      ]
    },
    {
      "cell_type": "code",
      "source": [
        "y_pred_r = model_r.predict(x_test)"
      ],
      "metadata": {
        "id": "fA15FANhOEQx"
      },
      "execution_count": 330,
      "outputs": []
    },
    {
      "cell_type": "code",
      "source": [
        "r2_score(y_test,y_pred_r)"
      ],
      "metadata": {
        "colab": {
          "base_uri": "https://localhost:8080/"
        },
        "id": "7IZSVmWrOLLu",
        "outputId": "721d5bab-af81-4ff2-e8d4-390c0d17e75b"
      },
      "execution_count": 331,
      "outputs": [
        {
          "output_type": "execute_result",
          "data": {
            "text/plain": [
              "0.034823377532608224"
            ]
          },
          "metadata": {},
          "execution_count": 331
        }
      ]
    },
    {
      "cell_type": "code",
      "source": [
        "ridge_model = Ridge()"
      ],
      "metadata": {
        "id": "GfELp9ZVOfbP"
      },
      "execution_count": 334,
      "outputs": []
    },
    {
      "cell_type": "code",
      "source": [
        "ridge_model.fit(x_train,y_train)"
      ],
      "metadata": {
        "colab": {
          "base_uri": "https://localhost:8080/"
        },
        "id": "SjA_NlhWPP_9",
        "outputId": "2dd13be0-f340-43ba-e56b-7ae841ba5b7c"
      },
      "execution_count": 336,
      "outputs": [
        {
          "output_type": "execute_result",
          "data": {
            "text/plain": [
              "Ridge()"
            ]
          },
          "metadata": {},
          "execution_count": 336
        }
      ]
    },
    {
      "cell_type": "code",
      "source": [
        "ridge_model.score(x_test, y_test)"
      ],
      "metadata": {
        "colab": {
          "base_uri": "https://localhost:8080/"
        },
        "id": "xc21Y2XcPUS3",
        "outputId": "114ffafc-6b92-4fc7-8143-f6ec6c8b37ba"
      },
      "execution_count": 337,
      "outputs": [
        {
          "output_type": "execute_result",
          "data": {
            "text/plain": [
              "0.034879800855174725"
            ]
          },
          "metadata": {},
          "execution_count": 337
        }
      ]
    },
    {
      "cell_type": "code",
      "source": [
        "ridge_model.score(x_train,y_train)"
      ],
      "metadata": {
        "colab": {
          "base_uri": "https://localhost:8080/"
        },
        "id": "b0rHUiVBPV4i",
        "outputId": "bcb47d6b-a698-4479-d6c7-d512e0730e95"
      },
      "execution_count": 338,
      "outputs": [
        {
          "output_type": "execute_result",
          "data": {
            "text/plain": [
              "0.048934200784315984"
            ]
          },
          "metadata": {},
          "execution_count": 338
        }
      ]
    },
    {
      "cell_type": "code",
      "source": [
        "accuracy_score(y_test, y_pred)"
      ],
      "metadata": {
        "colab": {
          "base_uri": "https://localhost:8080/"
        },
        "id": "CnO2U2Y-PXux",
        "outputId": "3c2fd5ba-bde9-4b89-9c8b-154e7e07318b"
      },
      "execution_count": 339,
      "outputs": [
        {
          "output_type": "execute_result",
          "data": {
            "text/plain": [
              "0.4556058495821727"
            ]
          },
          "metadata": {},
          "execution_count": 339
        }
      ]
    }
  ]
}